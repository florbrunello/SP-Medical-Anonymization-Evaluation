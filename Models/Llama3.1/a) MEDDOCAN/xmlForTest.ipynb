{
 "cells": [
  {
   "cell_type": "code",
   "execution_count": 13,
   "id": "cdbb5c68-c242-44dd-adee-36319ce00e00",
   "metadata": {},
   "outputs": [
    {
     "name": "stdout",
     "output_type": "stream",
     "text": [
      "number of GPUs: torch.cuda.device_count()\n",
      "2.6.0+rocm6.1\n"
     ]
    }
   ],
   "source": [
    "import transformers\n",
    "from transformers import AutoTokenizer\n",
    "import torch\n",
    "import os\n",
    "print(f\"number of GPUs: torch.cuda.device_count()\")\n",
    "print(torch.__version__)"
   ]
  },
  {
   "cell_type": "code",
   "execution_count": 14,
   "id": "7ec2ab81-0906-44dc-8795-74e2a25a3b84",
   "metadata": {},
   "outputs": [
    {
     "data": {
      "application/vnd.jupyter.widget-view+json": {
       "model_id": "c9012abe12ca425cbd4ffc9e2ededc83",
       "version_major": 2,
       "version_minor": 0
      },
      "text/plain": [
       "Loading checkpoint shards:   0%|          | 0/4 [00:00<?, ?it/s]"
      ]
     },
     "metadata": {},
     "output_type": "display_data"
    },
    {
     "name": "stderr",
     "output_type": "stream",
     "text": [
      "Device set to use cuda\n"
     ]
    }
   ],
   "source": [
    "model_id = \"meta-llama/Meta-Llama-3.1-8B-Instruct\" \n",
    "\n",
    "if  torch.cuda.is_available():\n",
    "    device = \"cuda\"\n",
    "else:\n",
    "    raise ValueError(\"No se reconoció GPU.\")\n",
    "\n",
    "pipeline = transformers.pipeline(\n",
    "\t\"text-generation\", \n",
    "\tmodel=model_id,\n",
    "\tmodel_kwargs={\"torch_dtype\": torch.bfloat16},\n",
    "\tdevice=device\n",
    ")\n",
    "\n",
    "# Tokenizer necesario para contar tokens\n",
    "tokenizer = transformers.AutoTokenizer.from_pretrained(model_id)"
   ]
  },
  {
   "cell_type": "code",
   "execution_count": null,
   "id": "88945634-1017-440d-94ae-b07f040a180c",
   "metadata": {},
   "outputs": [
    {
     "name": "stderr",
     "output_type": "stream",
     "text": [
      "Setting `pad_token_id` to `eos_token_id`:128001 for open-end generation.\n"
     ]
    },
    {
     "name": "stdout",
     "output_type": "stream",
     "text": [
      "S1134-80462005000300004-1.txt: Tokens de entrada: 3852\n"
     ]
    },
    {
     "name": "stderr",
     "output_type": "stream",
     "text": [
      "Setting `pad_token_id` to `eos_token_id`:128001 for open-end generation.\n"
     ]
    },
    {
     "name": "stdout",
     "output_type": "stream",
     "text": [
      "Procesado: S1134-80462005000300004-1.txt → S1134-80462005000300004-1.xml\n",
      "S0211-69952015000600014-2.txt: Tokens de entrada: 2855\n"
     ]
    },
    {
     "name": "stderr",
     "output_type": "stream",
     "text": [
      "Setting `pad_token_id` to `eos_token_id`:128001 for open-end generation.\n"
     ]
    },
    {
     "name": "stdout",
     "output_type": "stream",
     "text": [
      "Procesado: S0211-69952015000600014-2.txt → S0211-69952015000600014-2.xml\n",
      "S1137-66272006000300009-1.txt: Tokens de entrada: 3357\n"
     ]
    },
    {
     "name": "stderr",
     "output_type": "stream",
     "text": [
      "Setting `pad_token_id` to `eos_token_id`:128001 for open-end generation.\n"
     ]
    },
    {
     "name": "stdout",
     "output_type": "stream",
     "text": [
      "Procesado: S1137-66272006000300009-1.txt → S1137-66272006000300009-1.xml\n",
      "S0376-78922009000200008-1.txt: Tokens de entrada: 3221\n"
     ]
    },
    {
     "name": "stderr",
     "output_type": "stream",
     "text": [
      "Setting `pad_token_id` to `eos_token_id`:128001 for open-end generation.\n"
     ]
    },
    {
     "name": "stdout",
     "output_type": "stream",
     "text": [
      "Procesado: S0376-78922009000200008-1.txt → S0376-78922009000200008-1.xml\n",
      "S0004-06142009000200013-1.txt: Tokens de entrada: 3079\n"
     ]
    },
    {
     "name": "stderr",
     "output_type": "stream",
     "text": [
      "Setting `pad_token_id` to `eos_token_id`:128001 for open-end generation.\n"
     ]
    },
    {
     "name": "stdout",
     "output_type": "stream",
     "text": [
      "Procesado: S0004-06142009000200013-1.txt → S0004-06142009000200013-1.xml\n",
      "S0004-06142009000300014-1.txt: Tokens de entrada: 3026\n"
     ]
    },
    {
     "name": "stderr",
     "output_type": "stream",
     "text": [
      "Setting `pad_token_id` to `eos_token_id`:128001 for open-end generation.\n"
     ]
    },
    {
     "name": "stdout",
     "output_type": "stream",
     "text": [
      "Procesado: S0004-06142009000300014-1.txt → S0004-06142009000300014-1.xml\n",
      "S0365-66912007000900010-1.txt: Tokens de entrada: 3574\n"
     ]
    },
    {
     "name": "stderr",
     "output_type": "stream",
     "text": [
      "Setting `pad_token_id` to `eos_token_id`:128001 for open-end generation.\n"
     ]
    },
    {
     "name": "stdout",
     "output_type": "stream",
     "text": [
      "Procesado: S0365-66912007000900010-1.txt → S0365-66912007000900010-1.xml\n",
      "S1130-05582010000200004-1.txt: Tokens de entrada: 3375\n"
     ]
    },
    {
     "name": "stderr",
     "output_type": "stream",
     "text": [
      "Setting `pad_token_id` to `eos_token_id`:128001 for open-end generation.\n"
     ]
    },
    {
     "name": "stdout",
     "output_type": "stream",
     "text": [
      "Procesado: S1130-05582010000200004-1.txt → S1130-05582010000200004-1.xml\n",
      "S0211-69952016000300015-1.txt: Tokens de entrada: 3654\n"
     ]
    },
    {
     "name": "stderr",
     "output_type": "stream",
     "text": [
      "Setting `pad_token_id` to `eos_token_id`:128001 for open-end generation.\n"
     ]
    },
    {
     "name": "stdout",
     "output_type": "stream",
     "text": [
      "Procesado: S0211-69952016000300015-1.txt → S0211-69952016000300015-1.xml\n",
      "S1134-80462014000500004-1.txt: Tokens de entrada: 4117\n"
     ]
    },
    {
     "name": "stderr",
     "output_type": "stream",
     "text": [
      "Setting `pad_token_id` to `eos_token_id`:128001 for open-end generation.\n"
     ]
    },
    {
     "name": "stdout",
     "output_type": "stream",
     "text": [
      "Procesado: S1134-80462014000500004-1.txt → S1134-80462014000500004-1.xml\n",
      "S0210-56912006000300007-2.txt: Tokens de entrada: 2946\n"
     ]
    },
    {
     "name": "stderr",
     "output_type": "stream",
     "text": [
      "Setting `pad_token_id` to `eos_token_id`:128001 for open-end generation.\n"
     ]
    },
    {
     "name": "stdout",
     "output_type": "stream",
     "text": [
      "Procesado: S0210-56912006000300007-2.txt → S0210-56912006000300007-2.xml\n",
      "S0210-48062003001000009-1.txt: Tokens de entrada: 4238\n",
      "Truncando prompt: S0210-48062003001000009-1.txt\n"
     ]
    },
    {
     "name": "stderr",
     "output_type": "stream",
     "text": [
      "Setting `pad_token_id` to `eos_token_id`:128001 for open-end generation.\n"
     ]
    },
    {
     "name": "stdout",
     "output_type": "stream",
     "text": [
      "Procesado: S0210-48062003001000009-1.txt → S0210-48062003001000009-1.xml\n",
      "S0211-69952012000500016-1.txt: Tokens de entrada: 4085\n"
     ]
    },
    {
     "name": "stderr",
     "output_type": "stream",
     "text": [
      "Setting `pad_token_id` to `eos_token_id`:128001 for open-end generation.\n"
     ]
    },
    {
     "name": "stdout",
     "output_type": "stream",
     "text": [
      "Procesado: S0211-69952012000500016-1.txt → S0211-69952012000500016-1.xml\n",
      "S0378-48352006000400006-1.txt: Tokens de entrada: 3284\n"
     ]
    },
    {
     "name": "stderr",
     "output_type": "stream",
     "text": [
      "Setting `pad_token_id` to `eos_token_id`:128001 for open-end generation.\n"
     ]
    },
    {
     "name": "stdout",
     "output_type": "stream",
     "text": [
      "Procesado: S0378-48352006000400006-1.txt → S0378-48352006000400006-1.xml\n",
      "S1130-01082008000800010-1.txt: Tokens de entrada: 3049\n"
     ]
    },
    {
     "name": "stderr",
     "output_type": "stream",
     "text": [
      "Setting `pad_token_id` to `eos_token_id`:128001 for open-end generation.\n"
     ]
    },
    {
     "name": "stdout",
     "output_type": "stream",
     "text": [
      "Procesado: S1130-01082008000800010-1.txt → S1130-01082008000800010-1.xml\n",
      "S0004-06142006000900015-1.txt: Tokens de entrada: 3230\n"
     ]
    },
    {
     "name": "stderr",
     "output_type": "stream",
     "text": [
      "Setting `pad_token_id` to `eos_token_id`:128001 for open-end generation.\n"
     ]
    },
    {
     "name": "stdout",
     "output_type": "stream",
     "text": [
      "Procesado: S0004-06142006000900015-1.txt → S0004-06142006000900015-1.xml\n",
      "S0004-06142008000500015-1.txt: Tokens de entrada: 3122\n"
     ]
    },
    {
     "name": "stderr",
     "output_type": "stream",
     "text": [
      "Setting `pad_token_id` to `eos_token_id`:128001 for open-end generation.\n"
     ]
    },
    {
     "name": "stdout",
     "output_type": "stream",
     "text": [
      "Procesado: S0004-06142008000500015-1.txt → S0004-06142008000500015-1.xml\n",
      "S2254-28842014000200009-1.txt: Tokens de entrada: 3675\n"
     ]
    },
    {
     "name": "stderr",
     "output_type": "stream",
     "text": [
      "Setting `pad_token_id` to `eos_token_id`:128001 for open-end generation.\n"
     ]
    },
    {
     "name": "stdout",
     "output_type": "stream",
     "text": [
      "Procesado: S2254-28842014000200009-1.txt → S2254-28842014000200009-1.xml\n",
      "S1130-14732006000500005-1.txt: Tokens de entrada: 3448\n"
     ]
    },
    {
     "name": "stderr",
     "output_type": "stream",
     "text": [
      "Setting `pad_token_id` to `eos_token_id`:128001 for open-end generation.\n"
     ]
    },
    {
     "name": "stdout",
     "output_type": "stream",
     "text": [
      "Procesado: S1130-14732006000500005-1.txt → S1130-14732006000500005-1.xml\n",
      "S1698-44472004000100009-1.txt: Tokens de entrada: 3687\n"
     ]
    },
    {
     "name": "stderr",
     "output_type": "stream",
     "text": [
      "Setting `pad_token_id` to `eos_token_id`:128001 for open-end generation.\n"
     ]
    },
    {
     "name": "stdout",
     "output_type": "stream",
     "text": [
      "Procesado: S1698-44472004000100009-1.txt → S1698-44472004000100009-1.xml\n",
      "S1130-14732005000400006-1.txt: Tokens de entrada: 3333\n"
     ]
    },
    {
     "name": "stderr",
     "output_type": "stream",
     "text": [
      "Setting `pad_token_id` to `eos_token_id`:128001 for open-end generation.\n"
     ]
    },
    {
     "name": "stdout",
     "output_type": "stream",
     "text": [
      "Procesado: S1130-14732005000400006-1.txt → S1130-14732005000400006-1.xml\n",
      "S1130-05582011000300005-1.txt: Tokens de entrada: 3250\n"
     ]
    },
    {
     "name": "stderr",
     "output_type": "stream",
     "text": [
      "Setting `pad_token_id` to `eos_token_id`:128001 for open-end generation.\n"
     ]
    },
    {
     "name": "stdout",
     "output_type": "stream",
     "text": [
      "Procesado: S1130-05582011000300005-1.txt → S1130-05582011000300005-1.xml\n",
      "S0210-48062006000400012-1.txt: Tokens de entrada: 3566\n"
     ]
    },
    {
     "name": "stderr",
     "output_type": "stream",
     "text": [
      "Setting `pad_token_id` to `eos_token_id`:128001 for open-end generation.\n"
     ]
    },
    {
     "name": "stdout",
     "output_type": "stream",
     "text": [
      "Procesado: S0210-48062006000400012-1.txt → S0210-48062006000400012-1.xml\n",
      "S1130-05582013000400006-1.txt: Tokens de entrada: 3175\n"
     ]
    },
    {
     "name": "stderr",
     "output_type": "stream",
     "text": [
      "Setting `pad_token_id` to `eos_token_id`:128001 for open-end generation.\n"
     ]
    },
    {
     "name": "stdout",
     "output_type": "stream",
     "text": [
      "Procesado: S1130-05582013000400006-1.txt → S1130-05582013000400006-1.xml\n",
      "S0210-48062007001000004-4.txt: Tokens de entrada: 3391\n"
     ]
    },
    {
     "name": "stderr",
     "output_type": "stream",
     "text": [
      "Setting `pad_token_id` to `eos_token_id`:128001 for open-end generation.\n"
     ]
    },
    {
     "name": "stdout",
     "output_type": "stream",
     "text": [
      "Procesado: S0210-48062007001000004-4.txt → S0210-48062007001000004-4.xml\n",
      "S0210-48062009000600016-1.txt: Tokens de entrada: 3130\n"
     ]
    },
    {
     "name": "stderr",
     "output_type": "stream",
     "text": [
      "Setting `pad_token_id` to `eos_token_id`:128001 for open-end generation.\n"
     ]
    },
    {
     "name": "stdout",
     "output_type": "stream",
     "text": [
      "Procesado: S0210-48062009000600016-1.txt → S0210-48062009000600016-1.xml\n",
      "S0376-78922016000300005-1.txt: Tokens de entrada: 3142\n"
     ]
    },
    {
     "name": "stderr",
     "output_type": "stream",
     "text": [
      "Setting `pad_token_id` to `eos_token_id`:128001 for open-end generation.\n"
     ]
    },
    {
     "name": "stdout",
     "output_type": "stream",
     "text": [
      "Procesado: S0376-78922016000300005-1.txt → S0376-78922016000300005-1.xml\n",
      "S1889-836X2015000200005-2.txt: Tokens de entrada: 3523\n"
     ]
    },
    {
     "name": "stderr",
     "output_type": "stream",
     "text": [
      "Setting `pad_token_id` to `eos_token_id`:128001 for open-end generation.\n"
     ]
    },
    {
     "name": "stdout",
     "output_type": "stream",
     "text": [
      "Procesado: S1889-836X2015000200005-2.txt → S1889-836X2015000200005-2.xml\n",
      "S1699-695X2017000100011-1.txt: Tokens de entrada: 3166\n"
     ]
    },
    {
     "name": "stderr",
     "output_type": "stream",
     "text": [
      "Setting `pad_token_id` to `eos_token_id`:128001 for open-end generation.\n"
     ]
    },
    {
     "name": "stdout",
     "output_type": "stream",
     "text": [
      "Procesado: S1699-695X2017000100011-1.txt → S1699-695X2017000100011-1.xml\n",
      "S1699-695X2014000200007-1.txt: Tokens de entrada: 3338\n"
     ]
    },
    {
     "name": "stderr",
     "output_type": "stream",
     "text": [
      "Setting `pad_token_id` to `eos_token_id`:128001 for open-end generation.\n"
     ]
    },
    {
     "name": "stdout",
     "output_type": "stream",
     "text": [
      "Procesado: S1699-695X2014000200007-1.txt → S1699-695X2014000200007-1.xml\n",
      "S1887-85712015000200004-1.txt: Tokens de entrada: 3851\n"
     ]
    },
    {
     "name": "stderr",
     "output_type": "stream",
     "text": [
      "Setting `pad_token_id` to `eos_token_id`:128001 for open-end generation.\n"
     ]
    },
    {
     "name": "stdout",
     "output_type": "stream",
     "text": [
      "Procesado: S1887-85712015000200004-1.txt → S1887-85712015000200004-1.xml\n",
      "S1130-05582008000600006-1.txt: Tokens de entrada: 3584\n"
     ]
    },
    {
     "name": "stderr",
     "output_type": "stream",
     "text": [
      "Setting `pad_token_id` to `eos_token_id`:128001 for open-end generation.\n"
     ]
    },
    {
     "name": "stdout",
     "output_type": "stream",
     "text": [
      "Procesado: S1130-05582008000600006-1.txt → S1130-05582008000600006-1.xml\n",
      "S1130-63432013000600017-1.txt: Tokens de entrada: 3157\n"
     ]
    },
    {
     "name": "stderr",
     "output_type": "stream",
     "text": [
      "Setting `pad_token_id` to `eos_token_id`:128001 for open-end generation.\n"
     ]
    },
    {
     "name": "stdout",
     "output_type": "stream",
     "text": [
      "Procesado: S1130-63432013000600017-1.txt → S1130-63432013000600017-1.xml\n",
      "S1130-01082008001000008-1.txt: Tokens de entrada: 2843\n"
     ]
    },
    {
     "name": "stderr",
     "output_type": "stream",
     "text": [
      "Setting `pad_token_id` to `eos_token_id`:128001 for open-end generation.\n"
     ]
    },
    {
     "name": "stdout",
     "output_type": "stream",
     "text": [
      "Procesado: S1130-01082008001000008-1.txt → S1130-01082008001000008-1.xml\n",
      "S1130-01082005000500013-1.txt: Tokens de entrada: 3244\n"
     ]
    },
    {
     "name": "stderr",
     "output_type": "stream",
     "text": [
      "Setting `pad_token_id` to `eos_token_id`:128001 for open-end generation.\n"
     ]
    },
    {
     "name": "stdout",
     "output_type": "stream",
     "text": [
      "Procesado: S1130-01082005000500013-1.txt → S1130-01082005000500013-1.xml\n",
      "S1137-66272012000300021-1.txt: Tokens de entrada: 3274\n"
     ]
    },
    {
     "name": "stderr",
     "output_type": "stream",
     "text": [
      "Setting `pad_token_id` to `eos_token_id`:128001 for open-end generation.\n"
     ]
    },
    {
     "name": "stdout",
     "output_type": "stream",
     "text": [
      "Procesado: S1137-66272012000300021-1.txt → S1137-66272012000300021-1.xml\n",
      "S0365-66912004000800009-1.txt: Tokens de entrada: 3068\n"
     ]
    },
    {
     "name": "stderr",
     "output_type": "stream",
     "text": [
      "Setting `pad_token_id` to `eos_token_id`:128001 for open-end generation.\n"
     ]
    },
    {
     "name": "stdout",
     "output_type": "stream",
     "text": [
      "Procesado: S0365-66912004000800009-1.txt → S0365-66912004000800009-1.xml\n",
      "S1134-80462005000100007-1.txt: Tokens de entrada: 3513\n"
     ]
    },
    {
     "name": "stderr",
     "output_type": "stream",
     "text": [
      "Setting `pad_token_id` to `eos_token_id`:128001 for open-end generation.\n"
     ]
    },
    {
     "name": "stdout",
     "output_type": "stream",
     "text": [
      "Procesado: S1134-80462005000100007-1.txt → S1134-80462005000100007-1.xml\n",
      "S0210-56912008000200007-1.txt: Tokens de entrada: 3238\n"
     ]
    },
    {
     "name": "stderr",
     "output_type": "stream",
     "text": [
      "Setting `pad_token_id` to `eos_token_id`:128001 for open-end generation.\n"
     ]
    },
    {
     "name": "stdout",
     "output_type": "stream",
     "text": [
      "Procesado: S0210-56912008000200007-1.txt → S0210-56912008000200007-1.xml\n",
      "S1130-05582017000300150-3.txt: Tokens de entrada: 2753\n"
     ]
    },
    {
     "name": "stderr",
     "output_type": "stream",
     "text": [
      "Setting `pad_token_id` to `eos_token_id`:128001 for open-end generation.\n"
     ]
    },
    {
     "name": "stdout",
     "output_type": "stream",
     "text": [
      "Procesado: S1130-05582017000300150-3.txt → S1130-05582017000300150-3.xml\n",
      "S1130-01082008000900016-1.txt: Tokens de entrada: 2983\n"
     ]
    },
    {
     "name": "stderr",
     "output_type": "stream",
     "text": [
      "Setting `pad_token_id` to `eos_token_id`:128001 for open-end generation.\n"
     ]
    },
    {
     "name": "stdout",
     "output_type": "stream",
     "text": [
      "Procesado: S1130-01082008000900016-1.txt → S1130-01082008000900016-1.xml\n",
      "S0004-06142006000900014-1.txt: Tokens de entrada: 3467\n"
     ]
    },
    {
     "name": "stderr",
     "output_type": "stream",
     "text": [
      "Setting `pad_token_id` to `eos_token_id`:128001 for open-end generation.\n"
     ]
    },
    {
     "name": "stdout",
     "output_type": "stream",
     "text": [
      "Procesado: S0004-06142006000900014-1.txt → S0004-06142006000900014-1.xml\n",
      "S0211-69952017000200225-1.txt: Tokens de entrada: 3209\n"
     ]
    },
    {
     "name": "stderr",
     "output_type": "stream",
     "text": [
      "Setting `pad_token_id` to `eos_token_id`:128001 for open-end generation.\n"
     ]
    },
    {
     "name": "stdout",
     "output_type": "stream",
     "text": [
      "Procesado: S0211-69952017000200225-1.txt → S0211-69952017000200225-1.xml\n",
      "S0210-48062004000300007-1.txt: Tokens de entrada: 3667\n"
     ]
    },
    {
     "name": "stderr",
     "output_type": "stream",
     "text": [
      "Setting `pad_token_id` to `eos_token_id`:128001 for open-end generation.\n"
     ]
    },
    {
     "name": "stdout",
     "output_type": "stream",
     "text": [
      "Procesado: S0210-48062004000300007-1.txt → S0210-48062004000300007-1.xml\n",
      "S0004-06142007000900013-1.txt: Tokens de entrada: 2961\n"
     ]
    },
    {
     "name": "stderr",
     "output_type": "stream",
     "text": [
      "Setting `pad_token_id` to `eos_token_id`:128001 for open-end generation.\n"
     ]
    },
    {
     "name": "stdout",
     "output_type": "stream",
     "text": [
      "Procesado: S0004-06142007000900013-1.txt → S0004-06142007000900013-1.xml\n",
      "S1139-76322009000700014-2.txt: Tokens de entrada: 3371\n"
     ]
    },
    {
     "name": "stderr",
     "output_type": "stream",
     "text": [
      "Setting `pad_token_id` to `eos_token_id`:128001 for open-end generation.\n"
     ]
    },
    {
     "name": "stdout",
     "output_type": "stream",
     "text": [
      "Procesado: S1139-76322009000700014-2.txt → S1139-76322009000700014-2.xml\n",
      "S1130-01082006000700014-1.txt: Tokens de entrada: 3223\n"
     ]
    },
    {
     "name": "stderr",
     "output_type": "stream",
     "text": [
      "Setting `pad_token_id` to `eos_token_id`:128001 for open-end generation.\n"
     ]
    },
    {
     "name": "stdout",
     "output_type": "stream",
     "text": [
      "Procesado: S1130-01082006000700014-1.txt → S1130-01082006000700014-1.xml\n",
      "S0004-06142008000600011-1.txt: Tokens de entrada: 3566\n"
     ]
    },
    {
     "name": "stderr",
     "output_type": "stream",
     "text": [
      "Setting `pad_token_id` to `eos_token_id`:128001 for open-end generation.\n"
     ]
    },
    {
     "name": "stdout",
     "output_type": "stream",
     "text": [
      "Procesado: S0004-06142008000600011-1.txt → S0004-06142008000600011-1.xml\n",
      "S0211-69952014000400020-1.txt: Tokens de entrada: 2931\n"
     ]
    },
    {
     "name": "stderr",
     "output_type": "stream",
     "text": [
      "Setting `pad_token_id` to `eos_token_id`:128001 for open-end generation.\n"
     ]
    },
    {
     "name": "stdout",
     "output_type": "stream",
     "text": [
      "Procesado: S0211-69952014000400020-1.txt → S0211-69952014000400020-1.xml\n",
      "S0365-66912012000500005-1.txt: Tokens de entrada: 3330\n"
     ]
    },
    {
     "name": "stderr",
     "output_type": "stream",
     "text": [
      "Setting `pad_token_id` to `eos_token_id`:128001 for open-end generation.\n"
     ]
    },
    {
     "name": "stdout",
     "output_type": "stream",
     "text": [
      "Procesado: S0365-66912012000500005-1.txt → S0365-66912012000500005-1.xml\n",
      "S1137-66272012000100018-1.txt: Tokens de entrada: 3700\n"
     ]
    },
    {
     "name": "stderr",
     "output_type": "stream",
     "text": [
      "Setting `pad_token_id` to `eos_token_id`:128001 for open-end generation.\n"
     ]
    },
    {
     "name": "stdout",
     "output_type": "stream",
     "text": [
      "Procesado: S1137-66272012000100018-1.txt → S1137-66272012000100018-1.xml\n",
      "S0210-56912007000200007-3.txt: Tokens de entrada: 3295\n"
     ]
    },
    {
     "name": "stderr",
     "output_type": "stream",
     "text": [
      "Setting `pad_token_id` to `eos_token_id`:128001 for open-end generation.\n"
     ]
    },
    {
     "name": "stdout",
     "output_type": "stream",
     "text": [
      "Procesado: S0210-56912007000200007-3.txt → S0210-56912007000200007-3.xml\n",
      "S0212-16112009000300015-1.txt: Tokens de entrada: 3010\n"
     ]
    },
    {
     "name": "stderr",
     "output_type": "stream",
     "text": [
      "Setting `pad_token_id` to `eos_token_id`:128001 for open-end generation.\n"
     ]
    },
    {
     "name": "stdout",
     "output_type": "stream",
     "text": [
      "Procesado: S0212-16112009000300015-1.txt → S0212-16112009000300015-1.xml\n",
      "S1134-80462009000800005-1.txt: Tokens de entrada: 3572\n"
     ]
    },
    {
     "name": "stderr",
     "output_type": "stream",
     "text": [
      "Setting `pad_token_id` to `eos_token_id`:128001 for open-end generation.\n"
     ]
    },
    {
     "name": "stdout",
     "output_type": "stream",
     "text": [
      "Procesado: S1134-80462009000800005-1.txt → S1134-80462009000800005-1.xml\n",
      "S0211-69952014000600016-1.txt: Tokens de entrada: 2887\n"
     ]
    },
    {
     "name": "stderr",
     "output_type": "stream",
     "text": [
      "Setting `pad_token_id` to `eos_token_id`:128001 for open-end generation.\n"
     ]
    },
    {
     "name": "stdout",
     "output_type": "stream",
     "text": [
      "Procesado: S0211-69952014000600016-1.txt → S0211-69952014000600016-1.xml\n",
      "S0210-48062009001000019-1.txt: Tokens de entrada: 3323\n"
     ]
    },
    {
     "name": "stderr",
     "output_type": "stream",
     "text": [
      "Setting `pad_token_id` to `eos_token_id`:128001 for open-end generation.\n"
     ]
    },
    {
     "name": "stdout",
     "output_type": "stream",
     "text": [
      "Procesado: S0210-48062009001000019-1.txt → S0210-48062009001000019-1.xml\n",
      "S0212-71992006000600008-1.txt: Tokens de entrada: 3088\n"
     ]
    },
    {
     "name": "stderr",
     "output_type": "stream",
     "text": [
      "Setting `pad_token_id` to `eos_token_id`:128001 for open-end generation.\n"
     ]
    },
    {
     "name": "stdout",
     "output_type": "stream",
     "text": [
      "Procesado: S0212-71992006000600008-1.txt → S0212-71992006000600008-1.xml\n",
      "S0378-48352006000300005-1.txt: Tokens de entrada: 3715\n"
     ]
    },
    {
     "name": "stderr",
     "output_type": "stream",
     "text": [
      "Setting `pad_token_id` to `eos_token_id`:128001 for open-end generation.\n"
     ]
    },
    {
     "name": "stdout",
     "output_type": "stream",
     "text": [
      "Procesado: S0378-48352006000300005-1.txt → S0378-48352006000300005-1.xml\n",
      "S0365-66912007000700011-1.txt: Tokens de entrada: 3051\n"
     ]
    },
    {
     "name": "stderr",
     "output_type": "stream",
     "text": [
      "Setting `pad_token_id` to `eos_token_id`:128001 for open-end generation.\n"
     ]
    },
    {
     "name": "stdout",
     "output_type": "stream",
     "text": [
      "Procesado: S0365-66912007000700011-1.txt → S0365-66912007000700011-1.xml\n",
      "S0004-06142008000700003-1.txt: Tokens de entrada: 3281\n"
     ]
    },
    {
     "name": "stderr",
     "output_type": "stream",
     "text": [
      "Setting `pad_token_id` to `eos_token_id`:128001 for open-end generation.\n"
     ]
    },
    {
     "name": "stdout",
     "output_type": "stream",
     "text": [
      "Procesado: S0004-06142008000700003-1.txt → S0004-06142008000700003-1.xml\n",
      "S1130-63432013000400011-2.txt: Tokens de entrada: 3032\n"
     ]
    },
    {
     "name": "stderr",
     "output_type": "stream",
     "text": [
      "Setting `pad_token_id` to `eos_token_id`:128001 for open-end generation.\n"
     ]
    },
    {
     "name": "stdout",
     "output_type": "stream",
     "text": [
      "Procesado: S1130-63432013000400011-2.txt → S1130-63432013000400011-2.xml\n",
      "S1699-695X2016000200010-1.txt: Tokens de entrada: 3224\n"
     ]
    },
    {
     "name": "stderr",
     "output_type": "stream",
     "text": [
      "Setting `pad_token_id` to `eos_token_id`:128001 for open-end generation.\n"
     ]
    },
    {
     "name": "stdout",
     "output_type": "stream",
     "text": [
      "Procesado: S1699-695X2016000200010-1.txt → S1699-695X2016000200010-1.xml\n",
      "S0004-06142007000100015-1.txt: Tokens de entrada: 3525\n"
     ]
    },
    {
     "name": "stderr",
     "output_type": "stream",
     "text": [
      "Setting `pad_token_id` to `eos_token_id`:128001 for open-end generation.\n"
     ]
    },
    {
     "name": "stdout",
     "output_type": "stream",
     "text": [
      "Procesado: S0004-06142007000100015-1.txt → S0004-06142007000100015-1.xml\n",
      "S0378-48352004000300007-1.txt: Tokens de entrada: 3453\n"
     ]
    },
    {
     "name": "stderr",
     "output_type": "stream",
     "text": [
      "Setting `pad_token_id` to `eos_token_id`:128001 for open-end generation.\n"
     ]
    },
    {
     "name": "stdout",
     "output_type": "stream",
     "text": [
      "Procesado: S0378-48352004000300007-1.txt → S0378-48352004000300007-1.xml\n",
      "S0004-06142009000900011-1.txt: Tokens de entrada: 3107\n"
     ]
    },
    {
     "name": "stderr",
     "output_type": "stream",
     "text": [
      "Setting `pad_token_id` to `eos_token_id`:128001 for open-end generation.\n"
     ]
    },
    {
     "name": "stdout",
     "output_type": "stream",
     "text": [
      "Procesado: S0004-06142009000900011-1.txt → S0004-06142009000900011-1.xml\n",
      "S1139-76322017000200009-1.txt: Tokens de entrada: 3118\n"
     ]
    },
    {
     "name": "stderr",
     "output_type": "stream",
     "text": [
      "Setting `pad_token_id` to `eos_token_id`:128001 for open-end generation.\n"
     ]
    },
    {
     "name": "stdout",
     "output_type": "stream",
     "text": [
      "Procesado: S1139-76322017000200009-1.txt → S1139-76322017000200009-1.xml\n",
      "S1130-01082008000900015-1.txt: Tokens de entrada: 3074\n"
     ]
    },
    {
     "name": "stderr",
     "output_type": "stream",
     "text": [
      "Setting `pad_token_id` to `eos_token_id`:128001 for open-end generation.\n"
     ]
    },
    {
     "name": "stdout",
     "output_type": "stream",
     "text": [
      "Procesado: S1130-01082008000900015-1.txt → S1130-01082008000900015-1.xml\n",
      "S1130-01082007001100010-1.txt: Tokens de entrada: 3079\n"
     ]
    },
    {
     "name": "stderr",
     "output_type": "stream",
     "text": [
      "Setting `pad_token_id` to `eos_token_id`:128001 for open-end generation.\n"
     ]
    },
    {
     "name": "stdout",
     "output_type": "stream",
     "text": [
      "Procesado: S1130-01082007001100010-1.txt → S1130-01082007001100010-1.xml\n",
      "S0365-66912012000700004-1.txt: Tokens de entrada: 2913\n"
     ]
    },
    {
     "name": "stderr",
     "output_type": "stream",
     "text": [
      "Setting `pad_token_id` to `eos_token_id`:128001 for open-end generation.\n"
     ]
    },
    {
     "name": "stdout",
     "output_type": "stream",
     "text": [
      "Procesado: S0365-66912012000700004-1.txt → S0365-66912012000700004-1.xml\n",
      "S1139-76322013000100009-1.txt: Tokens de entrada: 2950\n"
     ]
    },
    {
     "name": "stderr",
     "output_type": "stream",
     "text": [
      "Setting `pad_token_id` to `eos_token_id`:128001 for open-end generation.\n"
     ]
    },
    {
     "name": "stdout",
     "output_type": "stream",
     "text": [
      "Procesado: S1139-76322013000100009-1.txt → S1139-76322013000100009-1.xml\n",
      "S1130-01082007001000017-1.txt: Tokens de entrada: 3461\n"
     ]
    },
    {
     "name": "stderr",
     "output_type": "stream",
     "text": [
      "Setting `pad_token_id` to `eos_token_id`:128001 for open-end generation.\n"
     ]
    },
    {
     "name": "stdout",
     "output_type": "stream",
     "text": [
      "Procesado: S1130-01082007001000017-1.txt → S1130-01082007001000017-1.xml\n",
      "S0210-48062006000200017-1.txt: Tokens de entrada: 3405\n"
     ]
    },
    {
     "name": "stderr",
     "output_type": "stream",
     "text": [
      "Setting `pad_token_id` to `eos_token_id`:128001 for open-end generation.\n"
     ]
    },
    {
     "name": "stdout",
     "output_type": "stream",
     "text": [
      "Procesado: S0210-48062006000200017-1.txt → S0210-48062006000200017-1.xml\n",
      "S0213-12852006000600002-1.txt: Tokens de entrada: 3931\n"
     ]
    },
    {
     "name": "stderr",
     "output_type": "stream",
     "text": [
      "Setting `pad_token_id` to `eos_token_id`:128001 for open-end generation.\n"
     ]
    },
    {
     "name": "stdout",
     "output_type": "stream",
     "text": [
      "Procesado: S0213-12852006000600002-1.txt → S0213-12852006000600002-1.xml\n",
      "S0365-66912006000100010-1.txt: Tokens de entrada: 3252\n"
     ]
    },
    {
     "name": "stderr",
     "output_type": "stream",
     "text": [
      "Setting `pad_token_id` to `eos_token_id`:128001 for open-end generation.\n"
     ]
    },
    {
     "name": "stdout",
     "output_type": "stream",
     "text": [
      "Procesado: S0365-66912006000100010-1.txt → S0365-66912006000100010-1.xml\n",
      "S1139-76322016000400012-1.txt: Tokens de entrada: 3142\n"
     ]
    },
    {
     "name": "stderr",
     "output_type": "stream",
     "text": [
      "Setting `pad_token_id` to `eos_token_id`:128001 for open-end generation.\n"
     ]
    },
    {
     "name": "stdout",
     "output_type": "stream",
     "text": [
      "Procesado: S1139-76322016000400012-1.txt → S1139-76322016000400012-1.xml\n",
      "S1135-76062011000200009-1.txt: Tokens de entrada: 2806\n"
     ]
    },
    {
     "name": "stderr",
     "output_type": "stream",
     "text": [
      "Setting `pad_token_id` to `eos_token_id`:128001 for open-end generation.\n"
     ]
    },
    {
     "name": "stdout",
     "output_type": "stream",
     "text": [
      "Procesado: S1135-76062011000200009-1.txt → S1135-76062011000200009-1.xml\n",
      "S0212-71992006000100005-1.txt: Tokens de entrada: 3419\n"
     ]
    },
    {
     "name": "stderr",
     "output_type": "stream",
     "text": [
      "Setting `pad_token_id` to `eos_token_id`:128001 for open-end generation.\n"
     ]
    },
    {
     "name": "stdout",
     "output_type": "stream",
     "text": [
      "Procesado: S0212-71992006000100005-1.txt → S0212-71992006000100005-1.xml\n",
      "S0376-78922016000300010-1.txt: Tokens de entrada: 3885\n"
     ]
    },
    {
     "name": "stderr",
     "output_type": "stream",
     "text": [
      "Setting `pad_token_id` to `eos_token_id`:128001 for open-end generation.\n"
     ]
    },
    {
     "name": "stdout",
     "output_type": "stream",
     "text": [
      "Procesado: S0376-78922016000300010-1.txt → S0376-78922016000300010-1.xml\n",
      "S0212-71992007000200007-1.txt: Tokens de entrada: 3218\n"
     ]
    },
    {
     "name": "stderr",
     "output_type": "stream",
     "text": [
      "Setting `pad_token_id` to `eos_token_id`:128001 for open-end generation.\n"
     ]
    },
    {
     "name": "stdout",
     "output_type": "stream",
     "text": [
      "Procesado: S0212-71992007000200007-1.txt → S0212-71992007000200007-1.xml\n",
      "S1139-76322017000200016-3.txt: Tokens de entrada: 2761\n"
     ]
    },
    {
     "name": "stderr",
     "output_type": "stream",
     "text": [
      "Setting `pad_token_id` to `eos_token_id`:128001 for open-end generation.\n"
     ]
    },
    {
     "name": "stdout",
     "output_type": "stream",
     "text": [
      "Procesado: S1139-76322017000200016-3.txt → S1139-76322017000200016-3.xml\n",
      "S0211-69952013000200025-1.txt: Tokens de entrada: 3215\n"
     ]
    },
    {
     "name": "stderr",
     "output_type": "stream",
     "text": [
      "Setting `pad_token_id` to `eos_token_id`:128001 for open-end generation.\n"
     ]
    },
    {
     "name": "stdout",
     "output_type": "stream",
     "text": [
      "Procesado: S0211-69952013000200025-1.txt → S0211-69952013000200025-1.xml\n",
      "S0004-06142007000900010-1.txt: Tokens de entrada: 3330\n"
     ]
    },
    {
     "name": "stderr",
     "output_type": "stream",
     "text": [
      "Setting `pad_token_id` to `eos_token_id`:128001 for open-end generation.\n"
     ]
    },
    {
     "name": "stdout",
     "output_type": "stream",
     "text": [
      "Procesado: S0004-06142007000900010-1.txt → S0004-06142007000900010-1.xml\n",
      "S0004-06142007000600014-1.txt: Tokens de entrada: 3123\n"
     ]
    },
    {
     "name": "stderr",
     "output_type": "stream",
     "text": [
      "Setting `pad_token_id` to `eos_token_id`:128001 for open-end generation.\n"
     ]
    },
    {
     "name": "stdout",
     "output_type": "stream",
     "text": [
      "Procesado: S0004-06142007000600014-1.txt → S0004-06142007000600014-1.xml\n",
      "S1130-01082007000400015-1.txt: Tokens de entrada: 3000\n"
     ]
    },
    {
     "name": "stderr",
     "output_type": "stream",
     "text": [
      "Setting `pad_token_id` to `eos_token_id`:128001 for open-end generation.\n"
     ]
    },
    {
     "name": "stdout",
     "output_type": "stream",
     "text": [
      "Procesado: S1130-01082007000400015-1.txt → S1130-01082007000400015-1.xml\n",
      "S1130-01082009000900012-1.txt: Tokens de entrada: 3151\n"
     ]
    },
    {
     "name": "stderr",
     "output_type": "stream",
     "text": [
      "Setting `pad_token_id` to `eos_token_id`:128001 for open-end generation.\n"
     ]
    },
    {
     "name": "stdout",
     "output_type": "stream",
     "text": [
      "Procesado: S1130-01082009000900012-1.txt → S1130-01082009000900012-1.xml\n",
      "S0210-48062004000800009-1.txt: Tokens de entrada: 3156\n"
     ]
    },
    {
     "name": "stderr",
     "output_type": "stream",
     "text": [
      "Setting `pad_token_id` to `eos_token_id`:128001 for open-end generation.\n"
     ]
    },
    {
     "name": "stdout",
     "output_type": "stream",
     "text": [
      "Procesado: S0210-48062004000800009-1.txt → S0210-48062004000800009-1.xml\n",
      "S0210-48062009000600018-1.txt: Tokens de entrada: 3427\n"
     ]
    },
    {
     "name": "stderr",
     "output_type": "stream",
     "text": [
      "Setting `pad_token_id` to `eos_token_id`:128001 for open-end generation.\n"
     ]
    },
    {
     "name": "stdout",
     "output_type": "stream",
     "text": [
      "Procesado: S0210-48062009000600018-1.txt → S0210-48062009000600018-1.xml\n",
      "S1134-80462005000300007-1.txt: Tokens de entrada: 3459\n"
     ]
    },
    {
     "name": "stderr",
     "output_type": "stream",
     "text": [
      "Setting `pad_token_id` to `eos_token_id`:128001 for open-end generation.\n"
     ]
    },
    {
     "name": "stdout",
     "output_type": "stream",
     "text": [
      "Procesado: S1134-80462005000300007-1.txt → S1134-80462005000300007-1.xml\n",
      "S0365-66912011000400005-1.txt: Tokens de entrada: 3132\n"
     ]
    },
    {
     "name": "stderr",
     "output_type": "stream",
     "text": [
      "Setting `pad_token_id` to `eos_token_id`:128001 for open-end generation.\n"
     ]
    },
    {
     "name": "stdout",
     "output_type": "stream",
     "text": [
      "Procesado: S0365-66912011000400005-1.txt → S0365-66912011000400005-1.xml\n",
      "S1139-76322016000300012-1.txt: Tokens de entrada: 3056\n"
     ]
    },
    {
     "name": "stderr",
     "output_type": "stream",
     "text": [
      "Setting `pad_token_id` to `eos_token_id`:128001 for open-end generation.\n"
     ]
    },
    {
     "name": "stdout",
     "output_type": "stream",
     "text": [
      "Procesado: S1139-76322016000300012-1.txt → S1139-76322016000300012-1.xml\n",
      "S1137-66272013000200023-1.txt: Tokens de entrada: 3779\n"
     ]
    },
    {
     "name": "stderr",
     "output_type": "stream",
     "text": [
      "Setting `pad_token_id` to `eos_token_id`:128001 for open-end generation.\n"
     ]
    },
    {
     "name": "stdout",
     "output_type": "stream",
     "text": [
      "Procesado: S1137-66272013000200023-1.txt → S1137-66272013000200023-1.xml\n",
      "S1130-01082010000100021-1.txt: Tokens de entrada: 2858\n"
     ]
    },
    {
     "name": "stderr",
     "output_type": "stream",
     "text": [
      "Setting `pad_token_id` to `eos_token_id`:128001 for open-end generation.\n"
     ]
    },
    {
     "name": "stdout",
     "output_type": "stream",
     "text": [
      "Procesado: S1130-01082010000100021-1.txt → S1130-01082010000100021-1.xml\n",
      "S0004-06142010000500011-1.txt: Tokens de entrada: 3469\n"
     ]
    },
    {
     "name": "stderr",
     "output_type": "stream",
     "text": [
      "Setting `pad_token_id` to `eos_token_id`:128001 for open-end generation.\n"
     ]
    },
    {
     "name": "stdout",
     "output_type": "stream",
     "text": [
      "Procesado: S0004-06142010000500011-1.txt → S0004-06142010000500011-1.xml\n",
      "S1130-01082008000800009-1.txt: Tokens de entrada: 3080\n"
     ]
    },
    {
     "name": "stderr",
     "output_type": "stream",
     "text": [
      "Setting `pad_token_id` to `eos_token_id`:128001 for open-end generation.\n"
     ]
    },
    {
     "name": "stdout",
     "output_type": "stream",
     "text": [
      "Procesado: S1130-01082008000800009-1.txt → S1130-01082008000800009-1.xml\n",
      "S1137-66272012000300023-1.txt: Tokens de entrada: 3012\n"
     ]
    },
    {
     "name": "stderr",
     "output_type": "stream",
     "text": [
      "Setting `pad_token_id` to `eos_token_id`:128001 for open-end generation.\n"
     ]
    },
    {
     "name": "stdout",
     "output_type": "stream",
     "text": [
      "Procesado: S1137-66272012000300023-1.txt → S1137-66272012000300023-1.xml\n",
      "S1134-80462009000800008-1.txt: Tokens de entrada: 3125\n"
     ]
    },
    {
     "name": "stderr",
     "output_type": "stream",
     "text": [
      "Setting `pad_token_id` to `eos_token_id`:128001 for open-end generation.\n"
     ]
    },
    {
     "name": "stdout",
     "output_type": "stream",
     "text": [
      "Procesado: S1134-80462009000800008-1.txt → S1134-80462009000800008-1.xml\n",
      "S0210-48062004000400008-1.txt: Tokens de entrada: 3295\n"
     ]
    },
    {
     "name": "stderr",
     "output_type": "stream",
     "text": [
      "Setting `pad_token_id` to `eos_token_id`:128001 for open-end generation.\n"
     ]
    },
    {
     "name": "stdout",
     "output_type": "stream",
     "text": [
      "Procesado: S0210-48062004000400008-1.txt → S0210-48062004000400008-1.xml\n",
      "S1134-80462008000800003-1.txt: Tokens de entrada: 3256\n"
     ]
    },
    {
     "name": "stderr",
     "output_type": "stream",
     "text": [
      "Setting `pad_token_id` to `eos_token_id`:128001 for open-end generation.\n"
     ]
    },
    {
     "name": "stdout",
     "output_type": "stream",
     "text": [
      "Procesado: S1134-80462008000800003-1.txt → S1134-80462008000800003-1.xml\n",
      "S0004-06142009000100010-3.txt: Tokens de entrada: 2920\n"
     ]
    },
    {
     "name": "stderr",
     "output_type": "stream",
     "text": [
      "Setting `pad_token_id` to `eos_token_id`:128001 for open-end generation.\n"
     ]
    },
    {
     "name": "stdout",
     "output_type": "stream",
     "text": [
      "Procesado: S0004-06142009000100010-3.txt → S0004-06142009000100010-3.xml\n",
      "S1130-05582017000200099-1.txt: Tokens de entrada: 3040\n"
     ]
    },
    {
     "name": "stderr",
     "output_type": "stream",
     "text": [
      "Setting `pad_token_id` to `eos_token_id`:128001 for open-end generation.\n"
     ]
    },
    {
     "name": "stdout",
     "output_type": "stream",
     "text": [
      "Procesado: S1130-05582017000200099-1.txt → S1130-05582017000200099-1.xml\n",
      "S0210-48062005000800014-1.txt: Tokens de entrada: 2918\n"
     ]
    },
    {
     "name": "stderr",
     "output_type": "stream",
     "text": [
      "Setting `pad_token_id` to `eos_token_id`:128001 for open-end generation.\n"
     ]
    },
    {
     "name": "stdout",
     "output_type": "stream",
     "text": [
      "Procesado: S0210-48062005000800014-1.txt → S0210-48062005000800014-1.xml\n",
      "S0004-06142010000100015-1.txt: Tokens de entrada: 2898\n"
     ]
    },
    {
     "name": "stderr",
     "output_type": "stream",
     "text": [
      "Setting `pad_token_id` to `eos_token_id`:128001 for open-end generation.\n"
     ]
    },
    {
     "name": "stdout",
     "output_type": "stream",
     "text": [
      "Procesado: S0004-06142010000100015-1.txt → S0004-06142010000100015-1.xml\n",
      "S1135-76062013000200010-1.txt: Tokens de entrada: 3476\n"
     ]
    },
    {
     "name": "stderr",
     "output_type": "stream",
     "text": [
      "Setting `pad_token_id` to `eos_token_id`:128001 for open-end generation.\n"
     ]
    },
    {
     "name": "stdout",
     "output_type": "stream",
     "text": [
      "Procesado: S1135-76062013000200010-1.txt → S1135-76062013000200010-1.xml\n",
      "S1699-695X2015000300013-1.txt: Tokens de entrada: 3486\n"
     ]
    },
    {
     "name": "stderr",
     "output_type": "stream",
     "text": [
      "Setting `pad_token_id` to `eos_token_id`:128001 for open-end generation.\n"
     ]
    },
    {
     "name": "stdout",
     "output_type": "stream",
     "text": [
      "Procesado: S1699-695X2015000300013-1.txt → S1699-695X2015000300013-1.xml\n",
      "S0376-78922013000300013-1.txt: Tokens de entrada: 3616\n"
     ]
    },
    {
     "name": "stderr",
     "output_type": "stream",
     "text": [
      "Setting `pad_token_id` to `eos_token_id`:128001 for open-end generation.\n"
     ]
    },
    {
     "name": "stdout",
     "output_type": "stream",
     "text": [
      "Procesado: S0376-78922013000300013-1.txt → S0376-78922013000300013-1.xml\n",
      "S1130-14732006000200011-1.txt: Tokens de entrada: 3407\n"
     ]
    },
    {
     "name": "stderr",
     "output_type": "stream",
     "text": [
      "Setting `pad_token_id` to `eos_token_id`:128001 for open-end generation.\n"
     ]
    },
    {
     "name": "stdout",
     "output_type": "stream",
     "text": [
      "Procesado: S1130-14732006000200011-1.txt → S1130-14732006000200011-1.xml\n",
      "S0004-06142009000500011-1.txt: Tokens de entrada: 3254\n"
     ]
    },
    {
     "name": "stderr",
     "output_type": "stream",
     "text": [
      "Setting `pad_token_id` to `eos_token_id`:128001 for open-end generation.\n"
     ]
    },
    {
     "name": "stdout",
     "output_type": "stream",
     "text": [
      "Procesado: S0004-06142009000500011-1.txt → S0004-06142009000500011-1.xml\n",
      "S0004-06142007000900011-1.txt: Tokens de entrada: 3373\n"
     ]
    },
    {
     "name": "stderr",
     "output_type": "stream",
     "text": [
      "Setting `pad_token_id` to `eos_token_id`:128001 for open-end generation.\n"
     ]
    },
    {
     "name": "stdout",
     "output_type": "stream",
     "text": [
      "Procesado: S0004-06142007000900011-1.txt → S0004-06142007000900011-1.xml\n",
      "S0210-48062009000900015-3.txt: Tokens de entrada: 3036\n"
     ]
    },
    {
     "name": "stderr",
     "output_type": "stream",
     "text": [
      "Setting `pad_token_id` to `eos_token_id`:128001 for open-end generation.\n"
     ]
    },
    {
     "name": "stdout",
     "output_type": "stream",
     "text": [
      "Procesado: S0210-48062009000900015-3.txt → S0210-48062009000900015-3.xml\n",
      "S1130-05582016000100005-1.txt: Tokens de entrada: 3195\n"
     ]
    },
    {
     "name": "stderr",
     "output_type": "stream",
     "text": [
      "Setting `pad_token_id` to `eos_token_id`:128001 for open-end generation.\n"
     ]
    },
    {
     "name": "stdout",
     "output_type": "stream",
     "text": [
      "Procesado: S1130-05582016000100005-1.txt → S1130-05582016000100005-1.xml\n",
      "S1134-80462008000200008-1.txt: Tokens de entrada: 3327\n"
     ]
    },
    {
     "name": "stderr",
     "output_type": "stream",
     "text": [
      "Setting `pad_token_id` to `eos_token_id`:128001 for open-end generation.\n"
     ]
    },
    {
     "name": "stdout",
     "output_type": "stream",
     "text": [
      "Procesado: S1134-80462008000200008-1.txt → S1134-80462008000200008-1.xml\n",
      "S0376-78922015000100011-1.txt: Tokens de entrada: 4332\n",
      "Truncando prompt: S0376-78922015000100011-1.txt\n"
     ]
    },
    {
     "name": "stderr",
     "output_type": "stream",
     "text": [
      "Setting `pad_token_id` to `eos_token_id`:128001 for open-end generation.\n"
     ]
    },
    {
     "name": "stdout",
     "output_type": "stream",
     "text": [
      "Procesado: S0376-78922015000100011-1.txt → S0376-78922015000100011-1.xml\n",
      "S0210-48062004000500008-1.txt: Tokens de entrada: 3381\n"
     ]
    },
    {
     "name": "stderr",
     "output_type": "stream",
     "text": [
      "Setting `pad_token_id` to `eos_token_id`:128001 for open-end generation.\n"
     ]
    },
    {
     "name": "stdout",
     "output_type": "stream",
     "text": [
      "Procesado: S0210-48062004000500008-1.txt → S0210-48062004000500008-1.xml\n",
      "S0210-56912006000800008-1.txt: Tokens de entrada: 3410\n"
     ]
    },
    {
     "name": "stderr",
     "output_type": "stream",
     "text": [
      "Setting `pad_token_id` to `eos_token_id`:128001 for open-end generation.\n"
     ]
    },
    {
     "name": "stdout",
     "output_type": "stream",
     "text": [
      "Procesado: S0210-56912006000800008-1.txt → S0210-56912006000800008-1.xml\n",
      "S0376-78922009000100005-1.txt: Tokens de entrada: 2939\n"
     ]
    },
    {
     "name": "stderr",
     "output_type": "stream",
     "text": [
      "Setting `pad_token_id` to `eos_token_id`:128001 for open-end generation.\n"
     ]
    },
    {
     "name": "stdout",
     "output_type": "stream",
     "text": [
      "Procesado: S0376-78922009000100005-1.txt → S0376-78922009000100005-1.xml\n",
      "S1130-63432016000100007-1.txt: Tokens de entrada: 3305\n"
     ]
    },
    {
     "name": "stderr",
     "output_type": "stream",
     "text": [
      "Setting `pad_token_id` to `eos_token_id`:128001 for open-end generation.\n"
     ]
    },
    {
     "name": "stdout",
     "output_type": "stream",
     "text": [
      "Procesado: S1130-63432016000100007-1.txt → S1130-63432016000100007-1.xml\n",
      "S0212-71992006000700009-1.txt: Tokens de entrada: 3451\n"
     ]
    },
    {
     "name": "stderr",
     "output_type": "stream",
     "text": [
      "Setting `pad_token_id` to `eos_token_id`:128001 for open-end generation.\n"
     ]
    },
    {
     "name": "stdout",
     "output_type": "stream",
     "text": [
      "Procesado: S0212-71992006000700009-1.txt → S0212-71992006000700009-1.xml\n",
      "S1139-76322010000300008-1.txt: Tokens de entrada: 2923\n"
     ]
    },
    {
     "name": "stderr",
     "output_type": "stream",
     "text": [
      "Setting `pad_token_id` to `eos_token_id`:128001 for open-end generation.\n"
     ]
    },
    {
     "name": "stdout",
     "output_type": "stream",
     "text": [
      "Procesado: S1139-76322010000300008-1.txt → S1139-76322010000300008-1.xml\n",
      "S0376-78922009000400010-1.txt: Tokens de entrada: 2916\n"
     ]
    },
    {
     "name": "stderr",
     "output_type": "stream",
     "text": [
      "Setting `pad_token_id` to `eos_token_id`:128001 for open-end generation.\n"
     ]
    },
    {
     "name": "stdout",
     "output_type": "stream",
     "text": [
      "Procesado: S0376-78922009000400010-1.txt → S0376-78922009000400010-1.xml\n",
      "S1137-66272007000500016-1.txt: Tokens de entrada: 3240\n"
     ]
    },
    {
     "name": "stderr",
     "output_type": "stream",
     "text": [
      "Setting `pad_token_id` to `eos_token_id`:128001 for open-end generation.\n"
     ]
    },
    {
     "name": "stdout",
     "output_type": "stream",
     "text": [
      "Procesado: S1137-66272007000500016-1.txt → S1137-66272007000500016-1.xml\n",
      "S0211-69952013000200018-1.txt: Tokens de entrada: 3631\n"
     ]
    },
    {
     "name": "stderr",
     "output_type": "stream",
     "text": [
      "Setting `pad_token_id` to `eos_token_id`:128001 for open-end generation.\n"
     ]
    },
    {
     "name": "stdout",
     "output_type": "stream",
     "text": [
      "Procesado: S0211-69952013000200018-1.txt → S0211-69952013000200018-1.xml\n",
      "S1137-66272011000100013-2.txt: Tokens de entrada: 3070\n"
     ]
    },
    {
     "name": "stderr",
     "output_type": "stream",
     "text": [
      "Setting `pad_token_id` to `eos_token_id`:128001 for open-end generation.\n"
     ]
    },
    {
     "name": "stdout",
     "output_type": "stream",
     "text": [
      "Procesado: S1137-66272011000100013-2.txt → S1137-66272011000100013-2.xml\n",
      "S1137-66272014000200013-1.txt: Tokens de entrada: 3544\n"
     ]
    },
    {
     "name": "stderr",
     "output_type": "stream",
     "text": [
      "Setting `pad_token_id` to `eos_token_id`:128001 for open-end generation.\n"
     ]
    },
    {
     "name": "stdout",
     "output_type": "stream",
     "text": [
      "Procesado: S1137-66272014000200013-1.txt → S1137-66272014000200013-1.xml\n",
      "S1130-05582008000500006-1.txt: Tokens de entrada: 3095\n"
     ]
    },
    {
     "name": "stderr",
     "output_type": "stream",
     "text": [
      "Setting `pad_token_id` to `eos_token_id`:128001 for open-end generation.\n"
     ]
    },
    {
     "name": "stdout",
     "output_type": "stream",
     "text": [
      "Procesado: S1130-05582008000500006-1.txt → S1130-05582008000500006-1.xml\n",
      "S0376-78922012000300005-1.txt: Tokens de entrada: 3838\n"
     ]
    },
    {
     "name": "stderr",
     "output_type": "stream",
     "text": [
      "Setting `pad_token_id` to `eos_token_id`:128001 for open-end generation.\n"
     ]
    },
    {
     "name": "stdout",
     "output_type": "stream",
     "text": [
      "Procesado: S0376-78922012000300005-1.txt → S0376-78922012000300005-1.xml\n",
      "S0210-56912006000600007-1.txt: Tokens de entrada: 4061\n"
     ]
    },
    {
     "name": "stderr",
     "output_type": "stream",
     "text": [
      "Setting `pad_token_id` to `eos_token_id`:128001 for open-end generation.\n"
     ]
    },
    {
     "name": "stdout",
     "output_type": "stream",
     "text": [
      "Procesado: S0210-56912006000600007-1.txt → S0210-56912006000600007-1.xml\n",
      "S0213-12852005000400003-1.txt: Tokens de entrada: 3298\n"
     ]
    },
    {
     "name": "stderr",
     "output_type": "stream",
     "text": [
      "Setting `pad_token_id` to `eos_token_id`:128001 for open-end generation.\n"
     ]
    },
    {
     "name": "stdout",
     "output_type": "stream",
     "text": [
      "Procesado: S0213-12852005000400003-1.txt → S0213-12852005000400003-1.xml\n",
      "S1139-76322014000500011-1.txt: Tokens de entrada: 3358\n"
     ]
    },
    {
     "name": "stderr",
     "output_type": "stream",
     "text": [
      "Setting `pad_token_id` to `eos_token_id`:128001 for open-end generation.\n"
     ]
    },
    {
     "name": "stdout",
     "output_type": "stream",
     "text": [
      "Procesado: S1139-76322014000500011-1.txt → S1139-76322014000500011-1.xml\n",
      "S0004-06142007000700015-1.txt: Tokens de entrada: 2921\n"
     ]
    },
    {
     "name": "stderr",
     "output_type": "stream",
     "text": [
      "Setting `pad_token_id` to `eos_token_id`:128001 for open-end generation.\n"
     ]
    },
    {
     "name": "stdout",
     "output_type": "stream",
     "text": [
      "Procesado: S0004-06142007000700015-1.txt → S0004-06142007000700015-1.xml\n",
      "S1130-05582012000300005-1.txt: Tokens de entrada: 3079\n"
     ]
    },
    {
     "name": "stderr",
     "output_type": "stream",
     "text": [
      "Setting `pad_token_id` to `eos_token_id`:128001 for open-end generation.\n"
     ]
    },
    {
     "name": "stdout",
     "output_type": "stream",
     "text": [
      "Procesado: S1130-05582012000300005-1.txt → S1130-05582012000300005-1.xml\n",
      "S0004-06142008000600014-1.txt: Tokens de entrada: 3343\n"
     ]
    },
    {
     "name": "stderr",
     "output_type": "stream",
     "text": [
      "Setting `pad_token_id` to `eos_token_id`:128001 for open-end generation.\n"
     ]
    },
    {
     "name": "stdout",
     "output_type": "stream",
     "text": [
      "Procesado: S0004-06142008000600014-1.txt → S0004-06142008000600014-1.xml\n",
      "S0004-06142008000400011-2.txt: Tokens de entrada: 2926\n"
     ]
    },
    {
     "name": "stderr",
     "output_type": "stream",
     "text": [
      "Setting `pad_token_id` to `eos_token_id`:128001 for open-end generation.\n"
     ]
    },
    {
     "name": "stdout",
     "output_type": "stream",
     "text": [
      "Procesado: S0004-06142008000400011-2.txt → S0004-06142008000400011-2.xml\n",
      "S1130-14732005000200009-1.txt: Tokens de entrada: 2840\n"
     ]
    },
    {
     "name": "stderr",
     "output_type": "stream",
     "text": [
      "Setting `pad_token_id` to `eos_token_id`:128001 for open-end generation.\n"
     ]
    },
    {
     "name": "stdout",
     "output_type": "stream",
     "text": [
      "Procesado: S1130-14732005000200009-1.txt → S1130-14732005000200009-1.xml\n",
      "S1137-66272009000100013-1.txt: Tokens de entrada: 3421\n"
     ]
    },
    {
     "name": "stderr",
     "output_type": "stream",
     "text": [
      "Setting `pad_token_id` to `eos_token_id`:128001 for open-end generation.\n"
     ]
    },
    {
     "name": "stdout",
     "output_type": "stream",
     "text": [
      "Procesado: S1137-66272009000100013-1.txt → S1137-66272009000100013-1.xml\n",
      "S0378-48352006000500005-1.txt: Tokens de entrada: 3188\n"
     ]
    },
    {
     "name": "stderr",
     "output_type": "stream",
     "text": [
      "Setting `pad_token_id` to `eos_token_id`:128001 for open-end generation.\n"
     ]
    },
    {
     "name": "stdout",
     "output_type": "stream",
     "text": [
      "Procesado: S0378-48352006000500005-1.txt → S0378-48352006000500005-1.xml\n",
      "S0365-66912004001200010-2.txt: Tokens de entrada: 3022\n"
     ]
    },
    {
     "name": "stderr",
     "output_type": "stream",
     "text": [
      "Setting `pad_token_id` to `eos_token_id`:128001 for open-end generation.\n"
     ]
    },
    {
     "name": "stdout",
     "output_type": "stream",
     "text": [
      "Procesado: S0365-66912004001200010-2.txt → S0365-66912004001200010-2.xml\n",
      "S0212-71992005000400009-1.txt: Tokens de entrada: 3941\n"
     ]
    },
    {
     "name": "stderr",
     "output_type": "stream",
     "text": [
      "Setting `pad_token_id` to `eos_token_id`:128001 for open-end generation.\n"
     ]
    },
    {
     "name": "stdout",
     "output_type": "stream",
     "text": [
      "Procesado: S0212-71992005000400009-1.txt → S0212-71992005000400009-1.xml\n",
      "S0210-48062009000200017-1.txt: Tokens de entrada: 3348\n"
     ]
    },
    {
     "name": "stderr",
     "output_type": "stream",
     "text": [
      "Setting `pad_token_id` to `eos_token_id`:128001 for open-end generation.\n"
     ]
    },
    {
     "name": "stdout",
     "output_type": "stream",
     "text": [
      "Procesado: S0210-48062009000200017-1.txt → S0210-48062009000200017-1.xml\n",
      "S0365-66912004001100012-1.txt: Tokens de entrada: 3344\n"
     ]
    },
    {
     "name": "stderr",
     "output_type": "stream",
     "text": [
      "Setting `pad_token_id` to `eos_token_id`:128001 for open-end generation.\n"
     ]
    },
    {
     "name": "stdout",
     "output_type": "stream",
     "text": [
      "Procesado: S0365-66912004001100012-1.txt → S0365-66912004001100012-1.xml\n",
      "S0210-56912009000900008-1.txt: Tokens de entrada: 3413\n"
     ]
    },
    {
     "name": "stderr",
     "output_type": "stream",
     "text": [
      "Setting `pad_token_id` to `eos_token_id`:128001 for open-end generation.\n"
     ]
    },
    {
     "name": "stdout",
     "output_type": "stream",
     "text": [
      "Procesado: S0210-56912009000900008-1.txt → S0210-56912009000900008-1.xml\n",
      "S0210-48062007000500016-1.txt: Tokens de entrada: 3821\n"
     ]
    },
    {
     "name": "stderr",
     "output_type": "stream",
     "text": [
      "Setting `pad_token_id` to `eos_token_id`:128001 for open-end generation.\n"
     ]
    },
    {
     "name": "stdout",
     "output_type": "stream",
     "text": [
      "Procesado: S0210-48062007000500016-1.txt → S0210-48062007000500016-1.xml\n",
      "S0365-66912005001100009-2.txt: Tokens de entrada: 2832\n"
     ]
    },
    {
     "name": "stderr",
     "output_type": "stream",
     "text": [
      "Setting `pad_token_id` to `eos_token_id`:128001 for open-end generation.\n"
     ]
    },
    {
     "name": "stdout",
     "output_type": "stream",
     "text": [
      "Procesado: S0365-66912005001100009-2.txt → S0365-66912005001100009-2.xml\n",
      "S0212-16112012000500042-1.txt: Tokens de entrada: 3943\n"
     ]
    },
    {
     "name": "stderr",
     "output_type": "stream",
     "text": [
      "Setting `pad_token_id` to `eos_token_id`:128001 for open-end generation.\n"
     ]
    },
    {
     "name": "stdout",
     "output_type": "stream",
     "text": [
      "Procesado: S0212-16112012000500042-1.txt → S0212-16112012000500042-1.xml\n",
      "S1137-66272010000300010-1.txt: Tokens de entrada: 3274\n"
     ]
    },
    {
     "name": "stderr",
     "output_type": "stream",
     "text": [
      "Setting `pad_token_id` to `eos_token_id`:128001 for open-end generation.\n"
     ]
    },
    {
     "name": "stdout",
     "output_type": "stream",
     "text": [
      "Procesado: S1137-66272010000300010-1.txt → S1137-66272010000300010-1.xml\n",
      "S0212-71992006000900007-1.txt: Tokens de entrada: 3275\n"
     ]
    },
    {
     "name": "stderr",
     "output_type": "stream",
     "text": [
      "Setting `pad_token_id` to `eos_token_id`:128001 for open-end generation.\n"
     ]
    },
    {
     "name": "stdout",
     "output_type": "stream",
     "text": [
      "Procesado: S0212-71992006000900007-1.txt → S0212-71992006000900007-1.xml\n",
      "S0365-66912011000900005-1.txt: Tokens de entrada: 2979\n"
     ]
    },
    {
     "name": "stderr",
     "output_type": "stream",
     "text": [
      "Setting `pad_token_id` to `eos_token_id`:128001 for open-end generation.\n"
     ]
    },
    {
     "name": "stdout",
     "output_type": "stream",
     "text": [
      "Procesado: S0365-66912011000900005-1.txt → S0365-66912011000900005-1.xml\n",
      "S1130-01082010000700016-1.txt: Tokens de entrada: 3105\n"
     ]
    },
    {
     "name": "stderr",
     "output_type": "stream",
     "text": [
      "Setting `pad_token_id` to `eos_token_id`:128001 for open-end generation.\n"
     ]
    },
    {
     "name": "stdout",
     "output_type": "stream",
     "text": [
      "Procesado: S1130-01082010000700016-1.txt → S1130-01082010000700016-1.xml\n",
      "S1889-836X2015000100003-1.txt: Tokens de entrada: 3599\n"
     ]
    },
    {
     "name": "stderr",
     "output_type": "stream",
     "text": [
      "Setting `pad_token_id` to `eos_token_id`:128001 for open-end generation.\n"
     ]
    },
    {
     "name": "stdout",
     "output_type": "stream",
     "text": [
      "Procesado: S1889-836X2015000100003-1.txt → S1889-836X2015000100003-1.xml\n",
      "S0212-71992007000600008-1.txt: Tokens de entrada: 4221\n",
      "Truncando prompt: S0212-71992007000600008-1.txt\n"
     ]
    },
    {
     "name": "stderr",
     "output_type": "stream",
     "text": [
      "Setting `pad_token_id` to `eos_token_id`:128001 for open-end generation.\n"
     ]
    },
    {
     "name": "stdout",
     "output_type": "stream",
     "text": [
      "Procesado: S0212-71992007000600008-1.txt → S0212-71992007000600008-1.xml\n",
      "S1130-63432014000100012-1.txt: Tokens de entrada: 4487\n",
      "Truncando prompt: S1130-63432014000100012-1.txt\n"
     ]
    },
    {
     "name": "stderr",
     "output_type": "stream",
     "text": [
      "Setting `pad_token_id` to `eos_token_id`:128001 for open-end generation.\n"
     ]
    },
    {
     "name": "stdout",
     "output_type": "stream",
     "text": [
      "Procesado: S1130-63432014000100012-1.txt → S1130-63432014000100012-1.xml\n",
      "S0211-69952013000200019-1.txt: Tokens de entrada: 3133\n"
     ]
    },
    {
     "name": "stderr",
     "output_type": "stream",
     "text": [
      "Setting `pad_token_id` to `eos_token_id`:128001 for open-end generation.\n"
     ]
    },
    {
     "name": "stdout",
     "output_type": "stream",
     "text": [
      "Procesado: S0211-69952013000200019-1.txt → S0211-69952013000200019-1.xml\n",
      "S0210-48062007000100004-1.txt: Tokens de entrada: 2983\n"
     ]
    },
    {
     "name": "stderr",
     "output_type": "stream",
     "text": [
      "Setting `pad_token_id` to `eos_token_id`:128001 for open-end generation.\n"
     ]
    },
    {
     "name": "stdout",
     "output_type": "stream",
     "text": [
      "Procesado: S0210-48062007000100004-1.txt → S0210-48062007000100004-1.xml\n",
      "S0004-06142006000900006-1.txt: Tokens de entrada: 2966\n"
     ]
    },
    {
     "name": "stderr",
     "output_type": "stream",
     "text": [
      "Setting `pad_token_id` to `eos_token_id`:128001 for open-end generation.\n"
     ]
    },
    {
     "name": "stdout",
     "output_type": "stream",
     "text": [
      "Procesado: S0004-06142006000900006-1.txt → S0004-06142006000900006-1.xml\n",
      "S0365-66912008000100007-2.txt: Tokens de entrada: 2919\n"
     ]
    },
    {
     "name": "stderr",
     "output_type": "stream",
     "text": [
      "Setting `pad_token_id` to `eos_token_id`:128001 for open-end generation.\n"
     ]
    },
    {
     "name": "stdout",
     "output_type": "stream",
     "text": [
      "Procesado: S0365-66912008000100007-2.txt → S0365-66912008000100007-2.xml\n",
      "S1130-63432014000600009-1.txt: Tokens de entrada: 3658\n"
     ]
    },
    {
     "name": "stderr",
     "output_type": "stream",
     "text": [
      "Setting `pad_token_id` to `eos_token_id`:128001 for open-end generation.\n"
     ]
    },
    {
     "name": "stdout",
     "output_type": "stream",
     "text": [
      "Procesado: S1130-63432014000600009-1.txt → S1130-63432014000600009-1.xml\n",
      "S0365-66912004000600009-2.txt: Tokens de entrada: 2860\n"
     ]
    },
    {
     "name": "stderr",
     "output_type": "stream",
     "text": [
      "Setting `pad_token_id` to `eos_token_id`:128001 for open-end generation.\n"
     ]
    },
    {
     "name": "stdout",
     "output_type": "stream",
     "text": [
      "Procesado: S0365-66912004000600009-2.txt → S0365-66912004000600009-2.xml\n",
      "S0210-48062007000700014-1.txt: Tokens de entrada: 2938\n"
     ]
    },
    {
     "name": "stderr",
     "output_type": "stream",
     "text": [
      "Setting `pad_token_id` to `eos_token_id`:128001 for open-end generation.\n"
     ]
    },
    {
     "name": "stdout",
     "output_type": "stream",
     "text": [
      "Procesado: S0210-48062007000700014-1.txt → S0210-48062007000700014-1.xml\n",
      "S0365-66912009000300009-1.txt: Tokens de entrada: 2925\n"
     ]
    },
    {
     "name": "stderr",
     "output_type": "stream",
     "text": [
      "Setting `pad_token_id` to `eos_token_id`:128001 for open-end generation.\n"
     ]
    },
    {
     "name": "stdout",
     "output_type": "stream",
     "text": [
      "Procesado: S0365-66912009000300009-1.txt → S0365-66912009000300009-1.xml\n",
      "S1887-85712015000100005-1.txt: Tokens de entrada: 3442\n"
     ]
    },
    {
     "name": "stderr",
     "output_type": "stream",
     "text": [
      "Setting `pad_token_id` to `eos_token_id`:128001 for open-end generation.\n"
     ]
    },
    {
     "name": "stdout",
     "output_type": "stream",
     "text": [
      "Procesado: S1887-85712015000100005-1.txt → S1887-85712015000100005-1.xml\n",
      "S1698-69462006000100017-1.txt: Tokens de entrada: 3083\n"
     ]
    },
    {
     "name": "stderr",
     "output_type": "stream",
     "text": [
      "Setting `pad_token_id` to `eos_token_id`:128001 for open-end generation.\n"
     ]
    },
    {
     "name": "stdout",
     "output_type": "stream",
     "text": [
      "Procesado: S1698-69462006000100017-1.txt → S1698-69462006000100017-1.xml\n",
      "S1130-14732006000400007-1.txt: Tokens de entrada: 3763\n"
     ]
    },
    {
     "name": "stderr",
     "output_type": "stream",
     "text": [
      "Setting `pad_token_id` to `eos_token_id`:128001 for open-end generation.\n"
     ]
    },
    {
     "name": "stdout",
     "output_type": "stream",
     "text": [
      "Procesado: S1130-14732006000400007-1.txt → S1130-14732006000400007-1.xml\n",
      "S0004-06142006000500011-1.txt: Tokens de entrada: 3422\n"
     ]
    },
    {
     "name": "stderr",
     "output_type": "stream",
     "text": [
      "Setting `pad_token_id` to `eos_token_id`:128001 for open-end generation.\n"
     ]
    },
    {
     "name": "stdout",
     "output_type": "stream",
     "text": [
      "Procesado: S0004-06142006000500011-1.txt → S0004-06142006000500011-1.xml\n",
      "S1130-01082009000900015-1.txt: Tokens de entrada: 2911\n"
     ]
    },
    {
     "name": "stderr",
     "output_type": "stream",
     "text": [
      "Setting `pad_token_id` to `eos_token_id`:128001 for open-end generation.\n"
     ]
    },
    {
     "name": "stdout",
     "output_type": "stream",
     "text": [
      "Procesado: S1130-01082009000900015-1.txt → S1130-01082009000900015-1.xml\n",
      "S0211-69952013000500035-1.txt: Tokens de entrada: 3249\n"
     ]
    },
    {
     "name": "stderr",
     "output_type": "stream",
     "text": [
      "Setting `pad_token_id` to `eos_token_id`:128001 for open-end generation.\n"
     ]
    },
    {
     "name": "stdout",
     "output_type": "stream",
     "text": [
      "Procesado: S0211-69952013000500035-1.txt → S0211-69952013000500035-1.xml\n",
      "S1134-80462004000400007-1.txt: Tokens de entrada: 3105\n"
     ]
    },
    {
     "name": "stderr",
     "output_type": "stream",
     "text": [
      "Setting `pad_token_id` to `eos_token_id`:128001 for open-end generation.\n"
     ]
    },
    {
     "name": "stdout",
     "output_type": "stream",
     "text": [
      "Procesado: S1134-80462004000400007-1.txt → S1134-80462004000400007-1.xml\n",
      "S1698-69462006000400002-1.txt: Tokens de entrada: 3390\n"
     ]
    },
    {
     "name": "stderr",
     "output_type": "stream",
     "text": [
      "Setting `pad_token_id` to `eos_token_id`:128001 for open-end generation.\n"
     ]
    },
    {
     "name": "stdout",
     "output_type": "stream",
     "text": [
      "Procesado: S1698-69462006000400002-1.txt → S1698-69462006000400002-1.xml\n",
      "S1139-76322013000500010-1.txt: Tokens de entrada: 3153\n"
     ]
    },
    {
     "name": "stderr",
     "output_type": "stream",
     "text": [
      "Setting `pad_token_id` to `eos_token_id`:128001 for open-end generation.\n"
     ]
    },
    {
     "name": "stdout",
     "output_type": "stream",
     "text": [
      "Procesado: S1139-76322013000500010-1.txt → S1139-76322013000500010-1.xml\n",
      "S0212-71992005001200008-1.txt: Tokens de entrada: 3165\n"
     ]
    },
    {
     "name": "stderr",
     "output_type": "stream",
     "text": [
      "Setting `pad_token_id` to `eos_token_id`:128001 for open-end generation.\n"
     ]
    },
    {
     "name": "stdout",
     "output_type": "stream",
     "text": [
      "Procesado: S0212-71992005001200008-1.txt → S0212-71992005001200008-1.xml\n",
      "S0210-48062007000100012-1.txt: Tokens de entrada: 3084\n"
     ]
    },
    {
     "name": "stderr",
     "output_type": "stream",
     "text": [
      "Setting `pad_token_id` to `eos_token_id`:128001 for open-end generation.\n"
     ]
    },
    {
     "name": "stdout",
     "output_type": "stream",
     "text": [
      "Procesado: S0210-48062007000100012-1.txt → S0210-48062007000100012-1.xml\n",
      "S0365-66912008000100009-3.txt: Tokens de entrada: 2992\n"
     ]
    },
    {
     "name": "stderr",
     "output_type": "stream",
     "text": [
      "Setting `pad_token_id` to `eos_token_id`:128001 for open-end generation.\n"
     ]
    },
    {
     "name": "stdout",
     "output_type": "stream",
     "text": [
      "Procesado: S0365-66912008000100009-3.txt → S0365-66912008000100009-3.xml\n",
      "S1889-836X2016000100006-1.txt: Tokens de entrada: 3441\n"
     ]
    },
    {
     "name": "stderr",
     "output_type": "stream",
     "text": [
      "Setting `pad_token_id` to `eos_token_id`:128001 for open-end generation.\n"
     ]
    },
    {
     "name": "stdout",
     "output_type": "stream",
     "text": [
      "Procesado: S1889-836X2016000100006-1.txt → S1889-836X2016000100006-1.xml\n",
      "S0004-06142006000600014-1.txt: Tokens de entrada: 2980\n"
     ]
    },
    {
     "name": "stderr",
     "output_type": "stream",
     "text": [
      "Setting `pad_token_id` to `eos_token_id`:128001 for open-end generation.\n"
     ]
    },
    {
     "name": "stdout",
     "output_type": "stream",
     "text": [
      "Procesado: S0004-06142006000600014-1.txt → S0004-06142006000600014-1.xml\n",
      "S0004-06142006000700013-1.txt: Tokens de entrada: 3260\n"
     ]
    },
    {
     "name": "stderr",
     "output_type": "stream",
     "text": [
      "Setting `pad_token_id` to `eos_token_id`:128001 for open-end generation.\n"
     ]
    },
    {
     "name": "stdout",
     "output_type": "stream",
     "text": [
      "Procesado: S0004-06142006000700013-1.txt → S0004-06142006000700013-1.xml\n",
      "S1698-44472004000200012-1.txt: Tokens de entrada: 3088\n"
     ]
    },
    {
     "name": "stderr",
     "output_type": "stream",
     "text": [
      "Setting `pad_token_id` to `eos_token_id`:128001 for open-end generation.\n"
     ]
    },
    {
     "name": "stdout",
     "output_type": "stream",
     "text": [
      "Procesado: S1698-44472004000200012-1.txt → S1698-44472004000200012-1.xml\n",
      "S0378-48352005000100005-1.txt: Tokens de entrada: 3089\n"
     ]
    },
    {
     "name": "stderr",
     "output_type": "stream",
     "text": [
      "Setting `pad_token_id` to `eos_token_id`:128001 for open-end generation.\n"
     ]
    },
    {
     "name": "stdout",
     "output_type": "stream",
     "text": [
      "Procesado: S0378-48352005000100005-1.txt → S0378-48352005000100005-1.xml\n",
      "S1139-76322015000100013-1.txt: Tokens de entrada: 2982\n"
     ]
    },
    {
     "name": "stderr",
     "output_type": "stream",
     "text": [
      "Setting `pad_token_id` to `eos_token_id`:128001 for open-end generation.\n"
     ]
    },
    {
     "name": "stdout",
     "output_type": "stream",
     "text": [
      "Procesado: S1139-76322015000100013-1.txt → S1139-76322015000100013-1.xml\n",
      "S0365-66912006001100007-1.txt: Tokens de entrada: 2983\n"
     ]
    },
    {
     "name": "stderr",
     "output_type": "stream",
     "text": [
      "Setting `pad_token_id` to `eos_token_id`:128001 for open-end generation.\n"
     ]
    },
    {
     "name": "stdout",
     "output_type": "stream",
     "text": [
      "Procesado: S0365-66912006001100007-1.txt → S0365-66912006001100007-1.xml\n",
      "S1130-63432014000100011-1.txt: Tokens de entrada: 3670\n"
     ]
    },
    {
     "name": "stderr",
     "output_type": "stream",
     "text": [
      "Setting `pad_token_id` to `eos_token_id`:128001 for open-end generation.\n"
     ]
    },
    {
     "name": "stdout",
     "output_type": "stream",
     "text": [
      "Procesado: S1130-63432014000100011-1.txt → S1130-63432014000100011-1.xml\n",
      "S1130-01082005001200013-1.txt: Tokens de entrada: 2909\n"
     ]
    },
    {
     "name": "stderr",
     "output_type": "stream",
     "text": [
      "Setting `pad_token_id` to `eos_token_id`:128001 for open-end generation.\n"
     ]
    },
    {
     "name": "stdout",
     "output_type": "stream",
     "text": [
      "Procesado: S1130-01082005001200013-1.txt → S1130-01082005001200013-1.xml\n",
      "S0212-71992007000400005-1.txt: Tokens de entrada: 3210\n"
     ]
    },
    {
     "name": "stderr",
     "output_type": "stream",
     "text": [
      "Setting `pad_token_id` to `eos_token_id`:128001 for open-end generation.\n"
     ]
    },
    {
     "name": "stdout",
     "output_type": "stream",
     "text": [
      "Procesado: S0212-71992007000400005-1.txt → S0212-71992007000400005-1.xml\n",
      "S0365-66912007000900016-1.txt: Tokens de entrada: 3543\n"
     ]
    },
    {
     "name": "stderr",
     "output_type": "stream",
     "text": [
      "Setting `pad_token_id` to `eos_token_id`:128001 for open-end generation.\n"
     ]
    },
    {
     "name": "stdout",
     "output_type": "stream",
     "text": [
      "Procesado: S0365-66912007000900016-1.txt → S0365-66912007000900016-1.xml\n",
      "S0365-66912004000900009-1.txt: Tokens de entrada: 3145\n"
     ]
    },
    {
     "name": "stderr",
     "output_type": "stream",
     "text": [
      "Setting `pad_token_id` to `eos_token_id`:128001 for open-end generation.\n"
     ]
    },
    {
     "name": "stdout",
     "output_type": "stream",
     "text": [
      "Procesado: S0365-66912004000900009-1.txt → S0365-66912004000900009-1.xml\n",
      "S0004-06142010000500014-1.txt: Tokens de entrada: 3333\n"
     ]
    },
    {
     "name": "stderr",
     "output_type": "stream",
     "text": [
      "Setting `pad_token_id` to `eos_token_id`:128001 for open-end generation.\n"
     ]
    },
    {
     "name": "stdout",
     "output_type": "stream",
     "text": [
      "Procesado: S0004-06142010000500014-1.txt → S0004-06142010000500014-1.xml\n",
      "S1130-05582009000400004-1.txt: Tokens de entrada: 2945\n"
     ]
    },
    {
     "name": "stderr",
     "output_type": "stream",
     "text": [
      "Setting `pad_token_id` to `eos_token_id`:128001 for open-end generation.\n"
     ]
    },
    {
     "name": "stdout",
     "output_type": "stream",
     "text": [
      "Procesado: S1130-05582009000400004-1.txt → S1130-05582009000400004-1.xml\n",
      "S1130-05582016000400228-1.txt: Tokens de entrada: 3029\n"
     ]
    },
    {
     "name": "stderr",
     "output_type": "stream",
     "text": [
      "Setting `pad_token_id` to `eos_token_id`:128001 for open-end generation.\n"
     ]
    },
    {
     "name": "stdout",
     "output_type": "stream",
     "text": [
      "Procesado: S1130-05582016000400228-1.txt → S1130-05582016000400228-1.xml\n",
      "S0365-66912009000100008-1.txt: Tokens de entrada: 3280\n"
     ]
    },
    {
     "name": "stderr",
     "output_type": "stream",
     "text": [
      "Setting `pad_token_id` to `eos_token_id`:128001 for open-end generation.\n"
     ]
    },
    {
     "name": "stdout",
     "output_type": "stream",
     "text": [
      "Procesado: S0365-66912009000100008-1.txt → S0365-66912009000100008-1.xml\n",
      "S0365-66912012000200003-1.txt: Tokens de entrada: 3201\n"
     ]
    },
    {
     "name": "stderr",
     "output_type": "stream",
     "text": [
      "Setting `pad_token_id` to `eos_token_id`:128001 for open-end generation.\n"
     ]
    },
    {
     "name": "stdout",
     "output_type": "stream",
     "text": [
      "Procesado: S0365-66912012000200003-1.txt → S0365-66912012000200003-1.xml\n",
      "S1130-05582015000400010-1.txt: Tokens de entrada: 3424\n"
     ]
    },
    {
     "name": "stderr",
     "output_type": "stream",
     "text": [
      "Setting `pad_token_id` to `eos_token_id`:128001 for open-end generation.\n"
     ]
    },
    {
     "name": "stdout",
     "output_type": "stream",
     "text": [
      "Procesado: S1130-05582015000400010-1.txt → S1130-05582015000400010-1.xml\n",
      "S0004-06142008000300015-1.txt: Tokens de entrada: 2959\n"
     ]
    },
    {
     "name": "stderr",
     "output_type": "stream",
     "text": [
      "Setting `pad_token_id` to `eos_token_id`:128001 for open-end generation.\n"
     ]
    },
    {
     "name": "stdout",
     "output_type": "stream",
     "text": [
      "Procesado: S0004-06142008000300015-1.txt → S0004-06142008000300015-1.xml\n",
      "S1130-63432015000500008-1.txt: Tokens de entrada: 2899\n"
     ]
    },
    {
     "name": "stderr",
     "output_type": "stream",
     "text": [
      "Setting `pad_token_id` to `eos_token_id`:128001 for open-end generation.\n"
     ]
    },
    {
     "name": "stdout",
     "output_type": "stream",
     "text": [
      "Procesado: S1130-63432015000500008-1.txt → S1130-63432015000500008-1.xml\n",
      "S1130-63432016000400010-1.txt: Tokens de entrada: 3454\n"
     ]
    },
    {
     "name": "stderr",
     "output_type": "stream",
     "text": [
      "Setting `pad_token_id` to `eos_token_id`:128001 for open-end generation.\n"
     ]
    },
    {
     "name": "stdout",
     "output_type": "stream",
     "text": [
      "Procesado: S1130-63432016000400010-1.txt → S1130-63432016000400010-1.xml\n",
      "S1137-66272014000300016-1.txt: Tokens de entrada: 3597\n"
     ]
    },
    {
     "name": "stderr",
     "output_type": "stream",
     "text": [
      "Setting `pad_token_id` to `eos_token_id`:128001 for open-end generation.\n"
     ]
    },
    {
     "name": "stdout",
     "output_type": "stream",
     "text": [
      "Procesado: S1137-66272014000300016-1.txt → S1137-66272014000300016-1.xml\n",
      "S0212-71992007001000007-1.txt: Tokens de entrada: 3539\n"
     ]
    },
    {
     "name": "stderr",
     "output_type": "stream",
     "text": [
      "Setting `pad_token_id` to `eos_token_id`:128001 for open-end generation.\n"
     ]
    },
    {
     "name": "stdout",
     "output_type": "stream",
     "text": [
      "Procesado: S0212-71992007001000007-1.txt → S0212-71992007001000007-1.xml\n",
      "S1130-05582011000200005-1.txt: Tokens de entrada: 3108\n"
     ]
    },
    {
     "name": "stderr",
     "output_type": "stream",
     "text": [
      "Setting `pad_token_id` to `eos_token_id`:128001 for open-end generation.\n"
     ]
    },
    {
     "name": "stdout",
     "output_type": "stream",
     "text": [
      "Procesado: S1130-05582011000200005-1.txt → S1130-05582011000200005-1.xml\n",
      "S0210-48062009001000016-2.txt: Tokens de entrada: 2915\n"
     ]
    },
    {
     "name": "stderr",
     "output_type": "stream",
     "text": [
      "Setting `pad_token_id` to `eos_token_id`:128001 for open-end generation.\n"
     ]
    },
    {
     "name": "stdout",
     "output_type": "stream",
     "text": [
      "Procesado: S0210-48062009001000016-2.txt → S0210-48062009001000016-2.xml\n",
      "S1699-695X2014000300011-1.txt: Tokens de entrada: 3033\n"
     ]
    },
    {
     "name": "stderr",
     "output_type": "stream",
     "text": [
      "Setting `pad_token_id` to `eos_token_id`:128001 for open-end generation.\n"
     ]
    },
    {
     "name": "stdout",
     "output_type": "stream",
     "text": [
      "Procesado: S1699-695X2014000300011-1.txt → S1699-695X2014000300011-1.xml\n",
      "S1135-76062014000100006-1.txt: Tokens de entrada: 3035\n"
     ]
    },
    {
     "name": "stderr",
     "output_type": "stream",
     "text": [
      "Setting `pad_token_id` to `eos_token_id`:128001 for open-end generation.\n"
     ]
    },
    {
     "name": "stdout",
     "output_type": "stream",
     "text": [
      "Procesado: S1135-76062014000100006-1.txt → S1135-76062014000100006-1.xml\n",
      "S0376-78922009000100011-1.txt: Tokens de entrada: 4313\n",
      "Truncando prompt: S0376-78922009000100011-1.txt\n"
     ]
    },
    {
     "name": "stderr",
     "output_type": "stream",
     "text": [
      "Setting `pad_token_id` to `eos_token_id`:128001 for open-end generation.\n"
     ]
    },
    {
     "name": "stdout",
     "output_type": "stream",
     "text": [
      "Procesado: S0376-78922009000100011-1.txt → S0376-78922009000100011-1.xml\n",
      "S1134-80462015000500005-1.txt: Tokens de entrada: 2987\n"
     ]
    },
    {
     "name": "stderr",
     "output_type": "stream",
     "text": [
      "Setting `pad_token_id` to `eos_token_id`:128001 for open-end generation.\n"
     ]
    },
    {
     "name": "stdout",
     "output_type": "stream",
     "text": [
      "Procesado: S1134-80462015000500005-1.txt → S1134-80462015000500005-1.xml\n",
      "S0212-16112012000300028-1.txt: Tokens de entrada: 3872\n"
     ]
    },
    {
     "name": "stderr",
     "output_type": "stream",
     "text": [
      "Setting `pad_token_id` to `eos_token_id`:128001 for open-end generation.\n"
     ]
    },
    {
     "name": "stdout",
     "output_type": "stream",
     "text": [
      "Procesado: S0212-16112012000300028-1.txt → S0212-16112012000300028-1.xml\n",
      "S0004-06142007000900014-1.txt: Tokens de entrada: 3503\n"
     ]
    },
    {
     "name": "stderr",
     "output_type": "stream",
     "text": [
      "Setting `pad_token_id` to `eos_token_id`:128001 for open-end generation.\n"
     ]
    },
    {
     "name": "stdout",
     "output_type": "stream",
     "text": [
      "Procesado: S0004-06142007000900014-1.txt → S0004-06142007000900014-1.xml\n",
      "S0210-48062009000200019-1.txt: Tokens de entrada: 3381\n"
     ]
    },
    {
     "name": "stderr",
     "output_type": "stream",
     "text": [
      "Setting `pad_token_id` to `eos_token_id`:128001 for open-end generation.\n"
     ]
    },
    {
     "name": "stdout",
     "output_type": "stream",
     "text": [
      "Procesado: S0210-48062009000200019-1.txt → S0210-48062009000200019-1.xml\n",
      "S1130-01082009000700015-1.txt: Tokens de entrada: 3013\n"
     ]
    },
    {
     "name": "stderr",
     "output_type": "stream",
     "text": [
      "Setting `pad_token_id` to `eos_token_id`:128001 for open-end generation.\n"
     ]
    },
    {
     "name": "stdout",
     "output_type": "stream",
     "text": [
      "Procesado: S1130-01082009000700015-1.txt → S1130-01082009000700015-1.xml\n",
      "S0376-78922011000500012-1.txt: Tokens de entrada: 3612\n"
     ]
    },
    {
     "name": "stderr",
     "output_type": "stream",
     "text": [
      "Setting `pad_token_id` to `eos_token_id`:128001 for open-end generation.\n"
     ]
    },
    {
     "name": "stdout",
     "output_type": "stream",
     "text": [
      "Procesado: S0376-78922011000500012-1.txt → S0376-78922011000500012-1.xml\n",
      "S1137-66272011000100013-3.txt: Tokens de entrada: 2991\n"
     ]
    },
    {
     "name": "stderr",
     "output_type": "stream",
     "text": [
      "Setting `pad_token_id` to `eos_token_id`:128001 for open-end generation.\n"
     ]
    },
    {
     "name": "stdout",
     "output_type": "stream",
     "text": [
      "Procesado: S1137-66272011000100013-3.txt → S1137-66272011000100013-3.xml\n",
      "S0211-69952014000200016-1.txt: Tokens de entrada: 3106\n"
     ]
    },
    {
     "name": "stderr",
     "output_type": "stream",
     "text": [
      "Setting `pad_token_id` to `eos_token_id`:128001 for open-end generation.\n"
     ]
    },
    {
     "name": "stdout",
     "output_type": "stream",
     "text": [
      "Procesado: S0211-69952014000200016-1.txt → S0211-69952014000200016-1.xml\n",
      "S0365-66912005001200012-1.txt: Tokens de entrada: 2969\n"
     ]
    },
    {
     "name": "stderr",
     "output_type": "stream",
     "text": [
      "Setting `pad_token_id` to `eos_token_id`:128001 for open-end generation.\n"
     ]
    },
    {
     "name": "stdout",
     "output_type": "stream",
     "text": [
      "Procesado: S0365-66912005001200012-1.txt → S0365-66912005001200012-1.xml\n",
      "S0210-48062006000300014-1.txt: Tokens de entrada: 4151\n"
     ]
    },
    {
     "name": "stderr",
     "output_type": "stream",
     "text": [
      "Setting `pad_token_id` to `eos_token_id`:128001 for open-end generation.\n"
     ]
    },
    {
     "name": "stdout",
     "output_type": "stream",
     "text": [
      "Procesado: S0210-48062006000300014-1.txt → S0210-48062006000300014-1.xml\n",
      "S1130-05582013000200007-1.txt: Tokens de entrada: 3443\n"
     ]
    },
    {
     "name": "stderr",
     "output_type": "stream",
     "text": [
      "Setting `pad_token_id` to `eos_token_id`:128001 for open-end generation.\n"
     ]
    },
    {
     "name": "stdout",
     "output_type": "stream",
     "text": [
      "Procesado: S1130-05582013000200007-1.txt → S1130-05582013000200007-1.xml\n",
      "S1130-63432013000300013-1.txt: Tokens de entrada: 3294\n"
     ]
    },
    {
     "name": "stderr",
     "output_type": "stream",
     "text": [
      "Setting `pad_token_id` to `eos_token_id`:128001 for open-end generation.\n"
     ]
    },
    {
     "name": "stdout",
     "output_type": "stream",
     "text": [
      "Procesado: S1130-63432013000300013-1.txt → S1130-63432013000300013-1.xml\n",
      "S0210-48062010000100019-4.txt: Tokens de entrada: 2973\n"
     ]
    },
    {
     "name": "stderr",
     "output_type": "stream",
     "text": [
      "Setting `pad_token_id` to `eos_token_id`:128001 for open-end generation.\n"
     ]
    },
    {
     "name": "stdout",
     "output_type": "stream",
     "text": [
      "Procesado: S0210-48062010000100019-4.txt → S0210-48062010000100019-4.xml\n",
      "S0210-48062010000100019-3.txt: Tokens de entrada: 2966\n"
     ]
    },
    {
     "name": "stderr",
     "output_type": "stream",
     "text": [
      "Setting `pad_token_id` to `eos_token_id`:128001 for open-end generation.\n"
     ]
    },
    {
     "name": "stdout",
     "output_type": "stream",
     "text": [
      "Procesado: S0210-48062010000100019-3.txt → S0210-48062010000100019-3.xml\n",
      "S1130-01082008000500017-2.txt: Tokens de entrada: 2941\n"
     ]
    },
    {
     "name": "stderr",
     "output_type": "stream",
     "text": [
      "Setting `pad_token_id` to `eos_token_id`:128001 for open-end generation.\n"
     ]
    },
    {
     "name": "stdout",
     "output_type": "stream",
     "text": [
      "Procesado: S1130-01082008000500017-2.txt → S1130-01082008000500017-2.xml\n",
      "S0210-48062004000500010-1.txt: Tokens de entrada: 3166\n"
     ]
    },
    {
     "name": "stderr",
     "output_type": "stream",
     "text": [
      "Setting `pad_token_id` to `eos_token_id`:128001 for open-end generation.\n"
     ]
    },
    {
     "name": "stdout",
     "output_type": "stream",
     "text": [
      "Procesado: S0210-48062004000500010-1.txt → S0210-48062004000500010-1.xml\n",
      "S0365-66912012000500005-2.txt: Tokens de entrada: 3114\n"
     ]
    },
    {
     "name": "stderr",
     "output_type": "stream",
     "text": [
      "Setting `pad_token_id` to `eos_token_id`:128001 for open-end generation.\n"
     ]
    },
    {
     "name": "stdout",
     "output_type": "stream",
     "text": [
      "Procesado: S0365-66912012000500005-2.txt → S0365-66912012000500005-2.xml\n",
      "S0213-12852016000500002-1.txt: Tokens de entrada: 4271\n",
      "Truncando prompt: S0213-12852016000500002-1.txt\n"
     ]
    },
    {
     "name": "stderr",
     "output_type": "stream",
     "text": [
      "Setting `pad_token_id` to `eos_token_id`:128001 for open-end generation.\n"
     ]
    },
    {
     "name": "stdout",
     "output_type": "stream",
     "text": [
      "Procesado: S0213-12852016000500002-1.txt → S0213-12852016000500002-1.xml\n",
      "S1132-62552015000100006-1.txt: Tokens de entrada: 3804\n"
     ]
    },
    {
     "name": "stderr",
     "output_type": "stream",
     "text": [
      "Setting `pad_token_id` to `eos_token_id`:128001 for open-end generation.\n"
     ]
    },
    {
     "name": "stdout",
     "output_type": "stream",
     "text": [
      "Procesado: S1132-62552015000100006-1.txt → S1132-62552015000100006-1.xml\n",
      "S0365-66912011000700004-1.txt: Tokens de entrada: 3096\n"
     ]
    },
    {
     "name": "stderr",
     "output_type": "stream",
     "text": [
      "Setting `pad_token_id` to `eos_token_id`:128001 for open-end generation.\n"
     ]
    },
    {
     "name": "stdout",
     "output_type": "stream",
     "text": [
      "Procesado: S0365-66912011000700004-1.txt → S0365-66912011000700004-1.xml\n",
      "S1139-76322010000100009-1.txt: Tokens de entrada: 3116\n"
     ]
    },
    {
     "name": "stderr",
     "output_type": "stream",
     "text": [
      "Setting `pad_token_id` to `eos_token_id`:128001 for open-end generation.\n"
     ]
    },
    {
     "name": "stdout",
     "output_type": "stream",
     "text": [
      "Procesado: S1139-76322010000100009-1.txt → S1139-76322010000100009-1.xml\n",
      "S1130-05582010000200003-1.txt: Tokens de entrada: 3374\n"
     ]
    },
    {
     "name": "stderr",
     "output_type": "stream",
     "text": [
      "Setting `pad_token_id` to `eos_token_id`:128001 for open-end generation.\n"
     ]
    },
    {
     "name": "stdout",
     "output_type": "stream",
     "text": [
      "Procesado: S1130-05582010000200003-1.txt → S1130-05582010000200003-1.xml\n",
      "S0465-546X2014000400012-1.txt: Tokens de entrada: 2977\n"
     ]
    },
    {
     "name": "stderr",
     "output_type": "stream",
     "text": [
      "Setting `pad_token_id` to `eos_token_id`:128001 for open-end generation.\n"
     ]
    },
    {
     "name": "stdout",
     "output_type": "stream",
     "text": [
      "Procesado: S0465-546X2014000400012-1.txt → S0465-546X2014000400012-1.xml\n",
      "S0210-56912011000500009-3.txt: Tokens de entrada: 2942\n"
     ]
    },
    {
     "name": "stderr",
     "output_type": "stream",
     "text": [
      "Setting `pad_token_id` to `eos_token_id`:128001 for open-end generation.\n"
     ]
    },
    {
     "name": "stdout",
     "output_type": "stream",
     "text": [
      "Procesado: S0210-56912011000500009-3.txt → S0210-56912011000500009-3.xml\n",
      "S1699-695X2014000300006-1.txt: Tokens de entrada: 3345\n"
     ]
    },
    {
     "name": "stderr",
     "output_type": "stream",
     "text": [
      "Setting `pad_token_id` to `eos_token_id`:128001 for open-end generation.\n"
     ]
    },
    {
     "name": "stdout",
     "output_type": "stream",
     "text": [
      "Procesado: S1699-695X2014000300006-1.txt → S1699-695X2014000300006-1.xml\n",
      "S1139-76322011000300007-2.txt: Tokens de entrada: 2811\n"
     ]
    },
    {
     "name": "stderr",
     "output_type": "stream",
     "text": [
      "Setting `pad_token_id` to `eos_token_id`:128001 for open-end generation.\n"
     ]
    },
    {
     "name": "stdout",
     "output_type": "stream",
     "text": [
      "Procesado: S1139-76322011000300007-2.txt → S1139-76322011000300007-2.xml\n",
      "S1130-05582009000400005-1.txt: Tokens de entrada: 3556\n"
     ]
    },
    {
     "name": "stderr",
     "output_type": "stream",
     "text": [
      "Setting `pad_token_id` to `eos_token_id`:128001 for open-end generation.\n"
     ]
    },
    {
     "name": "stdout",
     "output_type": "stream",
     "text": [
      "Procesado: S1130-05582009000400005-1.txt → S1130-05582009000400005-1.xml\n",
      "S0004-06142006000500002-2.txt: Tokens de entrada: 3108\n"
     ]
    },
    {
     "name": "stderr",
     "output_type": "stream",
     "text": [
      "Setting `pad_token_id` to `eos_token_id`:128001 for open-end generation.\n"
     ]
    },
    {
     "name": "stdout",
     "output_type": "stream",
     "text": [
      "Procesado: S0004-06142006000500002-2.txt → S0004-06142006000500002-2.xml\n",
      "S1887-85712011000200007-1.txt: Tokens de entrada: 3490\n"
     ]
    },
    {
     "name": "stderr",
     "output_type": "stream",
     "text": [
      "Setting `pad_token_id` to `eos_token_id`:128001 for open-end generation.\n"
     ]
    },
    {
     "name": "stdout",
     "output_type": "stream",
     "text": [
      "Procesado: S1887-85712011000200007-1.txt → S1887-85712011000200007-1.xml\n",
      "S1130-05582007000500003-1.txt: Tokens de entrada: 2962\n"
     ]
    },
    {
     "name": "stderr",
     "output_type": "stream",
     "text": [
      "Setting `pad_token_id` to `eos_token_id`:128001 for open-end generation.\n"
     ]
    },
    {
     "name": "stdout",
     "output_type": "stream",
     "text": [
      "Procesado: S1130-05582007000500003-1.txt → S1130-05582007000500003-1.xml\n",
      "S1134-80462006000600005-1.txt: Tokens de entrada: 3626\n"
     ]
    },
    {
     "name": "stderr",
     "output_type": "stream",
     "text": [
      "Setting `pad_token_id` to `eos_token_id`:128001 for open-end generation.\n"
     ]
    },
    {
     "name": "stdout",
     "output_type": "stream",
     "text": [
      "Procesado: S1134-80462006000600005-1.txt → S1134-80462006000600005-1.xml\n",
      "S1139-76322011000200007-1.txt: Tokens de entrada: 3202\n"
     ]
    },
    {
     "name": "stderr",
     "output_type": "stream",
     "text": [
      "Setting `pad_token_id` to `eos_token_id`:128001 for open-end generation.\n"
     ]
    },
    {
     "name": "stdout",
     "output_type": "stream",
     "text": [
      "Procesado: S1139-76322011000200007-1.txt → S1139-76322011000200007-1.xml\n",
      "S0376-78922009000200008-2.txt: Tokens de entrada: 2963\n"
     ]
    },
    {
     "name": "stderr",
     "output_type": "stream",
     "text": [
      "Setting `pad_token_id` to `eos_token_id`:128001 for open-end generation.\n"
     ]
    },
    {
     "name": "stdout",
     "output_type": "stream",
     "text": [
      "Procesado: S0376-78922009000200008-2.txt → S0376-78922009000200008-2.xml\n",
      "S0365-66912007001200011-1.txt: Tokens de entrada: 3145\n"
     ]
    },
    {
     "name": "stderr",
     "output_type": "stream",
     "text": [
      "Setting `pad_token_id` to `eos_token_id`:128001 for open-end generation.\n"
     ]
    },
    {
     "name": "stdout",
     "output_type": "stream",
     "text": [
      "Procesado: S0365-66912007001200011-1.txt → S0365-66912007001200011-1.xml\n",
      "S1699-695X2014000300010-1.txt: Tokens de entrada: 3393\n"
     ]
    },
    {
     "name": "stderr",
     "output_type": "stream",
     "text": [
      "Setting `pad_token_id` to `eos_token_id`:128001 for open-end generation.\n"
     ]
    },
    {
     "name": "stdout",
     "output_type": "stream",
     "text": [
      "Procesado: S1699-695X2014000300010-1.txt → S1699-695X2014000300010-1.xml\n",
      "S1137-66272012000200017-1.txt: Tokens de entrada: 3189\n"
     ]
    },
    {
     "name": "stderr",
     "output_type": "stream",
     "text": [
      "Setting `pad_token_id` to `eos_token_id`:128001 for open-end generation.\n"
     ]
    },
    {
     "name": "stdout",
     "output_type": "stream",
     "text": [
      "Procesado: S1137-66272012000200017-1.txt → S1137-66272012000200017-1.xml\n",
      "S0211-69952011000500011-3.txt: Tokens de entrada: 2988\n"
     ]
    },
    {
     "name": "stderr",
     "output_type": "stream",
     "text": [
      "Setting `pad_token_id` to `eos_token_id`:128001 for open-end generation.\n"
     ]
    },
    {
     "name": "stdout",
     "output_type": "stream",
     "text": [
      "Procesado: S0211-69952011000500011-3.txt → S0211-69952011000500011-3.xml\n",
      "S0365-66912005001000011-1.txt: Tokens de entrada: 3184\n"
     ]
    },
    {
     "name": "stderr",
     "output_type": "stream",
     "text": [
      "Setting `pad_token_id` to `eos_token_id`:128001 for open-end generation.\n"
     ]
    },
    {
     "name": "stdout",
     "output_type": "stream",
     "text": [
      "Procesado: S0365-66912005001000011-1.txt → S0365-66912005001000011-1.xml\n",
      "S1130-01082008001200016-1.txt: Tokens de entrada: 2850\n"
     ]
    },
    {
     "name": "stderr",
     "output_type": "stream",
     "text": [
      "Setting `pad_token_id` to `eos_token_id`:128001 for open-end generation.\n"
     ]
    },
    {
     "name": "stdout",
     "output_type": "stream",
     "text": [
      "Procesado: S1130-01082008001200016-1.txt → S1130-01082008001200016-1.xml\n",
      "S1130-05582012000300006-1.txt: Tokens de entrada: 3438\n"
     ]
    },
    {
     "name": "stderr",
     "output_type": "stream",
     "text": [
      "Setting `pad_token_id` to `eos_token_id`:128001 for open-end generation.\n"
     ]
    },
    {
     "name": "stdout",
     "output_type": "stream",
     "text": [
      "Procesado: S1130-05582012000300006-1.txt → S1130-05582012000300006-1.xml\n",
      "S0210-48062009000200018-1.txt: Tokens de entrada: 3679\n"
     ]
    },
    {
     "name": "stderr",
     "output_type": "stream",
     "text": [
      "Setting `pad_token_id` to `eos_token_id`:128001 for open-end generation.\n"
     ]
    },
    {
     "name": "stdout",
     "output_type": "stream",
     "text": [
      "Procesado: S0210-48062009000200018-1.txt → S0210-48062009000200018-1.xml\n",
      "S1130-01082009000600013-1.txt: Tokens de entrada: 2895\n"
     ]
    },
    {
     "name": "stderr",
     "output_type": "stream",
     "text": [
      "Setting `pad_token_id` to `eos_token_id`:128001 for open-end generation.\n"
     ]
    },
    {
     "name": "stdout",
     "output_type": "stream",
     "text": [
      "Procesado: S1130-01082009000600013-1.txt → S1130-01082009000600013-1.xml\n",
      "S0211-57352015000100011-2.txt: Tokens de entrada: 3781\n"
     ]
    },
    {
     "name": "stderr",
     "output_type": "stream",
     "text": [
      "Setting `pad_token_id` to `eos_token_id`:128001 for open-end generation.\n"
     ]
    },
    {
     "name": "stdout",
     "output_type": "stream",
     "text": [
      "Procesado: S0211-57352015000100011-2.txt → S0211-57352015000100011-2.xml\n",
      "S0004-06142007000500014-1.txt: Tokens de entrada: 2911\n"
     ]
    },
    {
     "name": "stderr",
     "output_type": "stream",
     "text": [
      "Setting `pad_token_id` to `eos_token_id`:128001 for open-end generation.\n"
     ]
    },
    {
     "name": "stdout",
     "output_type": "stream",
     "text": [
      "Procesado: S0004-06142007000500014-1.txt → S0004-06142007000500014-1.xml\n",
      "S0365-66912012000800005-1.txt: Tokens de entrada: 3097\n"
     ]
    },
    {
     "name": "stderr",
     "output_type": "stream",
     "text": [
      "Setting `pad_token_id` to `eos_token_id`:128001 for open-end generation.\n"
     ]
    },
    {
     "name": "stdout",
     "output_type": "stream",
     "text": [
      "Procesado: S0365-66912012000800005-1.txt → S0365-66912012000800005-1.xml\n",
      "S0210-56912008000100008-1.txt: Tokens de entrada: 3104\n"
     ]
    },
    {
     "name": "stderr",
     "output_type": "stream",
     "text": [
      "Setting `pad_token_id` to `eos_token_id`:128001 for open-end generation.\n"
     ]
    },
    {
     "name": "stdout",
     "output_type": "stream",
     "text": [
      "Procesado: S0210-56912008000100008-1.txt → S0210-56912008000100008-1.xml\n",
      "S1137-66272011000300022-1.txt: Tokens de entrada: 3243\n"
     ]
    },
    {
     "name": "stderr",
     "output_type": "stream",
     "text": [
      "Setting `pad_token_id` to `eos_token_id`:128001 for open-end generation.\n"
     ]
    },
    {
     "name": "stdout",
     "output_type": "stream",
     "text": [
      "Procesado: S1137-66272011000300022-1.txt → S1137-66272011000300022-1.xml\n",
      "S0210-48062004000500011-1.txt: Tokens de entrada: 3204\n"
     ]
    },
    {
     "name": "stderr",
     "output_type": "stream",
     "text": [
      "Setting `pad_token_id` to `eos_token_id`:128001 for open-end generation.\n"
     ]
    },
    {
     "name": "stdout",
     "output_type": "stream",
     "text": [
      "Procesado: S0210-48062004000500011-1.txt → S0210-48062004000500011-1.xml\n",
      "S1699-695X2015000200010-1.txt: Tokens de entrada: 3238\n"
     ]
    },
    {
     "name": "stderr",
     "output_type": "stream",
     "text": [
      "Setting `pad_token_id` to `eos_token_id`:128001 for open-end generation.\n"
     ]
    },
    {
     "name": "stdout",
     "output_type": "stream",
     "text": [
      "Procesado: S1699-695X2015000200010-1.txt → S1699-695X2015000200010-1.xml\n",
      "S0210-48062005001000013-1.txt: Tokens de entrada: 3777\n"
     ]
    },
    {
     "name": "stderr",
     "output_type": "stream",
     "text": [
      "Setting `pad_token_id` to `eos_token_id`:128001 for open-end generation.\n"
     ]
    },
    {
     "name": "stdout",
     "output_type": "stream",
     "text": [
      "Procesado: S0210-48062005001000013-1.txt → S0210-48062005001000013-1.xml\n",
      "S1698-44472004000500007-1.txt: Tokens de entrada: 3367\n"
     ]
    }
   ],
   "source": [
    "# Directorios de entrada y salida\n",
    "input_dir = \"test/\"\n",
    "output_dir = \"out/\"\n",
    "os.makedirs(output_dir, exist_ok=True)\n",
    "\n",
    "# Instrucciones para el modelo\n",
    "prompt = [\n",
    "    {\"role\": \"system\", \n",
    "     \"content\": \n",
    "        \"\"\" \n",
    "        Quiero que identifiques entidades nombradas que requieren ser anonimizadas en el informe clínico que copio entre comillas al final de esta instrucción. Quiero que me des el resultado en formato .xml in-line, donde las entidades sean identificadas por etiquetas en el mismo texto. Quiero que etiquetes con los criterios MEDDOCAN. A continuación, te muestro un ejemplo que contiene:\n",
    "        - El texto original del informe en formato plano (.txt)\n",
    "        - La representación estructurada del mismo en XML con etiquetas semánticas detalladas y posiciones de texto (atributos start, end, text, TYPE, etc.).\n",
    "        Tu tarea será generar un XML con las mismas reglas de estructura y etiquetado a partir de cada texto clínico. Instrucciones:\n",
    "        - Conserva el formato exacto del XML del ejemplo.\n",
    "        - Cada etiqueta tiene que tener el tipo de entidad (`TYPE`) del inventario de MEDDOCAN. Los tipos de entidad que puedes usar son los siguientes: \n",
    "            NOMBRE_SUJETO_ASISTENCIA\n",
    "            EDAD_SUJETO_ASISTENCIA\n",
    "            SEXO_SUJETO_ASISTENCIA\n",
    "            FAMILIARES_SUJETO_ASISTENCIA\n",
    "            NOMBRE_PERSONAL_SANITARIO\n",
    "            FECHAS\n",
    "            PROFESION\n",
    "            HOSPITAL\n",
    "            CENTRO_SALUD\n",
    "            INSTITUCION\n",
    "            CALLE\n",
    "            TERRITORIO\n",
    "            PAIS\n",
    "            NUMERO_TELEFONO\n",
    "            NUMERO_FAX\n",
    "            CORREO_ELECTRONICO\n",
    "            ID_SUJETO_ASISTENCIA\n",
    "            ID_CONTACTO_ASISTENCIAL\n",
    "            ID_ASEGURAMIENTO\n",
    "            ID_TITULACION_PERSONAL_SANITARIO\n",
    "            ID_EMPLEO_PERSONAL_SANITARIO\n",
    "            IDENTIF_VEHICULOS_NRSERIE_PLACAS\n",
    "            IDENTIF_DISPOSITIVOS_NRSERIE\n",
    "            DIREC_PROT_INTERNET\n",
    "            URL_WEB\n",
    "            IDENTIF_BIOMETRICOS\n",
    "            OTRO_NUMERO_IDENTIF\n",
    "            OTROS_SUJETO_ASISTENCIA\n",
    "          - y un campo de comentario (`comment`) vacío\n",
    "        Cuando te dé un nuevo texto, responde solo con el XML, sin explicaciones adicionales.\n",
    "    \n",
    "        Ejemplo - Informe en formato .txt: \n",
    "        Datos del paciente.\n",
    "        Nombre:  Ernesto.\n",
    "        Apellidos: Rivera Bueno.\n",
    "        NHC: 368503.\n",
    "        NASS: 26 63514095.\n",
    "        Domicilio:  Calle Miguel Benitez 90.\n",
    "        Localidad/ Provincia: Madrid.\n",
    "        CP: 28016.\n",
    "        Datos asistenciales.\n",
    "        Fecha de nacimiento: 03/03/1946.\n",
    "        País: España.\n",
    "        Edad: 70 años Sexo: H.\n",
    "        Fecha de Ingreso: 12/12/2016.\n",
    "        Médico:  Ignacio Navarro Cuéllar NºCol: 28 28 70973.\n",
    "        Informe clínico del paciente: Paciente de 70 años de edad, minero jubilado, sin alergias medicamentosas conocidas, que presenta como antecedentes personales: accidente laboral antiguo con fracturas vertebrales y costales; intervenido de enfermedad de Dupuytren en mano derecha y by-pass iliofemoral izquierdo; Diabetes Mellitus tipo II, hipercolesterolemia e hiperuricemia; enolismo activo, fumador de 20 cigarrillos / día.\n",
    "        Es derivado desde Atención Primaria por presentar hematuria macroscópica postmiccional en una ocasión y microhematuria persistente posteriormente, con micciones normales.\n",
    "        En la exploración física presenta un buen estado general, con abdomen y genitales normales; tacto rectal compatible con adenoma de próstata grado I/IV.\n",
    "        En la analítica de orina destaca la existencia de 4 hematíes/ campo y 0-5 leucocitos/campo; resto de sedimento normal.\n",
    "        Hemograma normal; en la bioquímica destaca una glucemia de 169 mg/dl y triglicéridos de 456 mg/dl; función hepática y renal normal. PSA de 1.16 ng/ml.\n",
    "        Las citologías de orina son repetidamente sospechosas de malignidad.\n",
    "        En la placa simple de abdomen se valoran cambios degenerativos en columna lumbar y calcificaciones vasculares en ambos hipocondrios y en pelvis.\n",
    "        La ecografía urológica pone de manifiesto la existencia de quistes corticales simples en riñón derecho, vejiga sin alteraciones con buena capacidad y próstata con un peso de 30 g.\n",
    "        En la UIV se observa normofuncionalismo renal bilateral, calcificaciones sobre silueta renal derecha y uréteres arrosariados con imágenes de adición en el tercio superior de ambos uréteres, en relación a pseudodiverticulosis ureteral. El cistograma demuestra una vejiga con buena capacidad, pero paredes trabeculadas en relación a vejiga de esfuerzo. La TC abdominal es normal.\n",
    "        La cistoscopia descubre la existencia de pequeñas tumoraciones vesicales, realizándose resección transuretral con el resultado anatomopatológico de carcinoma urotelial superficial de vejiga.\n",
    "        Remitido por: Ignacio Navarro Cuéllar c/ del Abedul 5-7, 2º dcha 28036 Madrid, España E-mail: nnavcu@hotmail.com.\n",
    "    \n",
    "        Ejemplo - Informe en formato .xml: lo que debes generar\n",
    "        <?xml version='1.0' encoding='UTF-8'?>\n",
    "        <MEDDOCAN>\n",
    "          <TEXT>\n",
    "        Ejemplo - Informe en formato .txt: \n",
    "        Datos del paciente.\n",
    "        Nombre:  <TAG TYPE=\"NOMBRE_SUJETO_ASISTENCIA\">Ernesto</TAG>.\n",
    "        Apellidos: <TAG TYPE=\"NOMBRE_SUJETO_ASISTENCIA\">Rivera Bueno</TAG>.\n",
    "        NHC: <TAG TYPE=\"ID_SUJETO_ASISTENCIA\">368503</TAG>.\n",
    "        NASS: <TAG TYPE=\"ID_ASEGURAMIENTO\">26 63514095</TAG>.\n",
    "        Domicilio:  <TAG TYPE=\"CALLE\">Calle Miguel Benitez 90</TAG>.\n",
    "        Localidad/ Provincia: <TAG TYPE=\"TERRITORIO\">Madrid</TAG>.\n",
    "        CP: <TAG TYPE=\"TERRITORIO\">28016</TAG>.\n",
    "        Datos asistenciales.\n",
    "        Fecha de nacimiento: <TAG TYPE=\"FECHAS\">03/03/1946</TAG>.\n",
    "        País: <TAG TYPE=\"PAIS\">España</TAG>.\n",
    "        Edad: <TAG TYPE=\"EDAD_SUJETO_ASISTENCIA\">70 años</TAG> Sexo: <TAG TYPE=\"SEXO_SUJETO_ASISTENCIA\">H</TAG>.\n",
    "        Fecha de Ingreso: <TAG TYPE=\"FECHAS\">12/12/2016</TAG>.\n",
    "        Médico:  <TAG TYPE=\"NOMBRE_PERSONAL_SANITARIO\">Ignacio</TAG> <TAG TYPE=\"NOMBRE_PERSONAL_SANITARIO\">Navarro Cuéllar</TAG> NºCol: <TAG TYPE=\"ID_TITULACION_PERSONAL_SANITARIO\">28 28 70973</TAG>.\n",
    "        Informe clínico del paciente: Paciente de <TAG TYPE=\"EDAD_SUJETO_ASISTENCIA\">70 años</TAG> de edad, minero jubilado, sin alergias medicamentosas conocidas, que presenta como antecedentes personales: accidente laboral antiguo con fracturas vertebrales y costales; intervenido de enfermedad de Dupuytren en mano derecha y by-pass iliofemoral izquierdo; Diabetes Mellitus tipo II, hipercolesterolemia e hiperuricemia; enolismo activo, fumador de 20 cigarrillos / día.\n",
    "        Es derivado desde Atención Primaria por presentar hematuria macroscópica postmiccional en una ocasión y microhematuria persistente posteriormente, con micciones normales.\n",
    "        En la exploración física presenta un buen estado general, con abdomen y genitales normales; tacto rectal compatible con adenoma de próstata grado I/IV.\n",
    "        En la analítica de orina destaca la existencia de 4 hematíes/ campo y 0-5 leucocitos/campo; resto de sedimento normal.\n",
    "        Hemograma normal; en la bioquímica destaca una glucemia de 169 mg/dl y triglicéridos de 456 mg/dl; función hepática y renal normal. PSA de 1.16 ng/ml.\n",
    "        Las citologías de orina son repetidamente sospechosas de malignidad.\n",
    "        En la placa simple de abdomen se valoran cambios degenerativos en columna lumbar y calcificaciones vasculares en ambos hipocondrios y en pelvis.\n",
    "        La ecografía urológica pone de manifiesto la existencia de quistes corticales simples en riñón derecho, vejiga sin alteraciones con buena capacidad y próstata con un peso de 30 g.\n",
    "        En la UIV se observa normofuncionalismo renal bilateral, calcificaciones sobre silueta renal derecha y uréteres arrosariados con imágenes de adición en el tercio superior de ambos uréteres, en relación a pseudodiverticulosis ureteral. El cistograma demuestra una vejiga con buena capacidad, pero paredes trabeculadas en relación a vejiga de esfuerzo. La TC abdominal es normal.\n",
    "        La cistoscopia descubre la existencia de pequeñas tumoraciones vesicales, realizándose resección transuretral con el resultado anatomopatológico de carcinoma urotelial superficial de vejiga.\n",
    "        Remitido por: <TAG TYPE=\"NOMBRE_PERSONAL_SANITARIO\">Ignacio</TAG> <TAG TYPE=\"NOMBRE_PERSONAL_SANITARIO\">Navarro Cuéllar</TAG> <TAG TYPE=\"CALLE\">c/ del Abedul 5-7, 2º dcha</TAG> <TAG TYPE=\"TERRITORIO\" >28036</TAG> <TAG TYPE=\"TERRITORIO\" >Madrid</TAG>, <TAG TYPE=\"PAIS\">España</TAG> E-mail: <TAG TYPE=\"CORREO_ELECTRONICO\">nnavcu@hotmail.com</TAG>.\n",
    "        </TEXT>\n",
    "        </MEDDOCAN>\n",
    "    \n",
    "        Recordá que en ningún caso debes incluir advertencias, explicaciones ni descripciones sobre la tarea, sobre la instrucción que te he dado o sobre cuestiones de funcionamiento del modelo de lenguaje.\n",
    "        \"\"\"},\n",
    "     ]\n",
    "\n",
    "# Configuración de tokens\n",
    "MAX_CONTEXT_TOKENS = 8192\n",
    "MAX_GENERATION_TOKENS = 4000\n",
    "MAX_INPUT_TOKENS = MAX_CONTEXT_TOKENS - MAX_GENERATION_TOKENS\n",
    "\n",
    "\n",
    "\n",
    "# Procesar cada archivo .txt\n",
    "for filename in os.listdir(input_dir):\n",
    "    if filename.endswith(\".txt\"):\n",
    "        filepath = os.path.join(input_dir, filename)\n",
    "        with open(filepath, \"r\", encoding=\"utf-8\") as f:\n",
    "            texto = f.read()\n",
    "\n",
    "        # Crear mensaje estilo chat\n",
    "        prompt_text = prompt[0][\"content\"]\n",
    "        messages = [\n",
    "            {\"role\": \"system\", \"content\": prompt_text},\n",
    "            {\"role\": \"user\", \"content\": texto}\n",
    "        ]\n",
    "\n",
    "        # Calcular tokens de entrada\n",
    "        full_prompt = prompt_text + texto\n",
    "        total_tokens = len(tokenizer.encode(full_prompt))\n",
    "        print(f\"{filename}: Tokens de entrada: {total_tokens}\")\n",
    "\n",
    "        # Truncar el prompt si se pasa del límite permitido\n",
    "        if total_tokens > MAX_INPUT_TOKENS:\n",
    "            print(f\"Truncando prompt: {filename}\")\n",
    "            # Calcular los tokens disponibles para el prompt\n",
    "            max_tokens_prompt = MAX_INPUT_TOKENS - len(tokenizer.encode(texto))\n",
    "            \n",
    "            # Truncar el prompt para ajustarlo al límite de tokens\n",
    "            prompt_tokens = tokenizer.encode(prompt[0][\"content\"])\n",
    "            truncated_prompt_tokens = prompt_tokens[:max_tokens_prompt]\n",
    "            \n",
    "            # Decodificar los tokens truncados y actualizar el prompt\n",
    "            truncated_prompt = tokenizer.decode(truncated_prompt_tokens, skip_special_tokens=True)\n",
    "            messages[0][\"content\"] = truncated_prompt\n",
    "\n",
    "        # Generar texto\n",
    "        output = pipeline(messages, max_new_tokens=MAX_GENERATION_TOKENS)\n",
    "\n",
    "        # Extraer solo el contenido generado por el modelo\n",
    "        respuesta = output[0][\"generated_text\"][2][\"content\"]\n",
    "\n",
    "        # Guardar en .xml\n",
    "        output_filename = os.path.splitext(filename)[0] + \".xml\"\n",
    "        output_path = os.path.join(output_dir, output_filename)\n",
    "        with open(output_path, \"w\", encoding=\"utf-8\") as out_f:\n",
    "            out_f.write(respuesta)\n",
    "\n",
    "        print(f\"Procesado: {filename} → {output_filename}\")\n",
    "\n",
    "print(\"Proceso completado.\")"
   ]
  },
  {
   "cell_type": "code",
   "execution_count": null,
   "id": "808372ce-fad0-4054-a322-4e3bdb46ddfb",
   "metadata": {},
   "outputs": [],
   "source": []
  }
 ],
 "metadata": {
  "kernelspec": {
   "display_name": "Python 3 (ipykernel)",
   "language": "python",
   "name": "python3"
  },
  "language_info": {
   "codemirror_mode": {
    "name": "ipython",
    "version": 3
   },
   "file_extension": ".py",
   "mimetype": "text/x-python",
   "name": "python",
   "nbconvert_exporter": "python",
   "pygments_lexer": "ipython3",
   "version": "3.13.2"
  }
 },
 "nbformat": 4,
 "nbformat_minor": 5
}
