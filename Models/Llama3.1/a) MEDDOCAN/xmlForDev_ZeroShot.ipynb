{
 "cells": [
  {
   "cell_type": "code",
   "execution_count": 9,
   "id": "cdbb5c68-c242-44dd-adee-36319ce00e00",
   "metadata": {},
   "outputs": [
    {
     "name": "stdout",
     "output_type": "stream",
     "text": [
      "number of GPUs: torch.cuda.device_count()\n",
      "2.6.0+rocm6.1\n"
     ]
    }
   ],
   "source": [
    "import transformers\n",
    "from transformers import AutoTokenizer\n",
    "import torch\n",
    "import os\n",
    "print(f\"number of GPUs: torch.cuda.device_count()\")\n",
    "print(torch.__version__)"
   ]
  },
  {
   "cell_type": "code",
   "execution_count": 11,
   "id": "7ec2ab81-0906-44dc-8795-74e2a25a3b84",
   "metadata": {},
   "outputs": [
    {
     "data": {
      "application/vnd.jupyter.widget-view+json": {
       "model_id": "e03e4985476d47a7bd767bd625a61c3a",
       "version_major": 2,
       "version_minor": 0
      },
      "text/plain": [
       "Loading checkpoint shards:   0%|          | 0/4 [00:00<?, ?it/s]"
      ]
     },
     "metadata": {},
     "output_type": "display_data"
    },
    {
     "name": "stderr",
     "output_type": "stream",
     "text": [
      "Device set to use cuda\n"
     ]
    }
   ],
   "source": [
    "model_id = \"meta-llama/Meta-Llama-3.1-8B-Instruct\" \n",
    "\n",
    "if  torch.cuda.is_available():\n",
    "    device = \"cuda\"\n",
    "else:\n",
    "    raise ValueError(\"No se reconoció GPU.\")\n",
    "\n",
    "pipeline = transformers.pipeline(\n",
    "\t\"text-generation\", \n",
    "\tmodel=model_id,\n",
    "\tmodel_kwargs={\"torch_dtype\": torch.bfloat16},\n",
    "\tdevice=device\n",
    ")\n",
    "\n",
    "# Tokenizer necesario para contar tokens\n",
    "tokenizer = transformers.AutoTokenizer.from_pretrained(model_id)"
   ]
  },
  {
   "cell_type": "code",
   "execution_count": null,
   "id": "88945634-1017-440d-94ae-b07f040a180c",
   "metadata": {},
   "outputs": [
    {
     "name": "stderr",
     "output_type": "stream",
     "text": [
      "Setting `pad_token_id` to `eos_token_id`:128001 for open-end generation.\n"
     ]
    },
    {
     "name": "stdout",
     "output_type": "stream",
     "text": [
      "S0210-48062005000700013-1.txt: Tokens de entrada: 2989\n"
     ]
    },
    {
     "name": "stderr",
     "output_type": "stream",
     "text": [
      "Setting `pad_token_id` to `eos_token_id`:128001 for open-end generation.\n"
     ]
    },
    {
     "name": "stdout",
     "output_type": "stream",
     "text": [
      "Procesado: S0210-48062005000700013-1.txt → S0210-48062005000700013-1.xml\n",
      "S0211-69952009000500014-1.txt: Tokens de entrada: 3289\n"
     ]
    },
    {
     "name": "stderr",
     "output_type": "stream",
     "text": [
      "Setting `pad_token_id` to `eos_token_id`:128001 for open-end generation.\n"
     ]
    },
    {
     "name": "stdout",
     "output_type": "stream",
     "text": [
      "Procesado: S0211-69952009000500014-1.txt → S0211-69952009000500014-1.xml\n",
      "S1137-66272016000300012-1.txt: Tokens de entrada: 3696\n"
     ]
    },
    {
     "name": "stderr",
     "output_type": "stream",
     "text": [
      "Setting `pad_token_id` to `eos_token_id`:128001 for open-end generation.\n"
     ]
    },
    {
     "name": "stdout",
     "output_type": "stream",
     "text": [
      "Procesado: S1137-66272016000300012-1.txt → S1137-66272016000300012-1.xml\n",
      "S1130-05582008000300004-1.txt: Tokens de entrada: 3126\n"
     ]
    },
    {
     "name": "stderr",
     "output_type": "stream",
     "text": [
      "Setting `pad_token_id` to `eos_token_id`:128001 for open-end generation.\n"
     ]
    },
    {
     "name": "stdout",
     "output_type": "stream",
     "text": [
      "Procesado: S1130-05582008000300004-1.txt → S1130-05582008000300004-1.xml\n",
      "S1139-76322015000300018-1.txt: Tokens de entrada: 3284\n"
     ]
    },
    {
     "name": "stderr",
     "output_type": "stream",
     "text": [
      "Setting `pad_token_id` to `eos_token_id`:128001 for open-end generation.\n"
     ]
    },
    {
     "name": "stdout",
     "output_type": "stream",
     "text": [
      "Procesado: S1139-76322015000300018-1.txt → S1139-76322015000300018-1.xml\n",
      "S0210-48062004000300006-1.txt: Tokens de entrada: 3413\n"
     ]
    },
    {
     "name": "stderr",
     "output_type": "stream",
     "text": [
      "Setting `pad_token_id` to `eos_token_id`:128001 for open-end generation.\n"
     ]
    },
    {
     "name": "stdout",
     "output_type": "stream",
     "text": [
      "Procesado: S0210-48062004000300006-1.txt → S0210-48062004000300006-1.xml\n",
      "S0212-16112011000300031-1.txt: Tokens de entrada: 3430\n"
     ]
    },
    {
     "name": "stderr",
     "output_type": "stream",
     "text": [
      "Setting `pad_token_id` to `eos_token_id`:128001 for open-end generation.\n"
     ]
    },
    {
     "name": "stdout",
     "output_type": "stream",
     "text": [
      "Procesado: S0212-16112011000300031-1.txt → S0212-16112011000300031-1.xml\n",
      "S0210-48062009000300013-2.txt: Tokens de entrada: 2919\n"
     ]
    },
    {
     "name": "stderr",
     "output_type": "stream",
     "text": [
      "Setting `pad_token_id` to `eos_token_id`:128001 for open-end generation.\n"
     ]
    },
    {
     "name": "stdout",
     "output_type": "stream",
     "text": [
      "Procesado: S0210-48062009000300013-2.txt → S0210-48062009000300013-2.xml\n",
      "S1135-76062014000200009-1.txt: Tokens de entrada: 3074\n"
     ]
    },
    {
     "name": "stderr",
     "output_type": "stream",
     "text": [
      "Setting `pad_token_id` to `eos_token_id`:128001 for open-end generation.\n"
     ]
    },
    {
     "name": "stdout",
     "output_type": "stream",
     "text": [
      "Procesado: S1135-76062014000200009-1.txt → S1135-76062014000200009-1.xml\n",
      "S0365-66912010000700004-1.txt: Tokens de entrada: 2994\n"
     ]
    },
    {
     "name": "stderr",
     "output_type": "stream",
     "text": [
      "You seem to be using the pipelines sequentially on GPU. In order to maximize efficiency please use a dataset\n",
      "Setting `pad_token_id` to `eos_token_id`:128001 for open-end generation.\n"
     ]
    },
    {
     "name": "stdout",
     "output_type": "stream",
     "text": [
      "Procesado: S0365-66912010000700004-1.txt → S0365-66912010000700004-1.xml\n",
      "S0210-48062006000900012-2.txt: Tokens de entrada: 3219\n"
     ]
    },
    {
     "name": "stderr",
     "output_type": "stream",
     "text": [
      "Setting `pad_token_id` to `eos_token_id`:128001 for open-end generation.\n"
     ]
    },
    {
     "name": "stdout",
     "output_type": "stream",
     "text": [
      "Procesado: S0210-48062006000900012-2.txt → S0210-48062006000900012-2.xml\n",
      "S1130-01082009000500007-1.txt: Tokens de entrada: 2956\n"
     ]
    },
    {
     "name": "stderr",
     "output_type": "stream",
     "text": [
      "Setting `pad_token_id` to `eos_token_id`:128001 for open-end generation.\n"
     ]
    },
    {
     "name": "stdout",
     "output_type": "stream",
     "text": [
      "Procesado: S1130-01082009000500007-1.txt → S1130-01082009000500007-1.xml\n",
      "S1130-05582014000300006-1.txt: Tokens de entrada: 3281\n"
     ]
    },
    {
     "name": "stderr",
     "output_type": "stream",
     "text": [
      "Setting `pad_token_id` to `eos_token_id`:128001 for open-end generation.\n"
     ]
    },
    {
     "name": "stdout",
     "output_type": "stream",
     "text": [
      "Procesado: S1130-05582014000300006-1.txt → S1130-05582014000300006-1.xml\n",
      "S1130-05582003000600004-1.txt: Tokens de entrada: 3243\n"
     ]
    },
    {
     "name": "stderr",
     "output_type": "stream",
     "text": [
      "Setting `pad_token_id` to `eos_token_id`:128001 for open-end generation.\n"
     ]
    },
    {
     "name": "stdout",
     "output_type": "stream",
     "text": [
      "Procesado: S1130-05582003000600004-1.txt → S1130-05582003000600004-1.xml\n",
      "S0210-48062007001000016-1.txt: Tokens de entrada: 3378\n"
     ]
    },
    {
     "name": "stderr",
     "output_type": "stream",
     "text": [
      "Setting `pad_token_id` to `eos_token_id`:128001 for open-end generation.\n"
     ]
    },
    {
     "name": "stdout",
     "output_type": "stream",
     "text": [
      "Procesado: S0210-48062007001000016-1.txt → S0210-48062007001000016-1.xml\n",
      "S0376-78922011000100010-1.txt: Tokens de entrada: 3392\n"
     ]
    },
    {
     "name": "stderr",
     "output_type": "stream",
     "text": [
      "Setting `pad_token_id` to `eos_token_id`:128001 for open-end generation.\n"
     ]
    },
    {
     "name": "stdout",
     "output_type": "stream",
     "text": [
      "Procesado: S0376-78922011000100010-1.txt → S0376-78922011000100010-1.xml\n",
      "S0376-78922015000200010-1.txt: Tokens de entrada: 3191\n"
     ]
    },
    {
     "name": "stderr",
     "output_type": "stream",
     "text": [
      "Setting `pad_token_id` to `eos_token_id`:128001 for open-end generation.\n"
     ]
    },
    {
     "name": "stdout",
     "output_type": "stream",
     "text": [
      "Procesado: S0376-78922015000200010-1.txt → S0376-78922015000200010-1.xml\n",
      "S1139-76322009000500006-1.txt: Tokens de entrada: 3079\n"
     ]
    },
    {
     "name": "stderr",
     "output_type": "stream",
     "text": [
      "Setting `pad_token_id` to `eos_token_id`:128001 for open-end generation.\n"
     ]
    },
    {
     "name": "stdout",
     "output_type": "stream",
     "text": [
      "Procesado: S1139-76322009000500006-1.txt → S1139-76322009000500006-1.xml\n",
      "S0004-06142008000100011-1.txt: Tokens de entrada: 3901\n"
     ]
    },
    {
     "name": "stderr",
     "output_type": "stream",
     "text": [
      "Setting `pad_token_id` to `eos_token_id`:128001 for open-end generation.\n"
     ]
    },
    {
     "name": "stdout",
     "output_type": "stream",
     "text": [
      "Procesado: S0004-06142008000100011-1.txt → S0004-06142008000100011-1.xml\n",
      "S0211-69952011000500013-1.txt: Tokens de entrada: 3506\n"
     ]
    },
    {
     "name": "stderr",
     "output_type": "stream",
     "text": [
      "Setting `pad_token_id` to `eos_token_id`:128001 for open-end generation.\n"
     ]
    },
    {
     "name": "stdout",
     "output_type": "stream",
     "text": [
      "Procesado: S0211-69952011000500013-1.txt → S0211-69952011000500013-1.xml\n",
      "S1130-63432016000600014-1.txt: Tokens de entrada: 3541\n"
     ]
    },
    {
     "name": "stderr",
     "output_type": "stream",
     "text": [
      "Setting `pad_token_id` to `eos_token_id`:128001 for open-end generation.\n"
     ]
    },
    {
     "name": "stdout",
     "output_type": "stream",
     "text": [
      "Procesado: S1130-63432016000600014-1.txt → S1130-63432016000600014-1.xml\n",
      "S1139-76322013000400008-1.txt: Tokens de entrada: 3132\n"
     ]
    },
    {
     "name": "stderr",
     "output_type": "stream",
     "text": [
      "Setting `pad_token_id` to `eos_token_id`:128001 for open-end generation.\n"
     ]
    },
    {
     "name": "stdout",
     "output_type": "stream",
     "text": [
      "Procesado: S1139-76322013000400008-1.txt → S1139-76322013000400008-1.xml\n",
      "S0365-66912012000200005-1.txt: Tokens de entrada: 3363\n"
     ]
    },
    {
     "name": "stderr",
     "output_type": "stream",
     "text": [
      "Setting `pad_token_id` to `eos_token_id`:128001 for open-end generation.\n"
     ]
    },
    {
     "name": "stdout",
     "output_type": "stream",
     "text": [
      "Procesado: S0365-66912012000200005-1.txt → S0365-66912012000200005-1.xml\n",
      "S0365-66912011001000004-1.txt: Tokens de entrada: 3221\n"
     ]
    },
    {
     "name": "stderr",
     "output_type": "stream",
     "text": [
      "Setting `pad_token_id` to `eos_token_id`:128001 for open-end generation.\n"
     ]
    },
    {
     "name": "stdout",
     "output_type": "stream",
     "text": [
      "Procesado: S0365-66912011001000004-1.txt → S0365-66912011001000004-1.xml\n",
      "S1699-695X2016000200009-1.txt: Tokens de entrada: 3488\n"
     ]
    },
    {
     "name": "stderr",
     "output_type": "stream",
     "text": [
      "Setting `pad_token_id` to `eos_token_id`:128001 for open-end generation.\n"
     ]
    },
    {
     "name": "stdout",
     "output_type": "stream",
     "text": [
      "Procesado: S1699-695X2016000200009-1.txt → S1699-695X2016000200009-1.xml\n",
      "S1137-66272016000200014-1.txt: Tokens de entrada: 3602\n"
     ]
    },
    {
     "name": "stderr",
     "output_type": "stream",
     "text": [
      "Setting `pad_token_id` to `eos_token_id`:128001 for open-end generation.\n"
     ]
    },
    {
     "name": "stdout",
     "output_type": "stream",
     "text": [
      "Procesado: S1137-66272016000200014-1.txt → S1137-66272016000200014-1.xml\n",
      "S0004-06142009000700011-1.txt: Tokens de entrada: 3153\n"
     ]
    },
    {
     "name": "stderr",
     "output_type": "stream",
     "text": [
      "Setting `pad_token_id` to `eos_token_id`:128001 for open-end generation.\n"
     ]
    },
    {
     "name": "stdout",
     "output_type": "stream",
     "text": [
      "Procesado: S0004-06142009000700011-1.txt → S0004-06142009000700011-1.xml\n",
      "S0004-06142008000500014-1.txt: Tokens de entrada: 3351\n"
     ]
    },
    {
     "name": "stderr",
     "output_type": "stream",
     "text": [
      "Setting `pad_token_id` to `eos_token_id`:128001 for open-end generation.\n"
     ]
    },
    {
     "name": "stdout",
     "output_type": "stream",
     "text": [
      "Procesado: S0004-06142008000500014-1.txt → S0004-06142008000500014-1.xml\n",
      "S1698-69462006000200016-1.txt: Tokens de entrada: 3145\n"
     ]
    },
    {
     "name": "stderr",
     "output_type": "stream",
     "text": [
      "Setting `pad_token_id` to `eos_token_id`:128001 for open-end generation.\n"
     ]
    },
    {
     "name": "stdout",
     "output_type": "stream",
     "text": [
      "Procesado: S1698-69462006000200016-1.txt → S1698-69462006000200016-1.xml\n",
      "S0212-16112011000600041-2.txt: Tokens de entrada: 3090\n"
     ]
    },
    {
     "name": "stderr",
     "output_type": "stream",
     "text": [
      "Setting `pad_token_id` to `eos_token_id`:128001 for open-end generation.\n"
     ]
    },
    {
     "name": "stdout",
     "output_type": "stream",
     "text": [
      "Procesado: S0212-16112011000600041-2.txt → S0212-16112011000600041-2.xml\n",
      "S0210-48062006000200018-1.txt: Tokens de entrada: 2961\n"
     ]
    },
    {
     "name": "stderr",
     "output_type": "stream",
     "text": [
      "Setting `pad_token_id` to `eos_token_id`:128001 for open-end generation.\n"
     ]
    },
    {
     "name": "stdout",
     "output_type": "stream",
     "text": [
      "Procesado: S0210-48062006000200018-1.txt → S0210-48062006000200018-1.xml\n",
      "S0004-06142009000500013-1.txt: Tokens de entrada: 2962\n"
     ]
    },
    {
     "name": "stderr",
     "output_type": "stream",
     "text": [
      "Setting `pad_token_id` to `eos_token_id`:128001 for open-end generation.\n"
     ]
    },
    {
     "name": "stdout",
     "output_type": "stream",
     "text": [
      "Procesado: S0004-06142009000500013-1.txt → S0004-06142009000500013-1.xml\n",
      "S0212-71992004000600005-1.txt: Tokens de entrada: 3849\n"
     ]
    },
    {
     "name": "stderr",
     "output_type": "stream",
     "text": [
      "Setting `pad_token_id` to `eos_token_id`:128001 for open-end generation.\n"
     ]
    },
    {
     "name": "stdout",
     "output_type": "stream",
     "text": [
      "Procesado: S0212-71992004000600005-1.txt → S0212-71992004000600005-1.xml\n",
      "S0212-16112010000600022-1.txt: Tokens de entrada: 4369\n",
      "Truncando prompt: S0212-16112010000600022-1.txt\n"
     ]
    },
    {
     "name": "stderr",
     "output_type": "stream",
     "text": [
      "Setting `pad_token_id` to `eos_token_id`:128001 for open-end generation.\n"
     ]
    },
    {
     "name": "stdout",
     "output_type": "stream",
     "text": [
      "Procesado: S0212-16112010000600022-1.txt → S0212-16112010000600022-1.xml\n",
      "S1130-01082008000100009-1.txt: Tokens de entrada: 2883\n"
     ]
    },
    {
     "name": "stderr",
     "output_type": "stream",
     "text": [
      "Setting `pad_token_id` to `eos_token_id`:128001 for open-end generation.\n"
     ]
    },
    {
     "name": "stdout",
     "output_type": "stream",
     "text": [
      "Procesado: S1130-01082008000100009-1.txt → S1130-01082008000100009-1.xml\n",
      "S0365-66912006000300011-1.txt: Tokens de entrada: 2925\n"
     ]
    },
    {
     "name": "stderr",
     "output_type": "stream",
     "text": [
      "Setting `pad_token_id` to `eos_token_id`:128001 for open-end generation.\n"
     ]
    },
    {
     "name": "stdout",
     "output_type": "stream",
     "text": [
      "Procesado: S0365-66912006000300011-1.txt → S0365-66912006000300011-1.xml\n",
      "S1130-14732005000600008-1.txt: Tokens de entrada: 3019\n"
     ]
    },
    {
     "name": "stderr",
     "output_type": "stream",
     "text": [
      "Setting `pad_token_id` to `eos_token_id`:128001 for open-end generation.\n"
     ]
    },
    {
     "name": "stdout",
     "output_type": "stream",
     "text": [
      "Procesado: S1130-14732005000600008-1.txt → S1130-14732005000600008-1.xml\n",
      "S1134-80462015000100006-1.txt: Tokens de entrada: 3377\n"
     ]
    },
    {
     "name": "stderr",
     "output_type": "stream",
     "text": [
      "Setting `pad_token_id` to `eos_token_id`:128001 for open-end generation.\n"
     ]
    },
    {
     "name": "stdout",
     "output_type": "stream",
     "text": [
      "Procesado: S1134-80462015000100006-1.txt → S1134-80462015000100006-1.xml\n",
      "S1139-76322014000500014-1.txt: Tokens de entrada: 3134\n"
     ]
    },
    {
     "name": "stderr",
     "output_type": "stream",
     "text": [
      "Setting `pad_token_id` to `eos_token_id`:128001 for open-end generation.\n"
     ]
    },
    {
     "name": "stdout",
     "output_type": "stream",
     "text": [
      "Procesado: S1139-76322014000500014-1.txt → S1139-76322014000500014-1.xml\n",
      "S0004-06142008000300012-1.txt: Tokens de entrada: 3900\n"
     ]
    },
    {
     "name": "stderr",
     "output_type": "stream",
     "text": [
      "Setting `pad_token_id` to `eos_token_id`:128001 for open-end generation.\n"
     ]
    },
    {
     "name": "stdout",
     "output_type": "stream",
     "text": [
      "Procesado: S0004-06142008000300012-1.txt → S0004-06142008000300012-1.xml\n",
      "S2340-98942015000100005-1.txt: Tokens de entrada: 3233\n"
     ]
    },
    {
     "name": "stderr",
     "output_type": "stream",
     "text": [
      "Setting `pad_token_id` to `eos_token_id`:128001 for open-end generation.\n"
     ]
    },
    {
     "name": "stdout",
     "output_type": "stream",
     "text": [
      "Procesado: S2340-98942015000100005-1.txt → S2340-98942015000100005-1.xml\n",
      "S0465-546X2008000200010-1.txt: Tokens de entrada: 3111\n"
     ]
    },
    {
     "name": "stderr",
     "output_type": "stream",
     "text": [
      "Setting `pad_token_id` to `eos_token_id`:128001 for open-end generation.\n"
     ]
    },
    {
     "name": "stdout",
     "output_type": "stream",
     "text": [
      "Procesado: S0465-546X2008000200010-1.txt → S0465-546X2008000200010-1.xml\n",
      "S0378-48352005000500005-1.txt: Tokens de entrada: 3352\n"
     ]
    },
    {
     "name": "stderr",
     "output_type": "stream",
     "text": [
      "Setting `pad_token_id` to `eos_token_id`:128001 for open-end generation.\n"
     ]
    },
    {
     "name": "stdout",
     "output_type": "stream",
     "text": [
      "Procesado: S0378-48352005000500005-1.txt → S0378-48352005000500005-1.xml\n",
      "S0365-66912012000300003-1.txt: Tokens de entrada: 3225\n"
     ]
    },
    {
     "name": "stderr",
     "output_type": "stream",
     "text": [
      "Setting `pad_token_id` to `eos_token_id`:128001 for open-end generation.\n"
     ]
    },
    {
     "name": "stdout",
     "output_type": "stream",
     "text": [
      "Procesado: S0365-66912012000300003-1.txt → S0365-66912012000300003-1.xml\n",
      "S0365-66912006000100009-1.txt: Tokens de entrada: 3111\n"
     ]
    },
    {
     "name": "stderr",
     "output_type": "stream",
     "text": [
      "Setting `pad_token_id` to `eos_token_id`:128001 for open-end generation.\n"
     ]
    },
    {
     "name": "stdout",
     "output_type": "stream",
     "text": [
      "Procesado: S0365-66912006000100009-1.txt → S0365-66912006000100009-1.xml\n",
      "S1699-695X2016000200013-1.txt: Tokens de entrada: 3558\n"
     ]
    },
    {
     "name": "stderr",
     "output_type": "stream",
     "text": [
      "Setting `pad_token_id` to `eos_token_id`:128001 for open-end generation.\n"
     ]
    },
    {
     "name": "stdout",
     "output_type": "stream",
     "text": [
      "Procesado: S1699-695X2016000200013-1.txt → S1699-695X2016000200013-1.xml\n",
      "S1130-63432014000500008-1.txt: Tokens de entrada: 3223\n"
     ]
    },
    {
     "name": "stderr",
     "output_type": "stream",
     "text": [
      "Setting `pad_token_id` to `eos_token_id`:128001 for open-end generation.\n"
     ]
    },
    {
     "name": "stdout",
     "output_type": "stream",
     "text": [
      "Procesado: S1130-63432014000500008-1.txt → S1130-63432014000500008-1.xml\n",
      "S1137-66272008000300009-1.txt: Tokens de entrada: 3527\n"
     ]
    },
    {
     "name": "stderr",
     "output_type": "stream",
     "text": [
      "Setting `pad_token_id` to `eos_token_id`:128001 for open-end generation.\n"
     ]
    },
    {
     "name": "stdout",
     "output_type": "stream",
     "text": [
      "Procesado: S1137-66272008000300009-1.txt → S1137-66272008000300009-1.xml\n",
      "S1134-80462015000200003-1.txt: Tokens de entrada: 3209\n"
     ]
    },
    {
     "name": "stderr",
     "output_type": "stream",
     "text": [
      "Setting `pad_token_id` to `eos_token_id`:128001 for open-end generation.\n"
     ]
    },
    {
     "name": "stdout",
     "output_type": "stream",
     "text": [
      "Procesado: S1134-80462015000200003-1.txt → S1134-80462015000200003-1.xml\n",
      "S0365-66912006001200010-1.txt: Tokens de entrada: 3331\n"
     ]
    },
    {
     "name": "stderr",
     "output_type": "stream",
     "text": [
      "Setting `pad_token_id` to `eos_token_id`:128001 for open-end generation.\n"
     ]
    },
    {
     "name": "stdout",
     "output_type": "stream",
     "text": [
      "Procesado: S0365-66912006001200010-1.txt → S0365-66912006001200010-1.xml\n",
      "S0004-06142009000100010-2.txt: Tokens de entrada: 3221\n"
     ]
    },
    {
     "name": "stderr",
     "output_type": "stream",
     "text": [
      "Setting `pad_token_id` to `eos_token_id`:128001 for open-end generation.\n"
     ]
    },
    {
     "name": "stdout",
     "output_type": "stream",
     "text": [
      "Procesado: S0004-06142009000100010-2.txt → S0004-06142009000100010-2.xml\n",
      "S0365-66912007000900011-1.txt: Tokens de entrada: 3128\n"
     ]
    },
    {
     "name": "stderr",
     "output_type": "stream",
     "text": [
      "Setting `pad_token_id` to `eos_token_id`:128001 for open-end generation.\n"
     ]
    },
    {
     "name": "stdout",
     "output_type": "stream",
     "text": [
      "Procesado: S0365-66912007000900011-1.txt → S0365-66912007000900011-1.xml\n",
      "S0212-71992006001000007-1.txt: Tokens de entrada: 3755\n"
     ]
    },
    {
     "name": "stderr",
     "output_type": "stream",
     "text": [
      "Setting `pad_token_id` to `eos_token_id`:128001 for open-end generation.\n"
     ]
    },
    {
     "name": "stdout",
     "output_type": "stream",
     "text": [
      "Procesado: S0212-71992006001000007-1.txt → S0212-71992006001000007-1.xml\n",
      "S1139-76322014000100006-1.txt: Tokens de entrada: 2733\n"
     ]
    },
    {
     "name": "stderr",
     "output_type": "stream",
     "text": [
      "Setting `pad_token_id` to `eos_token_id`:128001 for open-end generation.\n"
     ]
    },
    {
     "name": "stdout",
     "output_type": "stream",
     "text": [
      "Procesado: S1139-76322014000100006-1.txt → S1139-76322014000100006-1.xml\n",
      "S1139-76322015000100014-1.txt: Tokens de entrada: 3904\n"
     ]
    },
    {
     "name": "stderr",
     "output_type": "stream",
     "text": [
      "Setting `pad_token_id` to `eos_token_id`:128001 for open-end generation.\n"
     ]
    },
    {
     "name": "stdout",
     "output_type": "stream",
     "text": [
      "Procesado: S1139-76322015000100014-1.txt → S1139-76322015000100014-1.xml\n",
      "S0365-66912006001200009-1.txt: Tokens de entrada: 3214\n"
     ]
    },
    {
     "name": "stderr",
     "output_type": "stream",
     "text": [
      "Setting `pad_token_id` to `eos_token_id`:128001 for open-end generation.\n"
     ]
    },
    {
     "name": "stdout",
     "output_type": "stream",
     "text": [
      "Procesado: S0365-66912006001200009-1.txt → S0365-66912006001200009-1.xml\n",
      "S0004-06142008000400010-1.txt: Tokens de entrada: 3852\n"
     ]
    },
    {
     "name": "stderr",
     "output_type": "stream",
     "text": [
      "Setting `pad_token_id` to `eos_token_id`:128001 for open-end generation.\n"
     ]
    },
    {
     "name": "stdout",
     "output_type": "stream",
     "text": [
      "Procesado: S0004-06142008000400010-1.txt → S0004-06142008000400010-1.xml\n",
      "S1139-76322009000200009-1.txt: Tokens de entrada: 3126\n"
     ]
    },
    {
     "name": "stderr",
     "output_type": "stream",
     "text": [
      "Setting `pad_token_id` to `eos_token_id`:128001 for open-end generation.\n"
     ]
    },
    {
     "name": "stdout",
     "output_type": "stream",
     "text": [
      "Procesado: S1139-76322009000200009-1.txt → S1139-76322009000200009-1.xml\n",
      "S0365-66912009001100006-1.txt: Tokens de entrada: 3291\n"
     ]
    },
    {
     "name": "stderr",
     "output_type": "stream",
     "text": [
      "Setting `pad_token_id` to `eos_token_id`:128001 for open-end generation.\n"
     ]
    },
    {
     "name": "stdout",
     "output_type": "stream",
     "text": [
      "Procesado: S0365-66912009001100006-1.txt → S0365-66912009001100006-1.xml\n",
      "S1130-14732005000300004-1.txt: Tokens de entrada: 3879\n"
     ]
    },
    {
     "name": "stderr",
     "output_type": "stream",
     "text": [
      "Setting `pad_token_id` to `eos_token_id`:128001 for open-end generation.\n"
     ]
    },
    {
     "name": "stdout",
     "output_type": "stream",
     "text": [
      "Procesado: S1130-14732005000300004-1.txt → S1130-14732005000300004-1.xml\n",
      "S1698-44472005000400002-1.txt: Tokens de entrada: 3883\n"
     ]
    },
    {
     "name": "stderr",
     "output_type": "stream",
     "text": [
      "Setting `pad_token_id` to `eos_token_id`:128001 for open-end generation.\n"
     ]
    },
    {
     "name": "stdout",
     "output_type": "stream",
     "text": [
      "Procesado: S1698-44472005000400002-1.txt → S1698-44472005000400002-1.xml\n",
      "S0365-66912010000200005-1.txt: Tokens de entrada: 2985\n"
     ]
    },
    {
     "name": "stderr",
     "output_type": "stream",
     "text": [
      "Setting `pad_token_id` to `eos_token_id`:128001 for open-end generation.\n"
     ]
    },
    {
     "name": "stdout",
     "output_type": "stream",
     "text": [
      "Procesado: S0365-66912010000200005-1.txt → S0365-66912010000200005-1.xml\n",
      "S1699-695X2014000200012-1.txt: Tokens de entrada: 3119\n"
     ]
    },
    {
     "name": "stderr",
     "output_type": "stream",
     "text": [
      "Setting `pad_token_id` to `eos_token_id`:128001 for open-end generation.\n"
     ]
    },
    {
     "name": "stdout",
     "output_type": "stream",
     "text": [
      "Procesado: S1699-695X2014000200012-1.txt → S1699-695X2014000200012-1.xml\n",
      "S0378-48352006000600006-1.txt: Tokens de entrada: 4090\n"
     ]
    },
    {
     "name": "stderr",
     "output_type": "stream",
     "text": [
      "Setting `pad_token_id` to `eos_token_id`:128001 for open-end generation.\n"
     ]
    },
    {
     "name": "stdout",
     "output_type": "stream",
     "text": [
      "Procesado: S0378-48352006000600006-1.txt → S0378-48352006000600006-1.xml\n",
      "S0212-16112010000100017-1.txt: Tokens de entrada: 4074\n"
     ]
    },
    {
     "name": "stderr",
     "output_type": "stream",
     "text": [
      "Setting `pad_token_id` to `eos_token_id`:128001 for open-end generation.\n"
     ]
    },
    {
     "name": "stdout",
     "output_type": "stream",
     "text": [
      "Procesado: S0212-16112010000100017-1.txt → S0212-16112010000100017-1.xml\n",
      "S0365-66912004001200011-1.txt: Tokens de entrada: 3175\n"
     ]
    },
    {
     "name": "stderr",
     "output_type": "stream",
     "text": [
      "Setting `pad_token_id` to `eos_token_id`:128001 for open-end generation.\n"
     ]
    },
    {
     "name": "stdout",
     "output_type": "stream",
     "text": [
      "Procesado: S0365-66912004001200011-1.txt → S0365-66912004001200011-1.xml\n",
      "S0376-78922016000400007-1.txt: Tokens de entrada: 3549\n"
     ]
    },
    {
     "name": "stderr",
     "output_type": "stream",
     "text": [
      "Setting `pad_token_id` to `eos_token_id`:128001 for open-end generation.\n"
     ]
    },
    {
     "name": "stdout",
     "output_type": "stream",
     "text": [
      "Procesado: S0376-78922016000400007-1.txt → S0376-78922016000400007-1.xml\n",
      "S1130-01082008000400013-1.txt: Tokens de entrada: 3228\n"
     ]
    },
    {
     "name": "stderr",
     "output_type": "stream",
     "text": [
      "Setting `pad_token_id` to `eos_token_id`:128001 for open-end generation.\n"
     ]
    },
    {
     "name": "stdout",
     "output_type": "stream",
     "text": [
      "Procesado: S1130-01082008000400013-1.txt → S1130-01082008000400013-1.xml\n",
      "S1130-63432015000100008-1.txt: Tokens de entrada: 3360\n"
     ]
    },
    {
     "name": "stderr",
     "output_type": "stream",
     "text": [
      "Setting `pad_token_id` to `eos_token_id`:128001 for open-end generation.\n"
     ]
    },
    {
     "name": "stdout",
     "output_type": "stream",
     "text": [
      "Procesado: S1130-63432015000100008-1.txt → S1130-63432015000100008-1.xml\n",
      "S1135-76062009000400004-1.txt: Tokens de entrada: 3619\n"
     ]
    },
    {
     "name": "stderr",
     "output_type": "stream",
     "text": [
      "Setting `pad_token_id` to `eos_token_id`:128001 for open-end generation.\n"
     ]
    },
    {
     "name": "stdout",
     "output_type": "stream",
     "text": [
      "Procesado: S1135-76062009000400004-1.txt → S1135-76062009000400004-1.xml\n",
      "S1130-01082008000100010-1.txt: Tokens de entrada: 3489\n"
     ]
    },
    {
     "name": "stderr",
     "output_type": "stream",
     "text": [
      "Setting `pad_token_id` to `eos_token_id`:128001 for open-end generation.\n"
     ]
    },
    {
     "name": "stdout",
     "output_type": "stream",
     "text": [
      "Procesado: S1130-01082008000100010-1.txt → S1130-01082008000100010-1.xml\n",
      "S1130-05582013000400005-1.txt: Tokens de entrada: 3171\n"
     ]
    },
    {
     "name": "stderr",
     "output_type": "stream",
     "text": [
      "Setting `pad_token_id` to `eos_token_id`:128001 for open-end generation.\n"
     ]
    },
    {
     "name": "stdout",
     "output_type": "stream",
     "text": [
      "Procesado: S1130-05582013000400005-1.txt → S1130-05582013000400005-1.xml\n",
      "S0210-56912008000100008-3.txt: Tokens de entrada: 2945\n"
     ]
    },
    {
     "name": "stderr",
     "output_type": "stream",
     "text": [
      "Setting `pad_token_id` to `eos_token_id`:128001 for open-end generation.\n"
     ]
    },
    {
     "name": "stdout",
     "output_type": "stream",
     "text": [
      "Procesado: S0210-56912008000100008-3.txt → S0210-56912008000100008-3.xml\n",
      "S1130-05582007000500006-1.txt: Tokens de entrada: 3022\n"
     ]
    },
    {
     "name": "stderr",
     "output_type": "stream",
     "text": [
      "Setting `pad_token_id` to `eos_token_id`:128001 for open-end generation.\n"
     ]
    },
    {
     "name": "stdout",
     "output_type": "stream",
     "text": [
      "Procesado: S1130-05582007000500006-1.txt → S1130-05582007000500006-1.xml\n",
      "S1130-01082009000300015-1.txt: Tokens de entrada: 3551\n"
     ]
    },
    {
     "name": "stderr",
     "output_type": "stream",
     "text": [
      "Setting `pad_token_id` to `eos_token_id`:128001 for open-end generation.\n"
     ]
    },
    {
     "name": "stdout",
     "output_type": "stream",
     "text": [
      "Procesado: S1130-01082009000300015-1.txt → S1130-01082009000300015-1.xml\n",
      "S0210-48062009000300013-4.txt: Tokens de entrada: 2857\n"
     ]
    },
    {
     "name": "stderr",
     "output_type": "stream",
     "text": [
      "Setting `pad_token_id` to `eos_token_id`:128001 for open-end generation.\n"
     ]
    },
    {
     "name": "stdout",
     "output_type": "stream",
     "text": [
      "Procesado: S0210-48062009000300013-4.txt → S0210-48062009000300013-4.xml\n",
      "S1137-66272013000200022-1.txt: Tokens de entrada: 3521\n"
     ]
    },
    {
     "name": "stderr",
     "output_type": "stream",
     "text": [
      "Setting `pad_token_id` to `eos_token_id`:128001 for open-end generation.\n"
     ]
    },
    {
     "name": "stdout",
     "output_type": "stream",
     "text": [
      "Procesado: S1137-66272013000200022-1.txt → S1137-66272013000200022-1.xml\n",
      "S1134-80462013000400006-2.txt: Tokens de entrada: 3186\n"
     ]
    },
    {
     "name": "stderr",
     "output_type": "stream",
     "text": [
      "Setting `pad_token_id` to `eos_token_id`:128001 for open-end generation.\n"
     ]
    },
    {
     "name": "stdout",
     "output_type": "stream",
     "text": [
      "Procesado: S1134-80462013000400006-2.txt → S1134-80462013000400006-2.xml\n",
      "S0365-66912004001000009-1.txt: Tokens de entrada: 3290\n"
     ]
    },
    {
     "name": "stderr",
     "output_type": "stream",
     "text": [
      "Setting `pad_token_id` to `eos_token_id`:128001 for open-end generation.\n"
     ]
    },
    {
     "name": "stdout",
     "output_type": "stream",
     "text": [
      "Procesado: S0365-66912004001000009-1.txt → S0365-66912004001000009-1.xml\n",
      "S0212-71992007000700008-1.txt: Tokens de entrada: 4093\n"
     ]
    },
    {
     "name": "stderr",
     "output_type": "stream",
     "text": [
      "Setting `pad_token_id` to `eos_token_id`:128001 for open-end generation.\n"
     ]
    },
    {
     "name": "stdout",
     "output_type": "stream",
     "text": [
      "Procesado: S0212-71992007000700008-1.txt → S0212-71992007000700008-1.xml\n",
      "S1130-14732005000600007-1.txt: Tokens de entrada: 3165\n"
     ]
    },
    {
     "name": "stderr",
     "output_type": "stream",
     "text": [
      "Setting `pad_token_id` to `eos_token_id`:128001 for open-end generation.\n"
     ]
    },
    {
     "name": "stdout",
     "output_type": "stream",
     "text": [
      "Procesado: S1130-14732005000600007-1.txt → S1130-14732005000600007-1.xml\n",
      "S0365-66912008001000010-1.txt: Tokens de entrada: 3265\n"
     ]
    },
    {
     "name": "stderr",
     "output_type": "stream",
     "text": [
      "Setting `pad_token_id` to `eos_token_id`:128001 for open-end generation.\n"
     ]
    },
    {
     "name": "stdout",
     "output_type": "stream",
     "text": [
      "Procesado: S0365-66912008001000010-1.txt → S0365-66912008001000010-1.xml\n",
      "S1131-57682001000100007-2.txt: Tokens de entrada: 2850\n"
     ]
    },
    {
     "name": "stderr",
     "output_type": "stream",
     "text": [
      "Setting `pad_token_id` to `eos_token_id`:128001 for open-end generation.\n"
     ]
    },
    {
     "name": "stdout",
     "output_type": "stream",
     "text": [
      "Procesado: S1131-57682001000100007-2.txt → S1131-57682001000100007-2.xml\n",
      "S1130-01082007000300014-1.txt: Tokens de entrada: 3112\n"
     ]
    },
    {
     "name": "stderr",
     "output_type": "stream",
     "text": [
      "Setting `pad_token_id` to `eos_token_id`:128001 for open-end generation.\n"
     ]
    },
    {
     "name": "stdout",
     "output_type": "stream",
     "text": [
      "Procesado: S1130-01082007000300014-1.txt → S1130-01082007000300014-1.xml\n",
      "S0376-78922012000200008-1.txt: Tokens de entrada: 3844\n"
     ]
    },
    {
     "name": "stderr",
     "output_type": "stream",
     "text": [
      "Setting `pad_token_id` to `eos_token_id`:128001 for open-end generation.\n"
     ]
    },
    {
     "name": "stdout",
     "output_type": "stream",
     "text": [
      "Procesado: S0376-78922012000200008-1.txt → S0376-78922012000200008-1.xml\n",
      "S0211-69952013000200019-2.txt: Tokens de entrada: 2911\n"
     ]
    },
    {
     "name": "stderr",
     "output_type": "stream",
     "text": [
      "Setting `pad_token_id` to `eos_token_id`:128001 for open-end generation.\n"
     ]
    },
    {
     "name": "stdout",
     "output_type": "stream",
     "text": [
      "Procesado: S0211-69952013000200019-2.txt → S0211-69952013000200019-2.xml\n",
      "S1137-66272011000100012-1.txt: Tokens de entrada: 3092\n"
     ]
    },
    {
     "name": "stderr",
     "output_type": "stream",
     "text": [
      "Setting `pad_token_id` to `eos_token_id`:128001 for open-end generation.\n"
     ]
    },
    {
     "name": "stdout",
     "output_type": "stream",
     "text": [
      "Procesado: S1137-66272011000100012-1.txt → S1137-66272011000100012-1.xml\n",
      "S0211-69952011000500011-1.txt: Tokens de entrada: 3119\n"
     ]
    },
    {
     "name": "stderr",
     "output_type": "stream",
     "text": [
      "Setting `pad_token_id` to `eos_token_id`:128001 for open-end generation.\n"
     ]
    },
    {
     "name": "stdout",
     "output_type": "stream",
     "text": [
      "Procesado: S0211-69952011000500011-1.txt → S0211-69952011000500011-1.xml\n",
      "S1130-01082009000400015-1.txt: Tokens de entrada: 2951\n"
     ]
    },
    {
     "name": "stderr",
     "output_type": "stream",
     "text": [
      "Setting `pad_token_id` to `eos_token_id`:128001 for open-end generation.\n"
     ]
    },
    {
     "name": "stdout",
     "output_type": "stream",
     "text": [
      "Procesado: S1130-01082009000400015-1.txt → S1130-01082009000400015-1.xml\n",
      "S0210-48062009000300017-1.txt: Tokens de entrada: 3487\n"
     ]
    },
    {
     "name": "stderr",
     "output_type": "stream",
     "text": [
      "Setting `pad_token_id` to `eos_token_id`:128001 for open-end generation.\n"
     ]
    },
    {
     "name": "stdout",
     "output_type": "stream",
     "text": [
      "Procesado: S0210-48062009000300017-1.txt → S0210-48062009000300017-1.xml\n",
      "S0004-06142006000600012-1.txt: Tokens de entrada: 3139\n"
     ]
    },
    {
     "name": "stderr",
     "output_type": "stream",
     "text": [
      "Setting `pad_token_id` to `eos_token_id`:128001 for open-end generation.\n"
     ]
    },
    {
     "name": "stdout",
     "output_type": "stream",
     "text": [
      "Procesado: S0004-06142006000600012-1.txt → S0004-06142006000600012-1.xml\n",
      "S0210-48062004000400012-1.txt: Tokens de entrada: 3648\n"
     ]
    },
    {
     "name": "stderr",
     "output_type": "stream",
     "text": [
      "Setting `pad_token_id` to `eos_token_id`:128001 for open-end generation.\n"
     ]
    },
    {
     "name": "stdout",
     "output_type": "stream",
     "text": [
      "Procesado: S0210-48062004000400012-1.txt → S0210-48062004000400012-1.xml\n",
      "S1130-63432014000500010-1.txt: Tokens de entrada: 3363\n"
     ]
    },
    {
     "name": "stderr",
     "output_type": "stream",
     "text": [
      "Setting `pad_token_id` to `eos_token_id`:128001 for open-end generation.\n"
     ]
    },
    {
     "name": "stdout",
     "output_type": "stream",
     "text": [
      "Procesado: S1130-63432014000500010-1.txt → S1130-63432014000500010-1.xml\n",
      "S1889-836X2015000400006-1.txt: Tokens de entrada: 3239\n"
     ]
    },
    {
     "name": "stderr",
     "output_type": "stream",
     "text": [
      "Setting `pad_token_id` to `eos_token_id`:128001 for open-end generation.\n"
     ]
    },
    {
     "name": "stdout",
     "output_type": "stream",
     "text": [
      "Procesado: S1889-836X2015000400006-1.txt → S1889-836X2015000400006-1.xml\n",
      "S0004-06142008000100008-1.txt: Tokens de entrada: 3198\n"
     ]
    },
    {
     "name": "stderr",
     "output_type": "stream",
     "text": [
      "Setting `pad_token_id` to `eos_token_id`:128001 for open-end generation.\n"
     ]
    },
    {
     "name": "stdout",
     "output_type": "stream",
     "text": [
      "Procesado: S0004-06142008000100008-1.txt → S0004-06142008000100008-1.xml\n",
      "S0376-78922015000200009-1.txt: Tokens de entrada: 3201\n"
     ]
    },
    {
     "name": "stderr",
     "output_type": "stream",
     "text": [
      "Setting `pad_token_id` to `eos_token_id`:128001 for open-end generation.\n"
     ]
    },
    {
     "name": "stdout",
     "output_type": "stream",
     "text": [
      "Procesado: S0376-78922015000200009-1.txt → S0376-78922015000200009-1.xml\n",
      "S1699-695X2015000100011-1.txt: Tokens de entrada: 3986\n"
     ]
    },
    {
     "name": "stderr",
     "output_type": "stream",
     "text": [
      "Setting `pad_token_id` to `eos_token_id`:128001 for open-end generation.\n"
     ]
    },
    {
     "name": "stdout",
     "output_type": "stream",
     "text": [
      "Procesado: S1699-695X2015000100011-1.txt → S1699-695X2015000100011-1.xml\n",
      "S0465-546X2009000300008-1.txt: Tokens de entrada: 3453\n"
     ]
    },
    {
     "name": "stderr",
     "output_type": "stream",
     "text": [
      "Setting `pad_token_id` to `eos_token_id`:128001 for open-end generation.\n"
     ]
    },
    {
     "name": "stdout",
     "output_type": "stream",
     "text": [
      "Procesado: S0465-546X2009000300008-1.txt → S0465-546X2009000300008-1.xml\n",
      "S1139-76322016000300008-1.txt: Tokens de entrada: 3228\n"
     ]
    },
    {
     "name": "stderr",
     "output_type": "stream",
     "text": [
      "Setting `pad_token_id` to `eos_token_id`:128001 for open-end generation.\n"
     ]
    },
    {
     "name": "stdout",
     "output_type": "stream",
     "text": [
      "Procesado: S1139-76322016000300008-1.txt → S1139-76322016000300008-1.xml\n",
      "S2254-28842012000300010-1.txt: Tokens de entrada: 4168\n"
     ]
    },
    {
     "name": "stderr",
     "output_type": "stream",
     "text": [
      "Setting `pad_token_id` to `eos_token_id`:128001 for open-end generation.\n"
     ]
    },
    {
     "name": "stdout",
     "output_type": "stream",
     "text": [
      "Procesado: S2254-28842012000300010-1.txt → S2254-28842012000300010-1.xml\n",
      "S1130-01082007001200014-1.txt: Tokens de entrada: 3205\n"
     ]
    },
    {
     "name": "stderr",
     "output_type": "stream",
     "text": [
      "Setting `pad_token_id` to `eos_token_id`:128001 for open-end generation.\n"
     ]
    },
    {
     "name": "stdout",
     "output_type": "stream",
     "text": [
      "Procesado: S1130-01082007001200014-1.txt → S1130-01082007001200014-1.xml\n",
      "S1139-76322015000300017-1.txt: Tokens de entrada: 2874\n"
     ]
    },
    {
     "name": "stderr",
     "output_type": "stream",
     "text": [
      "Setting `pad_token_id` to `eos_token_id`:128001 for open-end generation.\n"
     ]
    },
    {
     "name": "stdout",
     "output_type": "stream",
     "text": [
      "Procesado: S1139-76322015000300017-1.txt → S1139-76322015000300017-1.xml\n",
      "S1134-80462009000800004-1.txt: Tokens de entrada: 3546\n"
     ]
    },
    {
     "name": "stderr",
     "output_type": "stream",
     "text": [
      "Setting `pad_token_id` to `eos_token_id`:128001 for open-end generation.\n"
     ]
    },
    {
     "name": "stdout",
     "output_type": "stream",
     "text": [
      "Procesado: S1134-80462009000800004-1.txt → S1134-80462009000800004-1.xml\n",
      "S0210-48062009000400016-1.txt: Tokens de entrada: 3398\n"
     ]
    },
    {
     "name": "stderr",
     "output_type": "stream",
     "text": [
      "Setting `pad_token_id` to `eos_token_id`:128001 for open-end generation.\n"
     ]
    },
    {
     "name": "stdout",
     "output_type": "stream",
     "text": [
      "Procesado: S0210-48062009000400016-1.txt → S0210-48062009000400016-1.xml\n",
      "S0365-66912006000300009-1.txt: Tokens de entrada: 2998\n"
     ]
    },
    {
     "name": "stderr",
     "output_type": "stream",
     "text": [
      "Setting `pad_token_id` to `eos_token_id`:128001 for open-end generation.\n"
     ]
    },
    {
     "name": "stdout",
     "output_type": "stream",
     "text": [
      "Procesado: S0365-66912006000300009-1.txt → S0365-66912006000300009-1.xml\n",
      "S0004-06142007000200011-1.txt: Tokens de entrada: 2996\n"
     ]
    },
    {
     "name": "stderr",
     "output_type": "stream",
     "text": [
      "Setting `pad_token_id` to `eos_token_id`:128001 for open-end generation.\n"
     ]
    },
    {
     "name": "stdout",
     "output_type": "stream",
     "text": [
      "Procesado: S0004-06142007000200011-1.txt → S0004-06142007000200011-1.xml\n",
      "S0211-69952014000400019-1.txt: Tokens de entrada: 3312\n"
     ]
    },
    {
     "name": "stderr",
     "output_type": "stream",
     "text": [
      "Setting `pad_token_id` to `eos_token_id`:128001 for open-end generation.\n"
     ]
    },
    {
     "name": "stdout",
     "output_type": "stream",
     "text": [
      "Procesado: S0211-69952014000400019-1.txt → S0211-69952014000400019-1.xml\n",
      "S0212-71992005000200008-1.txt: Tokens de entrada: 4029\n"
     ]
    },
    {
     "name": "stderr",
     "output_type": "stream",
     "text": [
      "Setting `pad_token_id` to `eos_token_id`:128001 for open-end generation.\n"
     ]
    },
    {
     "name": "stdout",
     "output_type": "stream",
     "text": [
      "Procesado: S0212-71992005000200008-1.txt → S0212-71992005000200008-1.xml\n",
      "S0376-78922009000200007-1.txt: Tokens de entrada: 3375\n"
     ]
    },
    {
     "name": "stderr",
     "output_type": "stream",
     "text": [
      "Setting `pad_token_id` to `eos_token_id`:128001 for open-end generation.\n"
     ]
    },
    {
     "name": "stdout",
     "output_type": "stream",
     "text": [
      "Procesado: S0376-78922009000200007-1.txt → S0376-78922009000200007-1.xml\n",
      "S0365-66912006000600010-1.txt: Tokens de entrada: 2981\n"
     ]
    },
    {
     "name": "stderr",
     "output_type": "stream",
     "text": [
      "Setting `pad_token_id` to `eos_token_id`:128001 for open-end generation.\n"
     ]
    },
    {
     "name": "stdout",
     "output_type": "stream",
     "text": [
      "Procesado: S0365-66912006000600010-1.txt → S0365-66912006000600010-1.xml\n",
      "S1130-01082005001000014-1.txt: Tokens de entrada: 3651\n"
     ]
    },
    {
     "name": "stderr",
     "output_type": "stream",
     "text": [
      "Setting `pad_token_id` to `eos_token_id`:128001 for open-end generation.\n"
     ]
    },
    {
     "name": "stdout",
     "output_type": "stream",
     "text": [
      "Procesado: S1130-01082005001000014-1.txt → S1130-01082005001000014-1.xml\n",
      "S0210-48062005000100016-1.txt: Tokens de entrada: 3974\n"
     ]
    },
    {
     "name": "stderr",
     "output_type": "stream",
     "text": [
      "Setting `pad_token_id` to `eos_token_id`:128001 for open-end generation.\n"
     ]
    },
    {
     "name": "stdout",
     "output_type": "stream",
     "text": [
      "Procesado: S0210-48062005000100016-1.txt → S0210-48062005000100016-1.xml\n",
      "S0210-48062010000100019-1.txt: Tokens de entrada: 2924\n"
     ]
    },
    {
     "name": "stderr",
     "output_type": "stream",
     "text": [
      "Setting `pad_token_id` to `eos_token_id`:128001 for open-end generation.\n"
     ]
    },
    {
     "name": "stdout",
     "output_type": "stream",
     "text": [
      "Procesado: S0210-48062010000100019-1.txt → S0210-48062010000100019-1.xml\n",
      "S0365-66912005001100008-1.txt: Tokens de entrada: 3891\n"
     ]
    },
    {
     "name": "stderr",
     "output_type": "stream",
     "text": [
      "Setting `pad_token_id` to `eos_token_id`:128001 for open-end generation.\n"
     ]
    },
    {
     "name": "stdout",
     "output_type": "stream",
     "text": [
      "Procesado: S0365-66912005001100008-1.txt → S0365-66912005001100008-1.xml\n",
      "S1130-63432015000400006-1.txt: Tokens de entrada: 4166\n"
     ]
    },
    {
     "name": "stderr",
     "output_type": "stream",
     "text": [
      "Setting `pad_token_id` to `eos_token_id`:128001 for open-end generation.\n"
     ]
    },
    {
     "name": "stdout",
     "output_type": "stream",
     "text": [
      "Procesado: S1130-63432015000400006-1.txt → S1130-63432015000400006-1.xml\n",
      "S0212-16112014000200032-3.txt: Tokens de entrada: 2806\n"
     ]
    },
    {
     "name": "stderr",
     "output_type": "stream",
     "text": [
      "Setting `pad_token_id` to `eos_token_id`:128001 for open-end generation.\n"
     ]
    },
    {
     "name": "stdout",
     "output_type": "stream",
     "text": [
      "Procesado: S0212-16112014000200032-3.txt → S0212-16112014000200032-3.xml\n",
      "S0211-69952012000700031-1.txt: Tokens de entrada: 3157\n"
     ]
    },
    {
     "name": "stderr",
     "output_type": "stream",
     "text": [
      "Setting `pad_token_id` to `eos_token_id`:128001 for open-end generation.\n"
     ]
    },
    {
     "name": "stdout",
     "output_type": "stream",
     "text": [
      "Procesado: S0211-69952012000700031-1.txt → S0211-69952012000700031-1.xml\n",
      "S0212-71992004001100007-1.txt: Tokens de entrada: 3489\n"
     ]
    },
    {
     "name": "stderr",
     "output_type": "stream",
     "text": [
      "Setting `pad_token_id` to `eos_token_id`:128001 for open-end generation.\n"
     ]
    },
    {
     "name": "stdout",
     "output_type": "stream",
     "text": [
      "Procesado: S0212-71992004001100007-1.txt → S0212-71992004001100007-1.xml\n",
      "S1130-01082007000700011-2.txt: Tokens de entrada: 3501\n"
     ]
    },
    {
     "name": "stderr",
     "output_type": "stream",
     "text": [
      "Setting `pad_token_id` to `eos_token_id`:128001 for open-end generation.\n"
     ]
    },
    {
     "name": "stdout",
     "output_type": "stream",
     "text": [
      "Procesado: S1130-01082007000700011-2.txt → S1130-01082007000700011-2.xml\n",
      "S1135-76062011000100006-1.txt: Tokens de entrada: 2896\n"
     ]
    },
    {
     "name": "stderr",
     "output_type": "stream",
     "text": [
      "Setting `pad_token_id` to `eos_token_id`:128001 for open-end generation.\n"
     ]
    },
    {
     "name": "stdout",
     "output_type": "stream",
     "text": [
      "Procesado: S1135-76062011000100006-1.txt → S1135-76062011000100006-1.xml\n",
      "S1139-76322012000400011-1.txt: Tokens de entrada: 2928\n"
     ]
    },
    {
     "name": "stderr",
     "output_type": "stream",
     "text": [
      "Setting `pad_token_id` to `eos_token_id`:128001 for open-end generation.\n"
     ]
    },
    {
     "name": "stdout",
     "output_type": "stream",
     "text": [
      "Procesado: S1139-76322012000400011-1.txt → S1139-76322012000400011-1.xml\n",
      "S0212-71992007000300006-1.txt: Tokens de entrada: 3753\n"
     ]
    },
    {
     "name": "stderr",
     "output_type": "stream",
     "text": [
      "Setting `pad_token_id` to `eos_token_id`:128001 for open-end generation.\n"
     ]
    },
    {
     "name": "stdout",
     "output_type": "stream",
     "text": [
      "Procesado: S0212-71992007000300006-1.txt → S0212-71992007000300006-1.xml\n",
      "S0376-78922016000200011-1.txt: Tokens de entrada: 3473\n"
     ]
    },
    {
     "name": "stderr",
     "output_type": "stream",
     "text": [
      "Setting `pad_token_id` to `eos_token_id`:128001 for open-end generation.\n"
     ]
    },
    {
     "name": "stdout",
     "output_type": "stream",
     "text": [
      "Procesado: S0376-78922016000200011-1.txt → S0376-78922016000200011-1.xml\n",
      "S0211-69952013000500019-1.txt: Tokens de entrada: 3728\n"
     ]
    },
    {
     "name": "stderr",
     "output_type": "stream",
     "text": [
      "Setting `pad_token_id` to `eos_token_id`:128001 for open-end generation.\n"
     ]
    },
    {
     "name": "stdout",
     "output_type": "stream",
     "text": [
      "Procesado: S0211-69952013000500019-1.txt → S0211-69952013000500019-1.xml\n",
      "S0210-48062007001000004-1.txt: Tokens de entrada: 3762\n"
     ]
    },
    {
     "name": "stderr",
     "output_type": "stream",
     "text": [
      "Setting `pad_token_id` to `eos_token_id`:128001 for open-end generation.\n"
     ]
    },
    {
     "name": "stdout",
     "output_type": "stream",
     "text": [
      "Procesado: S0210-48062007001000004-1.txt → S0210-48062007001000004-1.xml\n",
      "S1130-01082008000200009-1.txt: Tokens de entrada: 2815\n"
     ]
    },
    {
     "name": "stderr",
     "output_type": "stream",
     "text": [
      "Setting `pad_token_id` to `eos_token_id`:128001 for open-end generation.\n"
     ]
    },
    {
     "name": "stdout",
     "output_type": "stream",
     "text": [
      "Procesado: S1130-01082008000200009-1.txt → S1130-01082008000200009-1.xml\n",
      "S0004-06142007000500017-1.txt: Tokens de entrada: 2854\n"
     ]
    },
    {
     "name": "stderr",
     "output_type": "stream",
     "text": [
      "Setting `pad_token_id` to `eos_token_id`:128001 for open-end generation.\n"
     ]
    },
    {
     "name": "stdout",
     "output_type": "stream",
     "text": [
      "Procesado: S0004-06142007000500017-1.txt → S0004-06142007000500017-1.xml\n",
      "S1130-01082009000400012-1.txt: Tokens de entrada: 3155\n"
     ]
    },
    {
     "name": "stderr",
     "output_type": "stream",
     "text": [
      "Setting `pad_token_id` to `eos_token_id`:128001 for open-end generation.\n"
     ]
    },
    {
     "name": "stdout",
     "output_type": "stream",
     "text": [
      "Procesado: S1130-01082009000400012-1.txt → S1130-01082009000400012-1.xml\n",
      "S0365-66912006000500008-1.txt: Tokens de entrada: 2960\n"
     ]
    },
    {
     "name": "stderr",
     "output_type": "stream",
     "text": [
      "Setting `pad_token_id` to `eos_token_id`:128001 for open-end generation.\n"
     ]
    },
    {
     "name": "stdout",
     "output_type": "stream",
     "text": [
      "Procesado: S0365-66912006000500008-1.txt → S0365-66912006000500008-1.xml\n",
      "S0210-48062006000300016-1.txt: Tokens de entrada: 4012\n"
     ]
    },
    {
     "name": "stderr",
     "output_type": "stream",
     "text": [
      "Setting `pad_token_id` to `eos_token_id`:128001 for open-end generation.\n"
     ]
    },
    {
     "name": "stdout",
     "output_type": "stream",
     "text": [
      "Procesado: S0210-48062006000300016-1.txt → S0210-48062006000300016-1.xml\n",
      "S0365-66912005001200010-1.txt: Tokens de entrada: 3281\n"
     ]
    },
    {
     "name": "stderr",
     "output_type": "stream",
     "text": [
      "Setting `pad_token_id` to `eos_token_id`:128001 for open-end generation.\n"
     ]
    },
    {
     "name": "stdout",
     "output_type": "stream",
     "text": [
      "Procesado: S0365-66912005001200010-1.txt → S0365-66912005001200010-1.xml\n",
      "S0004-06142006000700012-1.txt: Tokens de entrada: 3249\n"
     ]
    },
    {
     "name": "stderr",
     "output_type": "stream",
     "text": [
      "Setting `pad_token_id` to `eos_token_id`:128001 for open-end generation.\n"
     ]
    },
    {
     "name": "stdout",
     "output_type": "stream",
     "text": [
      "Procesado: S0004-06142006000700012-1.txt → S0004-06142006000700012-1.xml\n",
      "S0004-06142006000600015-1.txt: Tokens de entrada: 2975\n"
     ]
    },
    {
     "name": "stderr",
     "output_type": "stream",
     "text": [
      "Setting `pad_token_id` to `eos_token_id`:128001 for open-end generation.\n"
     ]
    },
    {
     "name": "stdout",
     "output_type": "stream",
     "text": [
      "Procesado: S0004-06142006000600015-1.txt → S0004-06142006000600015-1.xml\n",
      "S0004-06142008000400016-1.txt: Tokens de entrada: 3219\n"
     ]
    },
    {
     "name": "stderr",
     "output_type": "stream",
     "text": [
      "Setting `pad_token_id` to `eos_token_id`:128001 for open-end generation.\n"
     ]
    },
    {
     "name": "stdout",
     "output_type": "stream",
     "text": [
      "Procesado: S0004-06142008000400016-1.txt → S0004-06142008000400016-1.xml\n",
      "S0365-66912006000600010-2.txt: Tokens de entrada: 2843\n"
     ]
    },
    {
     "name": "stderr",
     "output_type": "stream",
     "text": [
      "Setting `pad_token_id` to `eos_token_id`:128001 for open-end generation.\n"
     ]
    },
    {
     "name": "stdout",
     "output_type": "stream",
     "text": [
      "Procesado: S0365-66912006000600010-2.txt → S0365-66912006000600010-2.xml\n",
      "S1135-76062012000200006-1.txt: Tokens de entrada: 3483\n"
     ]
    },
    {
     "name": "stderr",
     "output_type": "stream",
     "text": [
      "Setting `pad_token_id` to `eos_token_id`:128001 for open-end generation.\n"
     ]
    },
    {
     "name": "stdout",
     "output_type": "stream",
     "text": [
      "Procesado: S1135-76062012000200006-1.txt → S1135-76062012000200006-1.xml\n",
      "S0210-48062003000900013-1.txt: Tokens de entrada: 3438\n"
     ]
    },
    {
     "name": "stderr",
     "output_type": "stream",
     "text": [
      "Setting `pad_token_id` to `eos_token_id`:128001 for open-end generation.\n"
     ]
    },
    {
     "name": "stdout",
     "output_type": "stream",
     "text": [
      "Procesado: S0210-48062003000900013-1.txt → S0210-48062003000900013-1.xml\n",
      "S1698-44472005000400012-1.txt: Tokens de entrada: 3138\n"
     ]
    },
    {
     "name": "stderr",
     "output_type": "stream",
     "text": [
      "Setting `pad_token_id` to `eos_token_id`:128001 for open-end generation.\n"
     ]
    },
    {
     "name": "stdout",
     "output_type": "stream",
     "text": [
      "Procesado: S1698-44472005000400012-1.txt → S1698-44472005000400012-1.xml\n",
      "S0378-48352004000900006-1.txt: Tokens de entrada: 3449\n"
     ]
    },
    {
     "name": "stderr",
     "output_type": "stream",
     "text": [
      "Setting `pad_token_id` to `eos_token_id`:128001 for open-end generation.\n"
     ]
    },
    {
     "name": "stdout",
     "output_type": "stream",
     "text": [
      "Procesado: S0378-48352004000900006-1.txt → S0378-48352004000900006-1.xml\n",
      "S1135-76062016000100006-1.txt: Tokens de entrada: 3883\n"
     ]
    },
    {
     "name": "stderr",
     "output_type": "stream",
     "text": [
      "Setting `pad_token_id` to `eos_token_id`:128001 for open-end generation.\n"
     ]
    },
    {
     "name": "stdout",
     "output_type": "stream",
     "text": [
      "Procesado: S1135-76062016000100006-1.txt → S1135-76062016000100006-1.xml\n",
      "S0211-69952015000500015-2.txt: Tokens de entrada: 2977\n"
     ]
    },
    {
     "name": "stderr",
     "output_type": "stream",
     "text": [
      "Setting `pad_token_id` to `eos_token_id`:128001 for open-end generation.\n"
     ]
    },
    {
     "name": "stdout",
     "output_type": "stream",
     "text": [
      "Procesado: S0211-69952015000500015-2.txt → S0211-69952015000500015-2.xml\n",
      "S1698-44472004000200009-1.txt: Tokens de entrada: 3224\n"
     ]
    },
    {
     "name": "stderr",
     "output_type": "stream",
     "text": [
      "Setting `pad_token_id` to `eos_token_id`:128001 for open-end generation.\n"
     ]
    },
    {
     "name": "stdout",
     "output_type": "stream",
     "text": [
      "Procesado: S1698-44472004000200009-1.txt → S1698-44472004000200009-1.xml\n",
      "S0004-06142006000700008-1.txt: Tokens de entrada: 3341\n"
     ]
    },
    {
     "name": "stderr",
     "output_type": "stream",
     "text": [
      "Setting `pad_token_id` to `eos_token_id`:128001 for open-end generation.\n"
     ]
    },
    {
     "name": "stdout",
     "output_type": "stream",
     "text": [
      "Procesado: S0004-06142006000700008-1.txt → S0004-06142006000700008-1.xml\n",
      "S0365-66912007001200012-1.txt: Tokens de entrada: 3191\n"
     ]
    },
    {
     "name": "stderr",
     "output_type": "stream",
     "text": [
      "Setting `pad_token_id` to `eos_token_id`:128001 for open-end generation.\n"
     ]
    },
    {
     "name": "stdout",
     "output_type": "stream",
     "text": [
      "Procesado: S0365-66912007001200012-1.txt → S0365-66912007001200012-1.xml\n",
      "S1139-76322017000100010-1.txt: Tokens de entrada: 2998\n"
     ]
    },
    {
     "name": "stderr",
     "output_type": "stream",
     "text": [
      "Setting `pad_token_id` to `eos_token_id`:128001 for open-end generation.\n"
     ]
    },
    {
     "name": "stdout",
     "output_type": "stream",
     "text": [
      "Procesado: S1139-76322017000100010-1.txt → S1139-76322017000100010-1.xml\n",
      "S1130-01082005001100014-1.txt: Tokens de entrada: 3159\n"
     ]
    },
    {
     "name": "stderr",
     "output_type": "stream",
     "text": [
      "Setting `pad_token_id` to `eos_token_id`:128001 for open-end generation.\n"
     ]
    },
    {
     "name": "stdout",
     "output_type": "stream",
     "text": [
      "Procesado: S1130-01082005001100014-1.txt → S1130-01082005001100014-1.xml\n",
      "S0211-69952016000200176-1.txt: Tokens de entrada: 3599\n"
     ]
    },
    {
     "name": "stderr",
     "output_type": "stream",
     "text": [
      "Setting `pad_token_id` to `eos_token_id`:128001 for open-end generation.\n"
     ]
    },
    {
     "name": "stdout",
     "output_type": "stream",
     "text": [
      "Procesado: S0211-69952016000200176-1.txt → S0211-69952016000200176-1.xml\n",
      "S1137-66272004000500009-1.txt: Tokens de entrada: 3135\n"
     ]
    },
    {
     "name": "stderr",
     "output_type": "stream",
     "text": [
      "Setting `pad_token_id` to `eos_token_id`:128001 for open-end generation.\n"
     ]
    },
    {
     "name": "stdout",
     "output_type": "stream",
     "text": [
      "Procesado: S1137-66272004000500009-1.txt → S1137-66272004000500009-1.xml\n",
      "S2254-28842014000300010-1.txt: Tokens de entrada: 3349\n"
     ]
    },
    {
     "name": "stderr",
     "output_type": "stream",
     "text": [
      "Setting `pad_token_id` to `eos_token_id`:128001 for open-end generation.\n"
     ]
    },
    {
     "name": "stdout",
     "output_type": "stream",
     "text": [
      "Procesado: S2254-28842014000300010-1.txt → S2254-28842014000300010-1.xml\n",
      "S1135-76062013000100008-1.txt: Tokens de entrada: 3131\n"
     ]
    },
    {
     "name": "stderr",
     "output_type": "stream",
     "text": [
      "Setting `pad_token_id` to `eos_token_id`:128001 for open-end generation.\n"
     ]
    },
    {
     "name": "stdout",
     "output_type": "stream",
     "text": [
      "Procesado: S1135-76062013000100008-1.txt → S1135-76062013000100008-1.xml\n",
      "S0365-66912009001100005-3.txt: Tokens de entrada: 2901\n"
     ]
    },
    {
     "name": "stderr",
     "output_type": "stream",
     "text": [
      "Setting `pad_token_id` to `eos_token_id`:128001 for open-end generation.\n"
     ]
    },
    {
     "name": "stdout",
     "output_type": "stream",
     "text": [
      "Procesado: S0365-66912009001100005-3.txt → S0365-66912009001100005-3.xml\n",
      "S1130-05582009000600004-1.txt: Tokens de entrada: 3167\n"
     ]
    },
    {
     "name": "stderr",
     "output_type": "stream",
     "text": [
      "Setting `pad_token_id` to `eos_token_id`:128001 for open-end generation.\n"
     ]
    },
    {
     "name": "stdout",
     "output_type": "stream",
     "text": [
      "Procesado: S1130-05582009000600004-1.txt → S1130-05582009000600004-1.xml\n",
      "S1888-75462017000100042-1.txt: Tokens de entrada: 3079\n"
     ]
    },
    {
     "name": "stderr",
     "output_type": "stream",
     "text": [
      "Setting `pad_token_id` to `eos_token_id`:128001 for open-end generation.\n"
     ]
    },
    {
     "name": "stdout",
     "output_type": "stream",
     "text": [
      "Procesado: S1888-75462017000100042-1.txt → S1888-75462017000100042-1.xml\n",
      "S0004-06142007000700014-1.txt: Tokens de entrada: 3074\n"
     ]
    },
    {
     "name": "stderr",
     "output_type": "stream",
     "text": [
      "Setting `pad_token_id` to `eos_token_id`:128001 for open-end generation.\n"
     ]
    },
    {
     "name": "stdout",
     "output_type": "stream",
     "text": [
      "Procesado: S0004-06142007000700014-1.txt → S0004-06142007000700014-1.xml\n",
      "S0004-06142007000900017-1.txt: Tokens de entrada: 3580\n"
     ]
    },
    {
     "name": "stderr",
     "output_type": "stream",
     "text": [
      "Setting `pad_token_id` to `eos_token_id`:128001 for open-end generation.\n"
     ]
    },
    {
     "name": "stdout",
     "output_type": "stream",
     "text": [
      "Procesado: S0004-06142007000900017-1.txt → S0004-06142007000900017-1.xml\n",
      "S0212-71992004001100006-1.txt: Tokens de entrada: 3952\n"
     ]
    },
    {
     "name": "stderr",
     "output_type": "stream",
     "text": [
      "Setting `pad_token_id` to `eos_token_id`:128001 for open-end generation.\n"
     ]
    },
    {
     "name": "stdout",
     "output_type": "stream",
     "text": [
      "Procesado: S0212-71992004001100006-1.txt → S0212-71992004001100006-1.xml\n",
      "S1130-01082008000800019-1.txt: Tokens de entrada: 3210\n"
     ]
    },
    {
     "name": "stderr",
     "output_type": "stream",
     "text": [
      "Setting `pad_token_id` to `eos_token_id`:128001 for open-end generation.\n"
     ]
    },
    {
     "name": "stdout",
     "output_type": "stream",
     "text": [
      "Procesado: S1130-01082008000800019-1.txt → S1130-01082008000800019-1.xml\n",
      "S1130-01082007001200012-1.txt: Tokens de entrada: 3219\n"
     ]
    },
    {
     "name": "stderr",
     "output_type": "stream",
     "text": [
      "Setting `pad_token_id` to `eos_token_id`:128001 for open-end generation.\n"
     ]
    },
    {
     "name": "stdout",
     "output_type": "stream",
     "text": [
      "Procesado: S1130-01082007001200012-1.txt → S1130-01082007001200012-1.xml\n",
      "S0365-66912006000200012-1.txt: Tokens de entrada: 3216\n"
     ]
    },
    {
     "name": "stderr",
     "output_type": "stream",
     "text": [
      "Setting `pad_token_id` to `eos_token_id`:128001 for open-end generation.\n"
     ]
    },
    {
     "name": "stdout",
     "output_type": "stream",
     "text": [
      "Procesado: S0365-66912006000200012-1.txt → S0365-66912006000200012-1.xml\n",
      "S1139-76322012000400010-1.txt: Tokens de entrada: 2927\n"
     ]
    },
    {
     "name": "stderr",
     "output_type": "stream",
     "text": [
      "Setting `pad_token_id` to `eos_token_id`:128001 for open-end generation.\n"
     ]
    },
    {
     "name": "stdout",
     "output_type": "stream",
     "text": [
      "Procesado: S1139-76322012000400010-1.txt → S1139-76322012000400010-1.xml\n",
      "S0213-12852003000500002-1.txt: Tokens de entrada: 3342\n"
     ]
    },
    {
     "name": "stderr",
     "output_type": "stream",
     "text": [
      "Setting `pad_token_id` to `eos_token_id`:128001 for open-end generation.\n"
     ]
    },
    {
     "name": "stdout",
     "output_type": "stream",
     "text": [
      "Procesado: S0213-12852003000500002-1.txt → S0213-12852003000500002-1.xml\n",
      "S1139-76322015000400006-1.txt: Tokens de entrada: 3302\n"
     ]
    },
    {
     "name": "stderr",
     "output_type": "stream",
     "text": [
      "Setting `pad_token_id` to `eos_token_id`:128001 for open-end generation.\n"
     ]
    },
    {
     "name": "stdout",
     "output_type": "stream",
     "text": [
      "Procesado: S1139-76322015000400006-1.txt → S1139-76322015000400006-1.xml\n",
      "S0365-66912007000100010-1.txt: Tokens de entrada: 3354\n"
     ]
    },
    {
     "name": "stderr",
     "output_type": "stream",
     "text": [
      "Setting `pad_token_id` to `eos_token_id`:128001 for open-end generation.\n"
     ]
    },
    {
     "name": "stdout",
     "output_type": "stream",
     "text": [
      "Procesado: S0365-66912007000100010-1.txt → S0365-66912007000100010-1.xml\n",
      "S0004-06142008000700015-2.txt: Tokens de entrada: 2854\n"
     ]
    },
    {
     "name": "stderr",
     "output_type": "stream",
     "text": [
      "Setting `pad_token_id` to `eos_token_id`:128001 for open-end generation.\n"
     ]
    },
    {
     "name": "stdout",
     "output_type": "stream",
     "text": [
      "Procesado: S0004-06142008000700015-2.txt → S0004-06142008000700015-2.xml\n",
      "S1130-05582003000600004-3.txt: Tokens de entrada: 3586\n"
     ]
    },
    {
     "name": "stderr",
     "output_type": "stream",
     "text": [
      "Setting `pad_token_id` to `eos_token_id`:128001 for open-end generation.\n"
     ]
    },
    {
     "name": "stdout",
     "output_type": "stream",
     "text": [
      "Procesado: S1130-05582003000600004-3.txt → S1130-05582003000600004-3.xml\n",
      "S1138-123X2003000200006-1.txt: Tokens de entrada: 3064\n"
     ]
    },
    {
     "name": "stderr",
     "output_type": "stream",
     "text": [
      "Setting `pad_token_id` to `eos_token_id`:128001 for open-end generation.\n"
     ]
    },
    {
     "name": "stdout",
     "output_type": "stream",
     "text": [
      "Procesado: S1138-123X2003000200006-1.txt → S1138-123X2003000200006-1.xml\n",
      "S0365-66912009000800005-1.txt: Tokens de entrada: 3064\n"
     ]
    },
    {
     "name": "stderr",
     "output_type": "stream",
     "text": [
      "Setting `pad_token_id` to `eos_token_id`:128001 for open-end generation.\n"
     ]
    },
    {
     "name": "stdout",
     "output_type": "stream",
     "text": [
      "Procesado: S0365-66912009000800005-1.txt → S0365-66912009000800005-1.xml\n",
      "S0378-48352004000200007-1.txt: Tokens de entrada: 3534\n"
     ]
    },
    {
     "name": "stderr",
     "output_type": "stream",
     "text": [
      "Setting `pad_token_id` to `eos_token_id`:128001 for open-end generation.\n"
     ]
    },
    {
     "name": "stdout",
     "output_type": "stream",
     "text": [
      "Procesado: S0378-48352004000200007-1.txt → S0378-48352004000200007-1.xml\n",
      "S0004-06142007000100012-1.txt: Tokens de entrada: 3452\n"
     ]
    },
    {
     "name": "stderr",
     "output_type": "stream",
     "text": [
      "Setting `pad_token_id` to `eos_token_id`:128001 for open-end generation.\n"
     ]
    },
    {
     "name": "stdout",
     "output_type": "stream",
     "text": [
      "Procesado: S0004-06142007000100012-1.txt → S0004-06142007000100012-1.xml\n",
      "S0210-48062009000600012-1.txt: Tokens de entrada: 3853\n"
     ]
    },
    {
     "name": "stderr",
     "output_type": "stream",
     "text": [
      "Setting `pad_token_id` to `eos_token_id`:128001 for open-end generation.\n"
     ]
    },
    {
     "name": "stdout",
     "output_type": "stream",
     "text": [
      "Procesado: S0210-48062009000600012-1.txt → S0210-48062009000600012-1.xml\n",
      "S1135-76062009000200005-1.txt: Tokens de entrada: 3415\n"
     ]
    },
    {
     "name": "stderr",
     "output_type": "stream",
     "text": [
      "Setting `pad_token_id` to `eos_token_id`:128001 for open-end generation.\n"
     ]
    },
    {
     "name": "stdout",
     "output_type": "stream",
     "text": [
      "Procesado: S1135-76062009000200005-1.txt → S1135-76062009000200005-1.xml\n",
      "S0213-12852004000500002-1.txt: Tokens de entrada: 3086\n"
     ]
    },
    {
     "name": "stderr",
     "output_type": "stream",
     "text": [
      "Setting `pad_token_id` to `eos_token_id`:128001 for open-end generation.\n"
     ]
    },
    {
     "name": "stdout",
     "output_type": "stream",
     "text": [
      "Procesado: S0213-12852004000500002-1.txt → S0213-12852004000500002-1.xml\n",
      "S1130-05582014000200008-1.txt: Tokens de entrada: 3497\n"
     ]
    },
    {
     "name": "stderr",
     "output_type": "stream",
     "text": [
      "Setting `pad_token_id` to `eos_token_id`:128001 for open-end generation.\n"
     ]
    },
    {
     "name": "stdout",
     "output_type": "stream",
     "text": [
      "Procesado: S1130-05582014000200008-1.txt → S1130-05582014000200008-1.xml\n",
      "S1130-05582008000400007-2.txt: Tokens de entrada: 2784\n"
     ]
    },
    {
     "name": "stderr",
     "output_type": "stream",
     "text": [
      "Setting `pad_token_id` to `eos_token_id`:128001 for open-end generation.\n"
     ]
    },
    {
     "name": "stdout",
     "output_type": "stream",
     "text": [
      "Procesado: S1130-05582008000400007-2.txt → S1130-05582008000400007-2.xml\n",
      "S1134-80462008000500004-2.txt: Tokens de entrada: 3034\n"
     ]
    },
    {
     "name": "stderr",
     "output_type": "stream",
     "text": [
      "Setting `pad_token_id` to `eos_token_id`:128001 for open-end generation.\n"
     ]
    },
    {
     "name": "stdout",
     "output_type": "stream",
     "text": [
      "Procesado: S1134-80462008000500004-2.txt → S1134-80462008000500004-2.xml\n",
      "S0365-66912007000800012-1.txt: Tokens de entrada: 3284\n"
     ]
    },
    {
     "name": "stderr",
     "output_type": "stream",
     "text": [
      "Setting `pad_token_id` to `eos_token_id`:128001 for open-end generation.\n"
     ]
    },
    {
     "name": "stdout",
     "output_type": "stream",
     "text": [
      "Procesado: S0365-66912007000800012-1.txt → S0365-66912007000800012-1.xml\n",
      "S0211-69952009000600023-1.txt: Tokens de entrada: 3403\n"
     ]
    },
    {
     "name": "stderr",
     "output_type": "stream",
     "text": [
      "Setting `pad_token_id` to `eos_token_id`:128001 for open-end generation.\n"
     ]
    },
    {
     "name": "stdout",
     "output_type": "stream",
     "text": [
      "Procesado: S0211-69952009000600023-1.txt → S0211-69952009000600023-1.xml\n",
      "S0376-78922009000400011-1.txt: Tokens de entrada: 3195\n"
     ]
    },
    {
     "name": "stderr",
     "output_type": "stream",
     "text": [
      "Setting `pad_token_id` to `eos_token_id`:128001 for open-end generation.\n"
     ]
    },
    {
     "name": "stdout",
     "output_type": "stream",
     "text": [
      "Procesado: S0376-78922009000400011-1.txt → S0376-78922009000400011-1.xml\n",
      "S1139-76322016000200013-1.txt: Tokens de entrada: 3090\n"
     ]
    },
    {
     "name": "stderr",
     "output_type": "stream",
     "text": [
      "Setting `pad_token_id` to `eos_token_id`:128001 for open-end generation.\n"
     ]
    },
    {
     "name": "stdout",
     "output_type": "stream",
     "text": [
      "Procesado: S1139-76322016000200013-1.txt → S1139-76322016000200013-1.xml\n",
      "S0212-16112013000300055-1.txt: Tokens de entrada: 3380\n"
     ]
    },
    {
     "name": "stderr",
     "output_type": "stream",
     "text": [
      "Setting `pad_token_id` to `eos_token_id`:128001 for open-end generation.\n"
     ]
    },
    {
     "name": "stdout",
     "output_type": "stream",
     "text": [
      "Procesado: S0212-16112013000300055-1.txt → S0212-16112013000300055-1.xml\n",
      "S1130-05582008000500007-1.txt: Tokens de entrada: 3490\n"
     ]
    },
    {
     "name": "stderr",
     "output_type": "stream",
     "text": [
      "Setting `pad_token_id` to `eos_token_id`:128001 for open-end generation.\n"
     ]
    },
    {
     "name": "stdout",
     "output_type": "stream",
     "text": [
      "Procesado: S1130-05582008000500007-1.txt → S1130-05582008000500007-1.xml\n",
      "S1130-01082008000100017-1.txt: Tokens de entrada: 3412\n"
     ]
    },
    {
     "name": "stderr",
     "output_type": "stream",
     "text": [
      "Setting `pad_token_id` to `eos_token_id`:128001 for open-end generation.\n"
     ]
    },
    {
     "name": "stdout",
     "output_type": "stream",
     "text": [
      "Procesado: S1130-01082008000100017-1.txt → S1130-01082008000100017-1.xml\n",
      "S0004-06142009000100013-1.txt: Tokens de entrada: 3252\n"
     ]
    },
    {
     "name": "stderr",
     "output_type": "stream",
     "text": [
      "Setting `pad_token_id` to `eos_token_id`:128001 for open-end generation.\n"
     ]
    },
    {
     "name": "stdout",
     "output_type": "stream",
     "text": [
      "Procesado: S0004-06142009000100013-1.txt → S0004-06142009000100013-1.xml\n",
      "S1138-123X2005000200006-2.txt: Tokens de entrada: 2783\n"
     ]
    },
    {
     "name": "stderr",
     "output_type": "stream",
     "text": [
      "Setting `pad_token_id` to `eos_token_id`:128001 for open-end generation.\n"
     ]
    },
    {
     "name": "stdout",
     "output_type": "stream",
     "text": [
      "Procesado: S1138-123X2005000200006-2.txt → S1138-123X2005000200006-2.xml\n",
      "S1130-14732008000500005-2.txt: Tokens de entrada: 2917\n"
     ]
    },
    {
     "name": "stderr",
     "output_type": "stream",
     "text": [
      "Setting `pad_token_id` to `eos_token_id`:128001 for open-end generation.\n"
     ]
    },
    {
     "name": "stdout",
     "output_type": "stream",
     "text": [
      "Procesado: S1130-14732008000500005-2.txt → S1130-14732008000500005-2.xml\n",
      "S1130-05582014000400006-2.txt: Tokens de entrada: 3295\n"
     ]
    },
    {
     "name": "stderr",
     "output_type": "stream",
     "text": [
      "Setting `pad_token_id` to `eos_token_id`:128001 for open-end generation.\n"
     ]
    },
    {
     "name": "stdout",
     "output_type": "stream",
     "text": [
      "Procesado: S1130-05582014000400006-2.txt → S1130-05582014000400006-2.xml\n",
      "S0210-48062006000100016-1.txt: Tokens de entrada: 2843\n"
     ]
    },
    {
     "name": "stderr",
     "output_type": "stream",
     "text": [
      "Setting `pad_token_id` to `eos_token_id`:128001 for open-end generation.\n"
     ]
    },
    {
     "name": "stdout",
     "output_type": "stream",
     "text": [
      "Procesado: S0210-48062006000100016-1.txt → S0210-48062006000100016-1.xml\n",
      "S1130-14732006000400004-1.txt: Tokens de entrada: 3170\n"
     ]
    },
    {
     "name": "stderr",
     "output_type": "stream",
     "text": [
      "Setting `pad_token_id` to `eos_token_id`:128001 for open-end generation.\n"
     ]
    },
    {
     "name": "stdout",
     "output_type": "stream",
     "text": [
      "Procesado: S1130-14732006000400004-1.txt → S1130-14732006000400004-1.xml\n",
      "S0004-06142006000500012-1.txt: Tokens de entrada: 3300\n"
     ]
    },
    {
     "name": "stderr",
     "output_type": "stream",
     "text": [
      "Setting `pad_token_id` to `eos_token_id`:128001 for open-end generation.\n"
     ]
    },
    {
     "name": "stdout",
     "output_type": "stream",
     "text": [
      "Procesado: S0004-06142006000500012-1.txt → S0004-06142006000500012-1.xml\n",
      "S0212-71992005001000009-1.txt: Tokens de entrada: 3452\n"
     ]
    },
    {
     "name": "stderr",
     "output_type": "stream",
     "text": [
      "Setting `pad_token_id` to `eos_token_id`:128001 for open-end generation.\n"
     ]
    },
    {
     "name": "stdout",
     "output_type": "stream",
     "text": [
      "Procesado: S0212-71992005001000009-1.txt → S0212-71992005001000009-1.xml\n",
      "S1888-75462016000400180-1.txt: Tokens de entrada: 3298\n"
     ]
    },
    {
     "name": "stderr",
     "output_type": "stream",
     "text": [
      "Setting `pad_token_id` to `eos_token_id`:128001 for open-end generation.\n"
     ]
    },
    {
     "name": "stdout",
     "output_type": "stream",
     "text": [
      "Procesado: S1888-75462016000400180-1.txt → S1888-75462016000400180-1.xml\n",
      "S0365-66912007001000008-1.txt: Tokens de entrada: 3413\n"
     ]
    },
    {
     "name": "stderr",
     "output_type": "stream",
     "text": [
      "Setting `pad_token_id` to `eos_token_id`:128001 for open-end generation.\n"
     ]
    },
    {
     "name": "stdout",
     "output_type": "stream",
     "text": [
      "Procesado: S0365-66912007001000008-1.txt → S0365-66912007001000008-1.xml\n",
      "S1131-57682003000300008-1.txt: Tokens de entrada: 3816\n"
     ]
    },
    {
     "name": "stderr",
     "output_type": "stream",
     "text": [
      "Setting `pad_token_id` to `eos_token_id`:128001 for open-end generation.\n"
     ]
    },
    {
     "name": "stdout",
     "output_type": "stream",
     "text": [
      "Procesado: S1131-57682003000300008-1.txt → S1131-57682003000300008-1.xml\n",
      "S1137-66272011000300023-1.txt: Tokens de entrada: 4046\n"
     ]
    },
    {
     "name": "stderr",
     "output_type": "stream",
     "text": [
      "Setting `pad_token_id` to `eos_token_id`:128001 for open-end generation.\n"
     ]
    },
    {
     "name": "stdout",
     "output_type": "stream",
     "text": [
      "Procesado: S1137-66272011000300023-1.txt → S1137-66272011000300023-1.xml\n",
      "S1130-01082008000900011-1.txt: Tokens de entrada: 3428\n"
     ]
    },
    {
     "name": "stderr",
     "output_type": "stream",
     "text": [
      "Setting `pad_token_id` to `eos_token_id`:128001 for open-end generation.\n"
     ]
    },
    {
     "name": "stdout",
     "output_type": "stream",
     "text": [
      "Procesado: S1130-01082008000900011-1.txt → S1130-01082008000900011-1.xml\n",
      "S1137-66272016000200013-1.txt: Tokens de entrada: 3680\n"
     ]
    },
    {
     "name": "stderr",
     "output_type": "stream",
     "text": [
      "Setting `pad_token_id` to `eos_token_id`:128001 for open-end generation.\n"
     ]
    },
    {
     "name": "stdout",
     "output_type": "stream",
     "text": [
      "Procesado: S1137-66272016000200013-1.txt → S1137-66272016000200013-1.xml\n",
      "S0210-48062005000700015-1.txt: Tokens de entrada: 3638\n"
     ]
    },
    {
     "name": "stderr",
     "output_type": "stream",
     "text": [
      "Setting `pad_token_id` to `eos_token_id`:128001 for open-end generation.\n"
     ]
    },
    {
     "name": "stdout",
     "output_type": "stream",
     "text": [
      "Procesado: S0210-48062005000700015-1.txt → S0210-48062005000700015-1.xml\n",
      "S1699-65852007000300003-1.txt: Tokens de entrada: 3371\n"
     ]
    },
    {
     "name": "stderr",
     "output_type": "stream",
     "text": [
      "Setting `pad_token_id` to `eos_token_id`:128001 for open-end generation.\n"
     ]
    },
    {
     "name": "stdout",
     "output_type": "stream",
     "text": [
      "Procesado: S1699-65852007000300003-1.txt → S1699-65852007000300003-1.xml\n",
      "S1134-80462015000200004-1.txt: Tokens de entrada: 4267\n",
      "Truncando prompt: S1134-80462015000200004-1.txt\n"
     ]
    },
    {
     "name": "stderr",
     "output_type": "stream",
     "text": [
      "Setting `pad_token_id` to `eos_token_id`:128001 for open-end generation.\n"
     ]
    },
    {
     "name": "stdout",
     "output_type": "stream",
     "text": [
      "Procesado: S1134-80462015000200004-1.txt → S1134-80462015000200004-1.xml\n",
      "S0004-06142006000900009-1.txt: Tokens de entrada: 3123\n"
     ]
    },
    {
     "name": "stderr",
     "output_type": "stream",
     "text": [
      "Setting `pad_token_id` to `eos_token_id`:128001 for open-end generation.\n"
     ]
    },
    {
     "name": "stdout",
     "output_type": "stream",
     "text": [
      "Procesado: S0004-06142006000900009-1.txt → S0004-06142006000900009-1.xml\n",
      "S0378-48352005000700007-2.txt: Tokens de entrada: 3165\n"
     ]
    },
    {
     "name": "stderr",
     "output_type": "stream",
     "text": [
      "Setting `pad_token_id` to `eos_token_id`:128001 for open-end generation.\n"
     ]
    },
    {
     "name": "stdout",
     "output_type": "stream",
     "text": [
      "Procesado: S0378-48352005000700007-2.txt → S0378-48352005000700007-2.xml\n",
      "S0210-48062006000700010-1.txt: Tokens de entrada: 3039\n"
     ]
    },
    {
     "name": "stderr",
     "output_type": "stream",
     "text": [
      "Setting `pad_token_id` to `eos_token_id`:128001 for open-end generation.\n"
     ]
    },
    {
     "name": "stdout",
     "output_type": "stream",
     "text": [
      "Procesado: S0210-48062006000700010-1.txt → S0210-48062006000700010-1.xml\n",
      "S0210-48062007000500015-1.txt: Tokens de entrada: 3661\n"
     ]
    },
    {
     "name": "stderr",
     "output_type": "stream",
     "text": [
      "Setting `pad_token_id` to `eos_token_id`:128001 for open-end generation.\n"
     ]
    },
    {
     "name": "stdout",
     "output_type": "stream",
     "text": [
      "Procesado: S0210-48062007000500015-1.txt → S0210-48062007000500015-1.xml\n",
      "S0210-48062009000900019-1.txt: Tokens de entrada: 3511\n"
     ]
    },
    {
     "name": "stderr",
     "output_type": "stream",
     "text": [
      "Setting `pad_token_id` to `eos_token_id`:128001 for open-end generation.\n"
     ]
    },
    {
     "name": "stdout",
     "output_type": "stream",
     "text": [
      "Procesado: S0210-48062009000900019-1.txt → S0210-48062009000900019-1.xml\n",
      "S0004-06142009000100010-1.txt: Tokens de entrada: 3115\n"
     ]
    },
    {
     "name": "stderr",
     "output_type": "stream",
     "text": [
      "Setting `pad_token_id` to `eos_token_id`:128001 for open-end generation.\n"
     ]
    },
    {
     "name": "stdout",
     "output_type": "stream",
     "text": [
      "Procesado: S0004-06142009000100010-1.txt → S0004-06142009000100010-1.xml\n",
      "S0365-66912011000600005-2.txt: Tokens de entrada: 2836\n"
     ]
    },
    {
     "name": "stderr",
     "output_type": "stream",
     "text": [
      "Setting `pad_token_id` to `eos_token_id`:128001 for open-end generation.\n"
     ]
    },
    {
     "name": "stdout",
     "output_type": "stream",
     "text": [
      "Procesado: S0365-66912011000600005-2.txt → S0365-66912011000600005-2.xml\n",
      "S1130-01082009000200016-1.txt: Tokens de entrada: 2936\n"
     ]
    },
    {
     "name": "stderr",
     "output_type": "stream",
     "text": [
      "Setting `pad_token_id` to `eos_token_id`:128001 for open-end generation.\n"
     ]
    },
    {
     "name": "stdout",
     "output_type": "stream",
     "text": [
      "Procesado: S1130-01082009000200016-1.txt → S1130-01082009000200016-1.xml\n",
      "S1130-05582009000600006-1.txt: Tokens de entrada: 3253\n"
     ]
    },
    {
     "name": "stderr",
     "output_type": "stream",
     "text": [
      "Setting `pad_token_id` to `eos_token_id`:128001 for open-end generation.\n"
     ]
    },
    {
     "name": "stdout",
     "output_type": "stream",
     "text": [
      "Procesado: S1130-05582009000600006-1.txt → S1130-05582009000600006-1.xml\n",
      "S0211-57352011000100008-1.txt: Tokens de entrada: 3394\n"
     ]
    },
    {
     "name": "stderr",
     "output_type": "stream",
     "text": [
      "Setting `pad_token_id` to `eos_token_id`:128001 for open-end generation.\n"
     ]
    },
    {
     "name": "stdout",
     "output_type": "stream",
     "text": [
      "Procesado: S0211-57352011000100008-1.txt → S0211-57352011000100008-1.xml\n",
      "S0211-57352013000300012-1.txt: Tokens de entrada: 4319\n",
      "Truncando prompt: S0211-57352013000300012-1.txt\n"
     ]
    },
    {
     "name": "stderr",
     "output_type": "stream",
     "text": [
      "Setting `pad_token_id` to `eos_token_id`:128001 for open-end generation.\n"
     ]
    },
    {
     "name": "stdout",
     "output_type": "stream",
     "text": [
      "Procesado: S0211-57352013000300012-1.txt → S0211-57352013000300012-1.xml\n",
      "S1130-01082005001100016-1.txt: Tokens de entrada: 3190\n"
     ]
    },
    {
     "name": "stderr",
     "output_type": "stream",
     "text": [
      "Setting `pad_token_id` to `eos_token_id`:128001 for open-end generation.\n"
     ]
    },
    {
     "name": "stdout",
     "output_type": "stream",
     "text": [
      "Procesado: S1130-01082005001100016-1.txt → S1130-01082005001100016-1.xml\n",
      "S1889-836X2015000200005-1.txt: Tokens de entrada: 3265\n"
     ]
    },
    {
     "name": "stderr",
     "output_type": "stream",
     "text": [
      "Setting `pad_token_id` to `eos_token_id`:128001 for open-end generation.\n"
     ]
    },
    {
     "name": "stdout",
     "output_type": "stream",
     "text": [
      "Procesado: S1889-836X2015000200005-1.txt → S1889-836X2015000200005-1.xml\n",
      "S0212-16112013000300056-1.txt: Tokens de entrada: 3361\n"
     ]
    },
    {
     "name": "stderr",
     "output_type": "stream",
     "text": [
      "Setting `pad_token_id` to `eos_token_id`:128001 for open-end generation.\n"
     ]
    },
    {
     "name": "stdout",
     "output_type": "stream",
     "text": [
      "Procesado: S0212-16112013000300056-1.txt → S0212-16112013000300056-1.xml\n",
      "S0212-71992007000300005-1.txt: Tokens de entrada: 3892\n"
     ]
    },
    {
     "name": "stderr",
     "output_type": "stream",
     "text": [
      "Setting `pad_token_id` to `eos_token_id`:128001 for open-end generation.\n"
     ]
    },
    {
     "name": "stdout",
     "output_type": "stream",
     "text": [
      "Procesado: S0212-71992007000300005-1.txt → S0212-71992007000300005-1.xml\n",
      "S0376-78922016000200012-1.txt: Tokens de entrada: 3661\n"
     ]
    },
    {
     "name": "stderr",
     "output_type": "stream",
     "text": [
      "Setting `pad_token_id` to `eos_token_id`:128001 for open-end generation.\n"
     ]
    },
    {
     "name": "stdout",
     "output_type": "stream",
     "text": [
      "Procesado: S0376-78922016000200012-1.txt → S0376-78922016000200012-1.xml\n",
      "S0376-78922009000400002-2.txt: Tokens de entrada: 3017\n"
     ]
    },
    {
     "name": "stderr",
     "output_type": "stream",
     "text": [
      "Setting `pad_token_id` to `eos_token_id`:128001 for open-end generation.\n"
     ]
    },
    {
     "name": "stdout",
     "output_type": "stream",
     "text": [
      "Procesado: S0376-78922009000400002-2.txt → S0376-78922009000400002-2.xml\n",
      "S1135-76062012000300014-1.txt: Tokens de entrada: 3148\n"
     ]
    },
    {
     "name": "stderr",
     "output_type": "stream",
     "text": [
      "Setting `pad_token_id` to `eos_token_id`:128001 for open-end generation.\n"
     ]
    },
    {
     "name": "stdout",
     "output_type": "stream",
     "text": [
      "Procesado: S1135-76062012000300014-1.txt → S1135-76062012000300014-1.xml\n",
      "S1130-01082007000400010-1.txt: Tokens de entrada: 3681\n"
     ]
    },
    {
     "name": "stderr",
     "output_type": "stream",
     "text": [
      "Setting `pad_token_id` to `eos_token_id`:128001 for open-end generation.\n"
     ]
    },
    {
     "name": "stdout",
     "output_type": "stream",
     "text": [
      "Procesado: S1130-01082007000400010-1.txt → S1130-01082007000400010-1.xml\n",
      "S1130-14732006000400005-1.txt: Tokens de entrada: 3240\n"
     ]
    },
    {
     "name": "stderr",
     "output_type": "stream",
     "text": [
      "Setting `pad_token_id` to `eos_token_id`:128001 for open-end generation.\n"
     ]
    },
    {
     "name": "stdout",
     "output_type": "stream",
     "text": [
      "Procesado: S1130-14732006000400005-1.txt → S1130-14732006000400005-1.xml\n",
      "S1130-01082009001000013-1.txt: Tokens de entrada: 3261\n"
     ]
    },
    {
     "name": "stderr",
     "output_type": "stream",
     "text": [
      "Setting `pad_token_id` to `eos_token_id`:128001 for open-end generation.\n"
     ]
    },
    {
     "name": "stdout",
     "output_type": "stream",
     "text": [
      "Procesado: S1130-01082009001000013-1.txt → S1130-01082009001000013-1.xml\n",
      "S0212-71992005000600008-1.txt: Tokens de entrada: 3626\n"
     ]
    },
    {
     "name": "stderr",
     "output_type": "stream",
     "text": [
      "Setting `pad_token_id` to `eos_token_id`:128001 for open-end generation.\n"
     ]
    },
    {
     "name": "stdout",
     "output_type": "stream",
     "text": [
      "Procesado: S0212-71992005000600008-1.txt → S0212-71992005000600008-1.xml\n",
      "S1130-63432015000200008-1.txt: Tokens de entrada: 3320\n"
     ]
    },
    {
     "name": "stderr",
     "output_type": "stream",
     "text": [
      "Setting `pad_token_id` to `eos_token_id`:128001 for open-end generation.\n"
     ]
    },
    {
     "name": "stdout",
     "output_type": "stream",
     "text": [
      "Procesado: S1130-63432015000200008-1.txt → S1130-63432015000200008-1.xml\n",
      "S0210-48062006000300015-1.txt: Tokens de entrada: 3273\n"
     ]
    },
    {
     "name": "stderr",
     "output_type": "stream",
     "text": [
      "Setting `pad_token_id` to `eos_token_id`:128001 for open-end generation.\n"
     ]
    },
    {
     "name": "stdout",
     "output_type": "stream",
     "text": [
      "Procesado: S0210-48062006000300015-1.txt → S0210-48062006000300015-1.xml\n",
      "S0212-16112007000800011-1.txt: Tokens de entrada: 4062\n"
     ]
    },
    {
     "name": "stderr",
     "output_type": "stream",
     "text": [
      "Setting `pad_token_id` to `eos_token_id`:128001 for open-end generation.\n"
     ]
    },
    {
     "name": "stdout",
     "output_type": "stream",
     "text": [
      "Procesado: S0212-16112007000800011-1.txt → S0212-16112007000800011-1.xml\n",
      "S1139-76322012000300009-1.txt: Tokens de entrada: 3089\n"
     ]
    },
    {
     "name": "stderr",
     "output_type": "stream",
     "text": [
      "Setting `pad_token_id` to `eos_token_id`:128001 for open-end generation.\n"
     ]
    },
    {
     "name": "stdout",
     "output_type": "stream",
     "text": [
      "Procesado: S1139-76322012000300009-1.txt → S1139-76322012000300009-1.xml\n",
      "S1137-66272009000100010-1.txt: Tokens de entrada: 3533\n"
     ]
    },
    {
     "name": "stderr",
     "output_type": "stream",
     "text": [
      "Setting `pad_token_id` to `eos_token_id`:128001 for open-end generation.\n"
     ]
    },
    {
     "name": "stdout",
     "output_type": "stream",
     "text": [
      "Procesado: S1137-66272009000100010-1.txt → S1137-66272009000100010-1.xml\n",
      "S0210-48062009000300013-6.txt: Tokens de entrada: 2989\n"
     ]
    },
    {
     "name": "stderr",
     "output_type": "stream",
     "text": [
      "Setting `pad_token_id` to `eos_token_id`:128001 for open-end generation.\n"
     ]
    },
    {
     "name": "stdout",
     "output_type": "stream",
     "text": [
      "Procesado: S0210-48062009000300013-6.txt → S0210-48062009000300013-6.xml\n",
      "S1139-76322015000400008-1.txt: Tokens de entrada: 3087\n"
     ]
    },
    {
     "name": "stderr",
     "output_type": "stream",
     "text": [
      "Setting `pad_token_id` to `eos_token_id`:128001 for open-end generation.\n"
     ]
    },
    {
     "name": "stdout",
     "output_type": "stream",
     "text": [
      "Procesado: S1139-76322015000400008-1.txt → S1139-76322015000400008-1.xml\n",
      "S0365-66912007000300010-1.txt: Tokens de entrada: 3033\n"
     ]
    },
    {
     "name": "stderr",
     "output_type": "stream",
     "text": [
      "Setting `pad_token_id` to `eos_token_id`:128001 for open-end generation.\n"
     ]
    },
    {
     "name": "stdout",
     "output_type": "stream",
     "text": [
      "Procesado: S0365-66912007000300010-1.txt → S0365-66912007000300010-1.xml\n",
      "S1130-01082008000500016-2.txt: Tokens de entrada: 3099\n"
     ]
    },
    {
     "name": "stderr",
     "output_type": "stream",
     "text": [
      "Setting `pad_token_id` to `eos_token_id`:128001 for open-end generation.\n"
     ]
    },
    {
     "name": "stdout",
     "output_type": "stream",
     "text": [
      "Procesado: S1130-01082008000500016-2.txt → S1130-01082008000500016-2.xml\n",
      "S0212-71992007000100007-1.txt: Tokens de entrada: 3854\n"
     ]
    },
    {
     "name": "stderr",
     "output_type": "stream",
     "text": [
      "Setting `pad_token_id` to `eos_token_id`:128001 for open-end generation.\n"
     ]
    },
    {
     "name": "stdout",
     "output_type": "stream",
     "text": [
      "Procesado: S0212-71992007000100007-1.txt → S0212-71992007000100007-1.xml\n",
      "S0212-71992005001200010-1.txt: Tokens de entrada: 3834\n"
     ]
    },
    {
     "name": "stderr",
     "output_type": "stream",
     "text": [
      "Setting `pad_token_id` to `eos_token_id`:128001 for open-end generation.\n"
     ]
    },
    {
     "name": "stdout",
     "output_type": "stream",
     "text": [
      "Procesado: S0212-71992005001200010-1.txt → S0212-71992005001200010-1.xml\n",
      "S1134-80462014000300009-1.txt: Tokens de entrada: 3091\n"
     ]
    },
    {
     "name": "stderr",
     "output_type": "stream",
     "text": [
      "Setting `pad_token_id` to `eos_token_id`:128001 for open-end generation.\n"
     ]
    },
    {
     "name": "stdout",
     "output_type": "stream",
     "text": [
      "Procesado: S1134-80462014000300009-1.txt → S1134-80462014000300009-1.xml\n",
      "S1130-05582003000600004-2.txt: Tokens de entrada: 3534\n"
     ]
    },
    {
     "name": "stderr",
     "output_type": "stream",
     "text": [
      "Setting `pad_token_id` to `eos_token_id`:128001 for open-end generation.\n"
     ]
    },
    {
     "name": "stdout",
     "output_type": "stream",
     "text": [
      "Procesado: S1130-05582003000600004-2.txt → S1130-05582003000600004-2.xml\n",
      "S1137-66272006000500012-1.txt: Tokens de entrada: 3310\n"
     ]
    },
    {
     "name": "stderr",
     "output_type": "stream",
     "text": [
      "Setting `pad_token_id` to `eos_token_id`:128001 for open-end generation.\n"
     ]
    },
    {
     "name": "stdout",
     "output_type": "stream",
     "text": [
      "Procesado: S1137-66272006000500012-1.txt → S1137-66272006000500012-1.xml\n",
      "S1130-01082010000600013-1.txt: Tokens de entrada: 3264\n"
     ]
    },
    {
     "name": "stderr",
     "output_type": "stream",
     "text": [
      "Setting `pad_token_id` to `eos_token_id`:128001 for open-end generation.\n"
     ]
    },
    {
     "name": "stdout",
     "output_type": "stream",
     "text": [
      "Procesado: S1130-01082010000600013-1.txt → S1130-01082010000600013-1.xml\n",
      "S0210-56912007000900007-6.txt: Tokens de entrada: 3075\n"
     ]
    },
    {
     "name": "stderr",
     "output_type": "stream",
     "text": [
      "Setting `pad_token_id` to `eos_token_id`:128001 for open-end generation.\n"
     ]
    },
    {
     "name": "stdout",
     "output_type": "stream",
     "text": [
      "Procesado: S0210-56912007000900007-6.txt → S0210-56912007000900007-6.xml\n",
      "S0212-16112014000600030-2.txt: Tokens de entrada: 3095\n"
     ]
    },
    {
     "name": "stderr",
     "output_type": "stream",
     "text": [
      "Setting `pad_token_id` to `eos_token_id`:128001 for open-end generation.\n"
     ]
    },
    {
     "name": "stdout",
     "output_type": "stream",
     "text": [
      "Procesado: S0212-16112014000600030-2.txt → S0212-16112014000600030-2.xml\n",
      "S1130-01082006000100014-1.txt: Tokens de entrada: 3420\n"
     ]
    },
    {
     "name": "stderr",
     "output_type": "stream",
     "text": [
      "Setting `pad_token_id` to `eos_token_id`:128001 for open-end generation.\n"
     ]
    },
    {
     "name": "stdout",
     "output_type": "stream",
     "text": [
      "Procesado: S1130-01082006000100014-1.txt → S1130-01082006000100014-1.xml\n",
      "S0211-69952011000400013-1.txt: Tokens de entrada: 3847\n"
     ]
    },
    {
     "name": "stderr",
     "output_type": "stream",
     "text": [
      "Setting `pad_token_id` to `eos_token_id`:128001 for open-end generation.\n"
     ]
    },
    {
     "name": "stdout",
     "output_type": "stream",
     "text": [
      "Procesado: S0211-69952011000400013-1.txt → S0211-69952011000400013-1.xml\n",
      "S1139-76322015000400012-1.txt: Tokens de entrada: 3221\n"
     ]
    },
    {
     "name": "stderr",
     "output_type": "stream",
     "text": [
      "Setting `pad_token_id` to `eos_token_id`:128001 for open-end generation.\n"
     ]
    },
    {
     "name": "stdout",
     "output_type": "stream",
     "text": [
      "Procesado: S1139-76322015000400012-1.txt → S1139-76322015000400012-1.xml\n",
      "S0378-48352005000400004-1.txt: Tokens de entrada: 3396\n"
     ]
    },
    {
     "name": "stderr",
     "output_type": "stream",
     "text": [
      "Setting `pad_token_id` to `eos_token_id`:128001 for open-end generation.\n"
     ]
    },
    {
     "name": "stdout",
     "output_type": "stream",
     "text": [
      "Procesado: S0378-48352005000400004-1.txt → S0378-48352005000400004-1.xml\n",
      "S1137-66272014000300017-1.txt: Tokens de entrada: 3086\n"
     ]
    },
    {
     "name": "stderr",
     "output_type": "stream",
     "text": [
      "Setting `pad_token_id` to `eos_token_id`:128001 for open-end generation.\n"
     ]
    },
    {
     "name": "stdout",
     "output_type": "stream",
     "text": [
      "Procesado: S1137-66272014000300017-1.txt → S1137-66272014000300017-1.xml\n",
      "S1130-63432016000400011-1.txt: Tokens de entrada: 3425\n"
     ]
    },
    {
     "name": "stderr",
     "output_type": "stream",
     "text": [
      "Setting `pad_token_id` to `eos_token_id`:128001 for open-end generation.\n"
     ]
    },
    {
     "name": "stdout",
     "output_type": "stream",
     "text": [
      "Procesado: S1130-63432016000400011-1.txt → S1130-63432016000400011-1.xml\n",
      "S1138-123X2004000100006-2.txt: Tokens de entrada: 2898\n"
     ]
    },
    {
     "name": "stderr",
     "output_type": "stream",
     "text": [
      "Setting `pad_token_id` to `eos_token_id`:128001 for open-end generation.\n"
     ]
    },
    {
     "name": "stdout",
     "output_type": "stream",
     "text": [
      "Procesado: S1138-123X2004000100006-2.txt → S1138-123X2004000100006-2.xml\n",
      "S0212-16112006000100018-1.txt: Tokens de entrada: 3134\n"
     ]
    },
    {
     "name": "stderr",
     "output_type": "stream",
     "text": [
      "Setting `pad_token_id` to `eos_token_id`:128001 for open-end generation.\n"
     ]
    },
    {
     "name": "stdout",
     "output_type": "stream",
     "text": [
      "Procesado: S0212-16112006000100018-1.txt → S0212-16112006000100018-1.xml\n",
      "S0212-16112012000600045-1.txt: Tokens de entrada: 3417\n"
     ]
    },
    {
     "name": "stderr",
     "output_type": "stream",
     "text": [
      "Setting `pad_token_id` to `eos_token_id`:128001 for open-end generation.\n"
     ]
    },
    {
     "name": "stdout",
     "output_type": "stream",
     "text": [
      "Procesado: S0212-16112012000600045-1.txt → S0212-16112012000600045-1.xml\n",
      "S1130-05582015000100004-1.txt: Tokens de entrada: 3239\n"
     ]
    },
    {
     "name": "stderr",
     "output_type": "stream",
     "text": [
      "Setting `pad_token_id` to `eos_token_id`:128001 for open-end generation.\n"
     ]
    },
    {
     "name": "stdout",
     "output_type": "stream",
     "text": [
      "Procesado: S1130-05582015000100004-1.txt → S1130-05582015000100004-1.xml\n",
      "S1130-01082005000800013-1.txt: Tokens de entrada: 2947\n"
     ]
    },
    {
     "name": "stderr",
     "output_type": "stream",
     "text": [
      "Setting `pad_token_id` to `eos_token_id`:128001 for open-end generation.\n"
     ]
    },
    {
     "name": "stdout",
     "output_type": "stream",
     "text": [
      "Procesado: S1130-01082005000800013-1.txt → S1130-01082005000800013-1.xml\n",
      "S0365-66912006000900010-1.txt: Tokens de entrada: 3239\n",
      "Procesado: S0365-66912006000900010-1.txt → S0365-66912006000900010-1.xml\n",
      "Proceso completado.\n"
     ]
    }
   ],
   "source": [
    "# Directorios de entrada y salida\n",
    "input_dir = \"dev/\"\n",
    "output_dir = \"out/\"\n",
    "os.makedirs(output_dir, exist_ok=True)\n",
    "\n",
    "# Instrucciones para el modelo\n",
    "prompt = [\n",
    "    {\"role\": \"system\", \n",
    "     \"content\": \n",
    "        \"\"\" \n",
    "        Quiero que identifiques entidades nombradas que requieren ser anonimizadas en el informe clínico que copio entre comillas al final de esta instrucción. \n",
    "        Quiero que me des el resultado en formato .xml in-line, donde las entidades sean identificadas por etiquetas en el mismo texto. \n",
    "        Quiero que etiquetes con los criterios MEDDOCAN. A continuación, te muestro un ejemplo que contiene:\n",
    "        - El texto original del informe en formato plano (.txt)\n",
    "        - La representación estructurada del mismo en XML con etiquetas semánticas detalladas y posiciones de texto (atributos start, end, text, TYPE, etc.).\n",
    "        Tu tarea será generar un XML con las mismas reglas de estructura y etiquetado a partir de cada texto clínico. Instrucciones:\n",
    "        - Conserva el formato exacto del XML del ejemplo.\n",
    "        - Cada etiqueta tiene que tener el tipo de entidad (`TYPE`) del inventario de MEDDOCAN. Los tipos de entidad que puedes usar son los siguientes: \n",
    "            NOMBRE_SUJETO_ASISTENCIA\n",
    "            EDAD_SUJETO_ASISTENCIA\n",
    "            SEXO_SUJETO_ASISTENCIA\n",
    "            FAMILIARES_SUJETO_ASISTENCIA\n",
    "            NOMBRE_PERSONAL_SANITARIO\n",
    "            FECHAS\n",
    "            PROFESION\n",
    "            HOSPITAL\n",
    "            CENTRO_SALUD\n",
    "            INSTITUCION\n",
    "            CALLE\n",
    "            TERRITORIO\n",
    "            PAIS\n",
    "            NUMERO_TELEFONO\n",
    "            NUMERO_FAX\n",
    "            CORREO_ELECTRONICO\n",
    "            ID_SUJETO_ASISTENCIA\n",
    "            ID_CONTACTO_ASISTENCIAL\n",
    "            ID_ASEGURAMIENTO\n",
    "            ID_TITULACION_PERSONAL_SANITARIO\n",
    "            ID_EMPLEO_PERSONAL_SANITARIO\n",
    "            IDENTIF_VEHICULOS_NRSERIE_PLACAS\n",
    "            IDENTIF_DISPOSITIVOS_NRSERIE\n",
    "            DIREC_PROT_INTERNET\n",
    "            URL_WEB\n",
    "            IDENTIF_BIOMETRICOS\n",
    "            OTRO_NUMERO_IDENTIF\n",
    "            OTROS_SUJETO_ASISTENCIA\n",
    "          - y un campo de comentario (`comment`) vacío\n",
    "        Cuando te dé un nuevo texto, responde solo con el XML, sin explicaciones adicionales.\n",
    "        Recordá que en ningún caso debes incluir advertencias, explicaciones ni descripciones sobre la tarea, sobre la instrucción que te he dado o sobre cuestiones de funcionamiento del modelo de lenguaje.\n",
    "        \"\"\"},\n",
    "     ]\n",
    "\n",
    "# Configuración de tokens\n",
    "MAX_CONTEXT_TOKENS = 8192\n",
    "MAX_GENERATION_TOKENS = 4000\n",
    "MAX_INPUT_TOKENS = MAX_CONTEXT_TOKENS - MAX_GENERATION_TOKENS\n",
    "\n",
    "\n",
    "\n",
    "# Procesar cada archivo .txt\n",
    "for filename in os.listdir(input_dir):\n",
    "    if filename.endswith(\".txt\"):\n",
    "        filepath = os.path.join(input_dir, filename)\n",
    "        with open(filepath, \"r\", encoding=\"utf-8\") as f:\n",
    "            texto = f.read()\n",
    "\n",
    "        # Crear mensaje estilo chat\n",
    "        prompt_text = prompt[0][\"content\"]\n",
    "        messages = [\n",
    "            {\"role\": \"system\", \"content\": prompt_text},\n",
    "            {\"role\": \"user\", \"content\": texto}\n",
    "        ]\n",
    "\n",
    "        # Calcular tokens de entrada\n",
    "        full_prompt = prompt_text + texto\n",
    "        total_tokens = len(tokenizer.encode(full_prompt))\n",
    "        print(f\"{filename}: Tokens de entrada: {total_tokens}\")\n",
    "\n",
    "        # Truncar el prompt si se pasa del límite permitido\n",
    "        if total_tokens > MAX_INPUT_TOKENS:\n",
    "            print(f\"Truncando prompt: {filename}\")\n",
    "            # Calcular los tokens disponibles para el prompt\n",
    "            max_tokens_prompt = MAX_INPUT_TOKENS - len(tokenizer.encode(texto))\n",
    "            \n",
    "            # Truncar el prompt para ajustarlo al límite de tokens\n",
    "            prompt_tokens = tokenizer.encode(prompt[0][\"content\"])\n",
    "            truncated_prompt_tokens = prompt_tokens[:max_tokens_prompt]\n",
    "            \n",
    "            # Decodificar los tokens truncados y actualizar el prompt\n",
    "            truncated_prompt = tokenizer.decode(truncated_prompt_tokens, skip_special_tokens=True)\n",
    "            messages[0][\"content\"] = truncated_prompt\n",
    "\n",
    "        # Generar texto\n",
    "        output = pipeline(messages, max_new_tokens=MAX_GENERATION_TOKENS)\n",
    "\n",
    "        # Extraer solo el contenido generado por el modelo\n",
    "        respuesta = output[0][\"generated_text\"][2][\"content\"]\n",
    "\n",
    "        # Guardar en .xml\n",
    "        output_filename = os.path.splitext(filename)[0] + \".xml\"\n",
    "        output_path = os.path.join(output_dir, output_filename)\n",
    "        with open(output_path, \"w\", encoding=\"utf-8\") as out_f:\n",
    "            out_f.write(respuesta)\n",
    "\n",
    "        print(f\"Procesado: {filename} → {output_filename}\")\n",
    "\n",
    "print(\"Proceso completado.\")"
   ]
  },
  {
   "cell_type": "code",
   "execution_count": null,
   "id": "808372ce-fad0-4054-a322-4e3bdb46ddfb",
   "metadata": {},
   "outputs": [],
   "source": []
  }
 ],
 "metadata": {
  "kernelspec": {
   "display_name": "Python 3 (ipykernel)",
   "language": "python",
   "name": "python3"
  },
  "language_info": {
   "codemirror_mode": {
    "name": "ipython",
    "version": 3
   },
   "file_extension": ".py",
   "mimetype": "text/x-python",
   "name": "python",
   "nbconvert_exporter": "python",
   "pygments_lexer": "ipython3",
   "version": "3.13.2"
  }
 },
 "nbformat": 4,
 "nbformat_minor": 5
}
