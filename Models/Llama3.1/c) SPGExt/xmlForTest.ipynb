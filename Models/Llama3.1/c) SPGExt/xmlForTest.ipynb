{
 "cells": [
  {
   "cell_type": "code",
   "execution_count": 4,
   "id": "cdbb5c68-c242-44dd-adee-36319ce00e00",
   "metadata": {},
   "outputs": [
    {
     "name": "stdout",
     "output_type": "stream",
     "text": [
      "number of GPUs: torch.cuda.device_count()\n",
      "2.6.0+rocm6.1\n"
     ]
    }
   ],
   "source": [
    "import transformers\n",
    "from transformers import AutoTokenizer\n",
    "import torch\n",
    "import os\n",
    "print(f\"number of GPUs: torch.cuda.device_count()\")\n",
    "print(torch.__version__)"
   ]
  },
  {
   "cell_type": "code",
   "execution_count": 5,
   "id": "7ec2ab81-0906-44dc-8795-74e2a25a3b84",
   "metadata": {},
   "outputs": [
    {
     "data": {
      "application/vnd.jupyter.widget-view+json": {
       "model_id": "d0a41be129e14d23a4c4d4ea19a11926",
       "version_major": 2,
       "version_minor": 0
      },
      "text/plain": [
       "Loading checkpoint shards:   0%|          | 0/4 [00:00<?, ?it/s]"
      ]
     },
     "metadata": {},
     "output_type": "display_data"
    },
    {
     "name": "stderr",
     "output_type": "stream",
     "text": [
      "Device set to use cuda\n"
     ]
    }
   ],
   "source": [
    "model_id = \"meta-llama/Meta-Llama-3.1-8B-Instruct\" \n",
    "\n",
    "if  torch.cuda.is_available():\n",
    "    device = \"cuda\"\n",
    "else:\n",
    "    raise ValueError(\"No se reconoció GPU.\")\n",
    "\n",
    "pipeline = transformers.pipeline(\n",
    "\t\"text-generation\", \n",
    "\tmodel=model_id,\n",
    "\tmodel_kwargs={\"torch_dtype\": torch.bfloat16},\n",
    "\tdevice=device\n",
    ")\n",
    "\n",
    "# Tokenizer necesario para contar tokens\n",
    "tokenizer = transformers.AutoTokenizer.from_pretrained(model_id)"
   ]
  },
  {
   "cell_type": "code",
   "execution_count": null,
   "id": "88945634-1017-440d-94ae-b07f040a180c",
   "metadata": {},
   "outputs": [
    {
     "name": "stderr",
     "output_type": "stream",
     "text": [
      "Setting `pad_token_id` to `eos_token_id`:128001 for open-end generation.\n"
     ]
    },
    {
     "name": "stdout",
     "output_type": "stream",
     "text": [
      "964191583.txt: Tokens de entrada: 2932\n"
     ]
    },
    {
     "name": "stderr",
     "output_type": "stream",
     "text": [
      "Setting `pad_token_id` to `eos_token_id`:128001 for open-end generation.\n"
     ]
    },
    {
     "name": "stdout",
     "output_type": "stream",
     "text": [
      "Procesado: 964191583.txt → 964191583.xml\n",
      "975577618.txt: Tokens de entrada: 2846\n"
     ]
    },
    {
     "name": "stderr",
     "output_type": "stream",
     "text": [
      "Setting `pad_token_id` to `eos_token_id`:128001 for open-end generation.\n"
     ]
    },
    {
     "name": "stdout",
     "output_type": "stream",
     "text": [
      "Procesado: 975577618.txt → 975577618.xml\n",
      "944404412.txt: Tokens de entrada: 3220\n"
     ]
    },
    {
     "name": "stderr",
     "output_type": "stream",
     "text": [
      "Setting `pad_token_id` to `eos_token_id`:128001 for open-end generation.\n"
     ]
    },
    {
     "name": "stdout",
     "output_type": "stream",
     "text": [
      "Procesado: 944404412.txt → 944404412.xml\n",
      "932402402.txt: Tokens de entrada: 3266\n"
     ]
    },
    {
     "name": "stderr",
     "output_type": "stream",
     "text": [
      "Setting `pad_token_id` to `eos_token_id`:128001 for open-end generation.\n"
     ]
    },
    {
     "name": "stdout",
     "output_type": "stream",
     "text": [
      "Procesado: 932402402.txt → 932402402.xml\n",
      "949789988.txt: Tokens de entrada: 2974\n"
     ]
    },
    {
     "name": "stderr",
     "output_type": "stream",
     "text": [
      "Setting `pad_token_id` to `eos_token_id`:128001 for open-end generation.\n"
     ]
    },
    {
     "name": "stdout",
     "output_type": "stream",
     "text": [
      "Procesado: 949789988.txt → 949789988.xml\n",
      "989036296.txt: Tokens de entrada: 3081\n"
     ]
    },
    {
     "name": "stderr",
     "output_type": "stream",
     "text": [
      "Setting `pad_token_id` to `eos_token_id`:128001 for open-end generation.\n"
     ]
    },
    {
     "name": "stdout",
     "output_type": "stream",
     "text": [
      "Procesado: 989036296.txt → 989036296.xml\n",
      "948537830.txt: Tokens de entrada: 3106\n"
     ]
    },
    {
     "name": "stderr",
     "output_type": "stream",
     "text": [
      "Setting `pad_token_id` to `eos_token_id`:128001 for open-end generation.\n"
     ]
    },
    {
     "name": "stdout",
     "output_type": "stream",
     "text": [
      "Procesado: 948537830.txt → 948537830.xml\n",
      "934277412.txt: Tokens de entrada: 2978\n"
     ]
    },
    {
     "name": "stderr",
     "output_type": "stream",
     "text": [
      "Setting `pad_token_id` to `eos_token_id`:128001 for open-end generation.\n"
     ]
    },
    {
     "name": "stdout",
     "output_type": "stream",
     "text": [
      "Procesado: 934277412.txt → 934277412.xml\n",
      "978387247.txt: Tokens de entrada: 3126\n"
     ]
    },
    {
     "name": "stderr",
     "output_type": "stream",
     "text": [
      "Setting `pad_token_id` to `eos_token_id`:128001 for open-end generation.\n"
     ]
    },
    {
     "name": "stdout",
     "output_type": "stream",
     "text": [
      "Procesado: 978387247.txt → 978387247.xml\n",
      "976493341.txt: Tokens de entrada: 3139\n"
     ]
    },
    {
     "name": "stderr",
     "output_type": "stream",
     "text": [
      "Setting `pad_token_id` to `eos_token_id`:128001 for open-end generation.\n"
     ]
    },
    {
     "name": "stdout",
     "output_type": "stream",
     "text": [
      "Procesado: 976493341.txt → 976493341.xml\n",
      "983548640.txt: Tokens de entrada: 2930\n"
     ]
    },
    {
     "name": "stderr",
     "output_type": "stream",
     "text": [
      "Setting `pad_token_id` to `eos_token_id`:128001 for open-end generation.\n"
     ]
    },
    {
     "name": "stdout",
     "output_type": "stream",
     "text": [
      "Procesado: 983548640.txt → 983548640.xml\n",
      "936813726.txt: Tokens de entrada: 2933\n"
     ]
    },
    {
     "name": "stderr",
     "output_type": "stream",
     "text": [
      "Setting `pad_token_id` to `eos_token_id`:128001 for open-end generation.\n"
     ]
    },
    {
     "name": "stdout",
     "output_type": "stream",
     "text": [
      "Procesado: 936813726.txt → 936813726.xml\n",
      "927909325.txt: Tokens de entrada: 2978\n"
     ]
    },
    {
     "name": "stderr",
     "output_type": "stream",
     "text": [
      "Setting `pad_token_id` to `eos_token_id`:128001 for open-end generation.\n"
     ]
    },
    {
     "name": "stdout",
     "output_type": "stream",
     "text": [
      "Procesado: 927909325.txt → 927909325.xml\n",
      "958411362.txt: Tokens de entrada: 3007\n"
     ]
    },
    {
     "name": "stderr",
     "output_type": "stream",
     "text": [
      "Setting `pad_token_id` to `eos_token_id`:128001 for open-end generation.\n"
     ]
    },
    {
     "name": "stdout",
     "output_type": "stream",
     "text": [
      "Procesado: 958411362.txt → 958411362.xml\n",
      "933048349.txt: Tokens de entrada: 2846\n"
     ]
    },
    {
     "name": "stderr",
     "output_type": "stream",
     "text": [
      "Setting `pad_token_id` to `eos_token_id`:128001 for open-end generation.\n"
     ]
    },
    {
     "name": "stdout",
     "output_type": "stream",
     "text": [
      "Procesado: 933048349.txt → 933048349.xml\n",
      "986986756.txt: Tokens de entrada: 3234\n"
     ]
    },
    {
     "name": "stderr",
     "output_type": "stream",
     "text": [
      "Setting `pad_token_id` to `eos_token_id`:128001 for open-end generation.\n"
     ]
    },
    {
     "name": "stdout",
     "output_type": "stream",
     "text": [
      "Procesado: 986986756.txt → 986986756.xml\n",
      "924985962.txt: Tokens de entrada: 3231\n"
     ]
    },
    {
     "name": "stderr",
     "output_type": "stream",
     "text": [
      "Setting `pad_token_id` to `eos_token_id`:128001 for open-end generation.\n"
     ]
    },
    {
     "name": "stdout",
     "output_type": "stream",
     "text": [
      "Procesado: 924985962.txt → 924985962.xml\n",
      "975828051.txt: Tokens de entrada: 2868\n"
     ]
    },
    {
     "name": "stderr",
     "output_type": "stream",
     "text": [
      "Setting `pad_token_id` to `eos_token_id`:128001 for open-end generation.\n"
     ]
    },
    {
     "name": "stdout",
     "output_type": "stream",
     "text": [
      "Procesado: 975828051.txt → 975828051.xml\n",
      "990575060.txt: Tokens de entrada: 2949\n"
     ]
    },
    {
     "name": "stderr",
     "output_type": "stream",
     "text": [
      "Setting `pad_token_id` to `eos_token_id`:128001 for open-end generation.\n"
     ]
    },
    {
     "name": "stdout",
     "output_type": "stream",
     "text": [
      "Procesado: 990575060.txt → 990575060.xml\n",
      "991670909.txt: Tokens de entrada: 2973\n"
     ]
    },
    {
     "name": "stderr",
     "output_type": "stream",
     "text": [
      "Setting `pad_token_id` to `eos_token_id`:128001 for open-end generation.\n"
     ]
    },
    {
     "name": "stdout",
     "output_type": "stream",
     "text": [
      "Procesado: 991670909.txt → 991670909.xml\n",
      "918485962.txt: Tokens de entrada: 2575\n"
     ]
    },
    {
     "name": "stderr",
     "output_type": "stream",
     "text": [
      "Setting `pad_token_id` to `eos_token_id`:128001 for open-end generation.\n"
     ]
    },
    {
     "name": "stdout",
     "output_type": "stream",
     "text": [
      "Procesado: 918485962.txt → 918485962.xml\n",
      "925033386.txt: Tokens de entrada: 3267\n"
     ]
    },
    {
     "name": "stderr",
     "output_type": "stream",
     "text": [
      "Setting `pad_token_id` to `eos_token_id`:128001 for open-end generation.\n"
     ]
    },
    {
     "name": "stdout",
     "output_type": "stream",
     "text": [
      "Procesado: 925033386.txt → 925033386.xml\n",
      "941878909.txt: Tokens de entrada: 2961\n"
     ]
    },
    {
     "name": "stderr",
     "output_type": "stream",
     "text": [
      "Setting `pad_token_id` to `eos_token_id`:128001 for open-end generation.\n"
     ]
    },
    {
     "name": "stdout",
     "output_type": "stream",
     "text": [
      "Procesado: 941878909.txt → 941878909.xml\n",
      "929817590.txt: Tokens de entrada: 2954\n"
     ]
    },
    {
     "name": "stderr",
     "output_type": "stream",
     "text": [
      "Setting `pad_token_id` to `eos_token_id`:128001 for open-end generation.\n"
     ]
    },
    {
     "name": "stdout",
     "output_type": "stream",
     "text": [
      "Procesado: 929817590.txt → 929817590.xml\n",
      "934369810.txt: Tokens de entrada: 3268\n"
     ]
    },
    {
     "name": "stderr",
     "output_type": "stream",
     "text": [
      "Setting `pad_token_id` to `eos_token_id`:128001 for open-end generation.\n"
     ]
    },
    {
     "name": "stdout",
     "output_type": "stream",
     "text": [
      "Procesado: 934369810.txt → 934369810.xml\n",
      "982570255.txt: Tokens de entrada: 3122\n"
     ]
    },
    {
     "name": "stderr",
     "output_type": "stream",
     "text": [
      "Setting `pad_token_id` to `eos_token_id`:128001 for open-end generation.\n"
     ]
    },
    {
     "name": "stdout",
     "output_type": "stream",
     "text": [
      "Procesado: 982570255.txt → 982570255.xml\n",
      "988951928.txt: Tokens de entrada: 2893\n"
     ]
    },
    {
     "name": "stderr",
     "output_type": "stream",
     "text": [
      "Setting `pad_token_id` to `eos_token_id`:128001 for open-end generation.\n"
     ]
    },
    {
     "name": "stdout",
     "output_type": "stream",
     "text": [
      "Procesado: 988951928.txt → 988951928.xml\n",
      "934901961.txt: Tokens de entrada: 3145\n"
     ]
    },
    {
     "name": "stderr",
     "output_type": "stream",
     "text": [
      "Setting `pad_token_id` to `eos_token_id`:128001 for open-end generation.\n"
     ]
    },
    {
     "name": "stdout",
     "output_type": "stream",
     "text": [
      "Procesado: 934901961.txt → 934901961.xml\n",
      "994427603.txt: Tokens de entrada: 2839\n"
     ]
    },
    {
     "name": "stderr",
     "output_type": "stream",
     "text": [
      "Setting `pad_token_id` to `eos_token_id`:128001 for open-end generation.\n"
     ]
    },
    {
     "name": "stdout",
     "output_type": "stream",
     "text": [
      "Procesado: 994427603.txt → 994427603.xml\n",
      "949223650.txt: Tokens de entrada: 3051\n"
     ]
    },
    {
     "name": "stderr",
     "output_type": "stream",
     "text": [
      "Setting `pad_token_id` to `eos_token_id`:128001 for open-end generation.\n"
     ]
    },
    {
     "name": "stdout",
     "output_type": "stream",
     "text": [
      "Procesado: 949223650.txt → 949223650.xml\n",
      "916946631.txt: Tokens de entrada: 2968\n"
     ]
    },
    {
     "name": "stderr",
     "output_type": "stream",
     "text": [
      "Setting `pad_token_id` to `eos_token_id`:128001 for open-end generation.\n"
     ]
    },
    {
     "name": "stdout",
     "output_type": "stream",
     "text": [
      "Procesado: 916946631.txt → 916946631.xml\n",
      "983746151.txt: Tokens de entrada: 2961\n"
     ]
    },
    {
     "name": "stderr",
     "output_type": "stream",
     "text": [
      "Setting `pad_token_id` to `eos_token_id`:128001 for open-end generation.\n"
     ]
    },
    {
     "name": "stdout",
     "output_type": "stream",
     "text": [
      "Procesado: 983746151.txt → 983746151.xml\n",
      "974586397.txt: Tokens de entrada: 2582\n"
     ]
    },
    {
     "name": "stderr",
     "output_type": "stream",
     "text": [
      "Setting `pad_token_id` to `eos_token_id`:128001 for open-end generation.\n"
     ]
    },
    {
     "name": "stdout",
     "output_type": "stream",
     "text": [
      "Procesado: 974586397.txt → 974586397.xml\n",
      "929183134.txt: Tokens de entrada: 2594\n"
     ]
    },
    {
     "name": "stderr",
     "output_type": "stream",
     "text": [
      "Setting `pad_token_id` to `eos_token_id`:128001 for open-end generation.\n"
     ]
    },
    {
     "name": "stdout",
     "output_type": "stream",
     "text": [
      "Procesado: 929183134.txt → 929183134.xml\n",
      "955704690.txt: Tokens de entrada: 3051\n"
     ]
    },
    {
     "name": "stderr",
     "output_type": "stream",
     "text": [
      "Setting `pad_token_id` to `eos_token_id`:128001 for open-end generation.\n"
     ]
    },
    {
     "name": "stdout",
     "output_type": "stream",
     "text": [
      "Procesado: 955704690.txt → 955704690.xml\n",
      "948267996.txt: Tokens de entrada: 3076\n"
     ]
    },
    {
     "name": "stderr",
     "output_type": "stream",
     "text": [
      "Setting `pad_token_id` to `eos_token_id`:128001 for open-end generation.\n"
     ]
    },
    {
     "name": "stdout",
     "output_type": "stream",
     "text": [
      "Procesado: 948267996.txt → 948267996.xml\n",
      "946927743.txt: Tokens de entrada: 3062\n"
     ]
    },
    {
     "name": "stderr",
     "output_type": "stream",
     "text": [
      "Setting `pad_token_id` to `eos_token_id`:128001 for open-end generation.\n"
     ]
    },
    {
     "name": "stdout",
     "output_type": "stream",
     "text": [
      "Procesado: 946927743.txt → 946927743.xml\n",
      "975183453.txt: Tokens de entrada: 3052\n"
     ]
    },
    {
     "name": "stderr",
     "output_type": "stream",
     "text": [
      "Setting `pad_token_id` to `eos_token_id`:128001 for open-end generation.\n"
     ]
    },
    {
     "name": "stdout",
     "output_type": "stream",
     "text": [
      "Procesado: 975183453.txt → 975183453.xml\n",
      "920707969.txt: Tokens de entrada: 3128\n"
     ]
    },
    {
     "name": "stderr",
     "output_type": "stream",
     "text": [
      "Setting `pad_token_id` to `eos_token_id`:128001 for open-end generation.\n"
     ]
    },
    {
     "name": "stdout",
     "output_type": "stream",
     "text": [
      "Procesado: 920707969.txt → 920707969.xml\n",
      "946340084.txt: Tokens de entrada: 3178\n"
     ]
    },
    {
     "name": "stderr",
     "output_type": "stream",
     "text": [
      "Setting `pad_token_id` to `eos_token_id`:128001 for open-end generation.\n"
     ]
    },
    {
     "name": "stdout",
     "output_type": "stream",
     "text": [
      "Procesado: 946340084.txt → 946340084.xml\n",
      "990720341.txt: Tokens de entrada: 3158\n"
     ]
    },
    {
     "name": "stderr",
     "output_type": "stream",
     "text": [
      "Setting `pad_token_id` to `eos_token_id`:128001 for open-end generation.\n"
     ]
    },
    {
     "name": "stdout",
     "output_type": "stream",
     "text": [
      "Procesado: 990720341.txt → 990720341.xml\n",
      "916606884.txt: Tokens de entrada: 3102\n"
     ]
    },
    {
     "name": "stderr",
     "output_type": "stream",
     "text": [
      "Setting `pad_token_id` to `eos_token_id`:128001 for open-end generation.\n"
     ]
    },
    {
     "name": "stdout",
     "output_type": "stream",
     "text": [
      "Procesado: 916606884.txt → 916606884.xml\n",
      "932528658.txt: Tokens de entrada: 2851\n"
     ]
    },
    {
     "name": "stderr",
     "output_type": "stream",
     "text": [
      "Setting `pad_token_id` to `eos_token_id`:128001 for open-end generation.\n"
     ]
    },
    {
     "name": "stdout",
     "output_type": "stream",
     "text": [
      "Procesado: 932528658.txt → 932528658.xml\n",
      "993577188.txt: Tokens de entrada: 3106\n"
     ]
    },
    {
     "name": "stderr",
     "output_type": "stream",
     "text": [
      "Setting `pad_token_id` to `eos_token_id`:128001 for open-end generation.\n"
     ]
    },
    {
     "name": "stdout",
     "output_type": "stream",
     "text": [
      "Procesado: 993577188.txt → 993577188.xml\n",
      "993479328.txt: Tokens de entrada: 3049\n",
      "Procesado: 993479328.txt → 993479328.xml\n",
      "Proceso completado.\n"
     ]
    }
   ],
   "source": [
    "# Directorios de entrada y salida\n",
    "input_dir = \"test/\"\n",
    "output_dir = \"out/\"\n",
    "os.makedirs(output_dir, exist_ok=True)\n",
    "\n",
    "# Instrucciones para el modelo\n",
    "prompt = [\n",
    "    {\"role\": \"system\", \n",
    "     \"content\": \n",
    "        \"\"\" \n",
    "        Quiero que identifiques entidades nombradas que requieren ser anonimizadas en el informe clínico que copio entre comillas al final de esta instrucción. Quiero que me des el resultado en formato .xml in-line, donde las entidades sean identificadas por etiquetas en el mismo texto. Quiero que etiquetes con los criterios MEDDOCAN. A continuación, te muestro un ejemplo que contiene:\n",
    "        - El texto original del informe en formato plano (.txt)\n",
    "        - La representación estructurada del mismo en XML con etiquetas semánticas detalladas y posiciones de texto (atributos start, end, text, TYPE, etc.).\n",
    "        Tu tarea será generar un XML con las mismas reglas de estructura y etiquetado a partir de cada texto clínico. Instrucciones:\n",
    "        - Conserva el formato exacto del XML del ejemplo.\n",
    "        - Cada etiqueta tiene que tener el tipo de entidad (`TYPE`) del inventario de MEDDOCAN. Los tipos de entidad que puedes usar son los siguientes: \n",
    "            NOMBRE_SUJETO_ASISTENCIA\n",
    "            EDAD_SUJETO_ASISTENCIA\n",
    "            SEXO_SUJETO_ASISTENCIA\n",
    "            FAMILIARES_SUJETO_ASISTENCIA\n",
    "            NOMBRE_PERSONAL_SANITARIO\n",
    "            FECHAS\n",
    "            PROFESION\n",
    "            HOSPITAL\n",
    "            CENTRO_SALUD\n",
    "            INSTITUCION\n",
    "            CALLE\n",
    "            TERRITORIO\n",
    "            PAIS\n",
    "            NUMERO_TELEFONO\n",
    "            NUMERO_FAX\n",
    "            CORREO_ELECTRONICO\n",
    "            ID_SUJETO_ASISTENCIA\n",
    "            ID_CONTACTO_ASISTENCIAL\n",
    "            ID_ASEGURAMIENTO\n",
    "            ID_TITULACION_PERSONAL_SANITARIO\n",
    "            ID_EMPLEO_PERSONAL_SANITARIO\n",
    "            IDENTIF_VEHICULOS_NRSERIE_PLACAS\n",
    "            IDENTIF_DISPOSITIVOS_NRSERIE\n",
    "            DIREC_PROT_INTERNET\n",
    "            URL_WEB\n",
    "            IDENTIF_BIOMETRICOS\n",
    "            OTRO_NUMERO_IDENTIF\n",
    "            OTROS_SUJETO_ASISTENCIA\n",
    "          - y un campo de comentario (`comment`) vacío\n",
    "        Cuando te dé un nuevo texto, responde solo con el XML, sin explicaciones adicionales.\n",
    "    \n",
    "        Ejemplo - Informe en formato .txt: \n",
    "        Datos del paciente.\n",
    "        Nombre: Emilia García López\n",
    "        DNI: 12345678A\n",
    "        Fecha de nacimiento: 12/02/1968\n",
    "        Género: Mujer\n",
    "        Domicilio: Calle de la Princesa 123\n",
    "        Ciudad: Madrid\n",
    "        Código postal: 28008\n",
    "        Email: emilia.garcia@ucm.es\n",
    "        Teléfono fijo: +34 91 123 45 67\n",
    "        Teléfono móvil: +34 66 789 01 23\n",
    "        NHC: 1234567\n",
    "        NASS: 987654321098\n",
    "        Condición de riesgo: Persona con discapacidad\n",
    "        Datos asistenciales.\n",
    "        Médico: Dra. Sofía Pérez García. NC 987654321. Especialista en Medicina de Familia. Hospital Universitario La Paz. Paseo de la Castellana 261. 28046. Madrid. España.\n",
    "        Fecha de ingreso: 20/03/2022\n",
    "        Centro de salud: Centro de Salud Villaverde\n",
    "        Informe clínico del paciente:\n",
    "        Paciente de 54 años de edad, con antecedentes de enfermedad cardiovascular, que acude al servicio de urgencias con síntomas de dolor torácico radiante al brazo izquierdo y dificultad para respirar. La exploración física revela taquicardia, hipertensión y roncus bilaterales. Los análisis de sangre muestran elevación de la creatinina y la troponina. Se solicitan estudios de imagen (Rx tórax y ecocardiograma) que revelan un infarto de miocardio en el segmento anterior del ventrículo izquierdo. Se instaura tratamiento con anticoagulantes y analgésicos, y se realiza una angioplastia coronaria para restaurar la circulación sanguínea en el área afectada. El paciente se encuentra estable y se le realiza una vigilancia estrecha en la unidad de cuidados intensivos.\n",
    "        Antecedentes:\n",
    "        - Enfermedad cardiovascular\n",
    "        - Hipertensión\n",
    "        - Diabetes mellitus tipo 2\n",
    "        Evolución y comentarios:\n",
    "        El paciente se encuentra en una evolución estable y se le realiza una vigilancia estrecha en la unidad de cuidados intensivos. Se le han realizado análisis de sangre y estudios de imagen para confirmar el diagnóstico de infarto de miocardio y se ha instaurado tratamiento con anticoagulantes y analgésicos. Se le realizará una angioplastia coronaria para restaurar la circulación sanguínea en el área afectada.\n",
    "        Remitido por:\n",
    "        Se reenvía a la unidad de cardiología para seguir el tratamiento y la evolución del paciente.\n",
    "        \n",
    "        Ejemplo - Informe en formato .xml: lo que debes generar\n",
    "        <?xml version='1.0' encoding='UTF-8'?>\n",
    "        <MEDDOCAN>\n",
    "          <TEXT>\n",
    "            Datos del paciente.\n",
    "            Nombre: <TAG TYPE=\"NOMBRE_SUJETO_ASISTENCIA\">Emilia</TAG> <TAG TYPE=\"NOMBRE_SUJETO_ASISTENCIA\">García López</TAG>.\n",
    "            DNI: <TAG TYPE=\"ID_SUJETO_ASISTENCIA\">12345678A</TAG>.\n",
    "            Fecha de nacimiento: <TAG TYPE=\"FECHAS\">12/02/1968</TAG>.\n",
    "            Género: <TAG TYPE=\"SEXO_SUJETO_ASISTENCIA\">Mujer</TAG>.\n",
    "            Domicilio: <TAG TYPE=\"CALLE\">Calle de la Princesa 123</TAG>.\n",
    "            Ciudad: <TAG TYPE=\"TERRITORIO\">Madrid</TAG>.\n",
    "            Código postal: <TAG TYPE=\"TERRITORIO\">28008</TAG>.\n",
    "            Email: <TAG TYPE=\"CORREO_ELECTRONICO\">emilia.garcia@ucm.es</TAG>.\n",
    "            Teléfono fijo: <TAG TYPE=\"NUMERO_TELEFONO\">+34 91 123 45 67</TAG>.\n",
    "            Teléfono móvil: <TAG TYPE=\"NUMERO_TELEFONO\">+34 66 789 01 23</TAG>.\n",
    "            NHC: <TAG TYPE=\"ID_SUJETO_ASISTENCIA\">1234567</TAG>.\n",
    "            NASS: <TAG TYPE=\"ID_ASEGURAMIENTO\">987654321098</TAG>.\n",
    "            Condición de riesgo: <TAG TYPE=\"OTROS_SUJETO_ASISTENCIA\">Persona con discapacidad</TAG>.\n",
    "            Datos asistenciales.\n",
    "            Médico: Dra. <TAG TYPE=\"NOMBRE_PERSONAL_SANITARIO\">Sofía</TAG> <TAG TYPE=\"NOMBRE_PERSONAL_SANITARIO\">Pérez García</TAG>. NC <TAG TYPE=\"ID_TITULACION_PERSONAL_SANITARIO\">987654321</TAG>. <TAG TYPE=\"PROFESION\">Especialista en Medicina de Familia</TAG>. <TAG TYPE=\"HOSPITAL\">Hospital Universitario La Paz</TAG>. <TAG TYPE=\"CALLE\">Paseo de la Castellana 261</TAG>. <TAG TYPE=\"TERRITORIO\">28046</TAG>. <TAG TYPE=\"TERRITORIO\">Madrid</TAG>. <TAG TYPE=\"PAIS\">España</TAG>.\n",
    "            Fecha de ingreso: <TAG TYPE=\"FECHAS\">20/03/2022</TAG>.\n",
    "            Centro de salud: <TAG TYPE=\"CENTRO_SALUD\">Centro de Salud Villaverde</TAG>.\n",
    "            Informe clínico del paciente:\n",
    "            Paciente de <TAG TYPE=\"EDAD_SUJETO_ASISTENCIA\">54 años</TAG> de edad, con antecedentes de <TAG TYPE=\"OTROS_SUJETO_ASISTENCIA\">enfermedad cardiovascular</TAG>, que acude al servicio de urgencias con síntomas de dolor torácico radiante al brazo izquierdo y dificultad para respirar. La exploración física revela taquicardia, hipertensión y roncus bilaterales. Los análisis de sangre muestran elevación de la creatinina y la troponina. Se solicitan estudios de imagen (Rx tórax y ecocardiograma) que revelan un infarto de miocardio en el segmento anterior del ventrículo izquierdo. Se instaura tratamiento con anticoagulantes y analgésicos, y se realiza una angioplastia coronaria para restaurar la circulación sanguínea en el área afectada. El paciente se encuentra estable y se le realiza una vigilancia estrecha en la unidad de cuidados intensivos.\n",
    "            Antecedentes:\n",
    "            - <TAG TYPE=\"OTROS_SUJETO_ASISTENCIA\">Enfermedad cardiovascular</TAG>\n",
    "            - <TAG TYPE=\"OTROS_SUJETO_ASISTENCIA\">Hipertensión</TAG>\n",
    "            - <TAG TYPE=\"OTROS_SUJETO_ASISTENCIA\">Diabetes mellitus tipo 2</TAG>\n",
    "            Evolución y comentarios:\n",
    "            El paciente se encuentra en una evolución estable y se le realiza una vigilancia estrecha en la unidad de cuidados intensivos. Se le han realizado análisis de sangre y estudios de imagen para confirmar el diagnóstico de infarto de miocardio y se ha instaurado tratamiento con anticoagulantes y analgésicos. Se le realizará una angioplastia coronaria para restaurar la circulación sanguínea en el área afectada.\n",
    "            Remitido por:\n",
    "            Se reenvía a la unidad de cardiología para seguir el tratamiento y la evolución del paciente.\n",
    "          </TEXT>\n",
    "        </MEDDOCAN>\n",
    "        \n",
    "        Recordá que en ningún caso debes incluir advertencias, explicaciones ni descripciones sobre la tarea, sobre la instrucción que te he dado o sobre cuestiones de funcionamiento del modelo de lenguaje.\n",
    "        \"\"\"},\n",
    "     ]\n",
    "\n",
    "# Configuración de tokens\n",
    "MAX_CONTEXT_TOKENS = 8192\n",
    "MAX_GENERATION_TOKENS = 4000\n",
    "MAX_INPUT_TOKENS = MAX_CONTEXT_TOKENS - MAX_GENERATION_TOKENS\n",
    "\n",
    "\n",
    "\n",
    "# Procesar cada archivo .txt\n",
    "for filename in os.listdir(input_dir):\n",
    "    if filename.endswith(\".txt\"):\n",
    "        filepath = os.path.join(input_dir, filename)\n",
    "        with open(filepath, \"r\", encoding=\"utf-8\") as f:\n",
    "            texto = f.read()\n",
    "\n",
    "        # Crear mensaje estilo chat\n",
    "        prompt_text = prompt[0][\"content\"]\n",
    "        messages = [\n",
    "            {\"role\": \"system\", \"content\": prompt_text},\n",
    "            {\"role\": \"user\", \"content\": texto}\n",
    "        ]\n",
    "\n",
    "        # Calcular tokens de entrada\n",
    "        full_prompt = prompt_text + texto\n",
    "        total_tokens = len(tokenizer.encode(full_prompt))\n",
    "        print(f\"{filename}: Tokens de entrada: {total_tokens}\")\n",
    "\n",
    "        # Truncar el prompt si se pasa del límite permitido\n",
    "        if total_tokens > MAX_INPUT_TOKENS:\n",
    "            print(f\"Truncando prompt: {filename}\")\n",
    "            # Calcular los tokens disponibles para el prompt\n",
    "            max_tokens_prompt = MAX_INPUT_TOKENS - len(tokenizer.encode(texto))\n",
    "            \n",
    "            # Truncar el prompt para ajustarlo al límite de tokens\n",
    "            prompt_tokens = tokenizer.encode(prompt[0][\"content\"])\n",
    "            truncated_prompt_tokens = prompt_tokens[:max_tokens_prompt]\n",
    "            \n",
    "            # Decodificar los tokens truncados y actualizar el prompt\n",
    "            truncated_prompt = tokenizer.decode(truncated_prompt_tokens, skip_special_tokens=True)\n",
    "            messages[0][\"content\"] = truncated_prompt\n",
    "\n",
    "        # Generar texto\n",
    "        output = pipeline(messages, max_new_tokens=MAX_GENERATION_TOKENS)\n",
    "\n",
    "        # Extraer solo el contenido generado por el modelo\n",
    "        respuesta = output[0][\"generated_text\"][2][\"content\"]\n",
    "\n",
    "        # Guardar en .xml\n",
    "        output_filename = os.path.splitext(filename)[0] + \".xml\"\n",
    "        output_path = os.path.join(output_dir, output_filename)\n",
    "        with open(output_path, \"w\", encoding=\"utf-8\") as out_f:\n",
    "            out_f.write(respuesta)\n",
    "\n",
    "        print(f\"Procesado: {filename} → {output_filename}\")\n",
    "\n",
    "print(\"Proceso completado.\")"
   ]
  },
  {
   "cell_type": "code",
   "execution_count": null,
   "id": "808372ce-fad0-4054-a322-4e3bdb46ddfb",
   "metadata": {},
   "outputs": [],
   "source": []
  }
 ],
 "metadata": {
  "kernelspec": {
   "display_name": "Python 3 (ipykernel)",
   "language": "python",
   "name": "python3"
  },
  "language_info": {
   "codemirror_mode": {
    "name": "ipython",
    "version": 3
   },
   "file_extension": ".py",
   "mimetype": "text/x-python",
   "name": "python",
   "nbconvert_exporter": "python",
   "pygments_lexer": "ipython3",
   "version": "3.13.2"
  }
 },
 "nbformat": 4,
 "nbformat_minor": 5
}
