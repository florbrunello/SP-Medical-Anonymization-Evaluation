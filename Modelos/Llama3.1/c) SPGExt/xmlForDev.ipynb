{
 "cells": [
  {
   "cell_type": "code",
   "execution_count": 1,
   "id": "cdbb5c68-c242-44dd-adee-36319ce00e00",
   "metadata": {},
   "outputs": [
    {
     "name": "stdout",
     "output_type": "stream",
     "text": [
      "number of GPUs: torch.cuda.device_count()\n",
      "2.6.0+rocm6.1\n"
     ]
    }
   ],
   "source": [
    "import transformers\n",
    "from transformers import AutoTokenizer\n",
    "import torch\n",
    "import os\n",
    "print(f\"number of GPUs: torch.cuda.device_count()\")\n",
    "print(torch.__version__)"
   ]
  },
  {
   "cell_type": "code",
   "execution_count": 2,
   "id": "7ec2ab81-0906-44dc-8795-74e2a25a3b84",
   "metadata": {},
   "outputs": [
    {
     "data": {
      "application/vnd.jupyter.widget-view+json": {
       "model_id": "0cd9abd9a4db4596834ad6d5c72e3624",
       "version_major": 2,
       "version_minor": 0
      },
      "text/plain": [
       "Loading checkpoint shards:   0%|          | 0/4 [00:00<?, ?it/s]"
      ]
     },
     "metadata": {},
     "output_type": "display_data"
    },
    {
     "name": "stderr",
     "output_type": "stream",
     "text": [
      "Device set to use cuda\n"
     ]
    }
   ],
   "source": [
    "model_id = \"meta-llama/Meta-Llama-3.1-8B-Instruct\" \n",
    "\n",
    "if  torch.cuda.is_available():\n",
    "    device = \"cuda\"\n",
    "else:\n",
    "    raise ValueError(\"No se reconoció GPU.\")\n",
    "\n",
    "pipeline = transformers.pipeline(\n",
    "\t\"text-generation\", \n",
    "\tmodel=model_id,\n",
    "\tmodel_kwargs={\"torch_dtype\": torch.bfloat16},\n",
    "\tdevice=device\n",
    ")\n",
    "\n",
    "# Tokenizer necesario para contar tokens\n",
    "tokenizer = transformers.AutoTokenizer.from_pretrained(model_id)"
   ]
  },
  {
   "cell_type": "code",
   "execution_count": null,
   "id": "88945634-1017-440d-94ae-b07f040a180c",
   "metadata": {},
   "outputs": [
    {
     "name": "stderr",
     "output_type": "stream",
     "text": [
      "Setting `pad_token_id` to `eos_token_id`:128001 for open-end generation.\n"
     ]
    },
    {
     "name": "stdout",
     "output_type": "stream",
     "text": [
      "877744736.txt: Tokens de entrada: 2861\n"
     ]
    },
    {
     "name": "stderr",
     "output_type": "stream",
     "text": [
      "Setting `pad_token_id` to `eos_token_id`:128001 for open-end generation.\n"
     ]
    },
    {
     "name": "stdout",
     "output_type": "stream",
     "text": [
      "Procesado: 877744736.txt → 877744736.xml\n",
      "900051902.txt: Tokens de entrada: 2687\n"
     ]
    },
    {
     "name": "stderr",
     "output_type": "stream",
     "text": [
      "Setting `pad_token_id` to `eos_token_id`:128001 for open-end generation.\n"
     ]
    },
    {
     "name": "stdout",
     "output_type": "stream",
     "text": [
      "Procesado: 900051902.txt → 900051902.xml\n",
      "882940617.txt: Tokens de entrada: 2838\n"
     ]
    },
    {
     "name": "stderr",
     "output_type": "stream",
     "text": [
      "Setting `pad_token_id` to `eos_token_id`:128001 for open-end generation.\n"
     ]
    },
    {
     "name": "stdout",
     "output_type": "stream",
     "text": [
      "Procesado: 882940617.txt → 882940617.xml\n",
      "841824272.txt: Tokens de entrada: 2759\n"
     ]
    },
    {
     "name": "stderr",
     "output_type": "stream",
     "text": [
      "Setting `pad_token_id` to `eos_token_id`:128001 for open-end generation.\n"
     ]
    },
    {
     "name": "stdout",
     "output_type": "stream",
     "text": [
      "Procesado: 841824272.txt → 841824272.xml\n",
      "906070281.txt: Tokens de entrada: 2679\n"
     ]
    },
    {
     "name": "stderr",
     "output_type": "stream",
     "text": [
      "Setting `pad_token_id` to `eos_token_id`:128001 for open-end generation.\n"
     ]
    },
    {
     "name": "stdout",
     "output_type": "stream",
     "text": [
      "Procesado: 906070281.txt → 906070281.xml\n",
      "905848513.txt: Tokens de entrada: 3159\n"
     ]
    },
    {
     "name": "stderr",
     "output_type": "stream",
     "text": [
      "Setting `pad_token_id` to `eos_token_id`:128001 for open-end generation.\n"
     ]
    },
    {
     "name": "stdout",
     "output_type": "stream",
     "text": [
      "Procesado: 905848513.txt → 905848513.xml\n",
      "880424816.txt: Tokens de entrada: 3019\n"
     ]
    },
    {
     "name": "stderr",
     "output_type": "stream",
     "text": [
      "Setting `pad_token_id` to `eos_token_id`:128001 for open-end generation.\n"
     ]
    },
    {
     "name": "stdout",
     "output_type": "stream",
     "text": [
      "Procesado: 880424816.txt → 880424816.xml\n",
      "869873706.txt: Tokens de entrada: 3005\n"
     ]
    },
    {
     "name": "stderr",
     "output_type": "stream",
     "text": [
      "Setting `pad_token_id` to `eos_token_id`:128001 for open-end generation.\n"
     ]
    },
    {
     "name": "stdout",
     "output_type": "stream",
     "text": [
      "Procesado: 869873706.txt → 869873706.xml\n",
      "887826232.txt: Tokens de entrada: 3238\n"
     ]
    },
    {
     "name": "stderr",
     "output_type": "stream",
     "text": [
      "Setting `pad_token_id` to `eos_token_id`:128001 for open-end generation.\n"
     ]
    },
    {
     "name": "stdout",
     "output_type": "stream",
     "text": [
      "Procesado: 887826232.txt → 887826232.xml\n",
      "849796182.txt: Tokens de entrada: 2691\n"
     ]
    },
    {
     "name": "stderr",
     "output_type": "stream",
     "text": [
      "You seem to be using the pipelines sequentially on GPU. In order to maximize efficiency please use a dataset\n",
      "Setting `pad_token_id` to `eos_token_id`:128001 for open-end generation.\n"
     ]
    },
    {
     "name": "stdout",
     "output_type": "stream",
     "text": [
      "Procesado: 849796182.txt → 849796182.xml\n",
      "841382782.txt: Tokens de entrada: 3036\n"
     ]
    },
    {
     "name": "stderr",
     "output_type": "stream",
     "text": [
      "Setting `pad_token_id` to `eos_token_id`:128001 for open-end generation.\n"
     ]
    },
    {
     "name": "stdout",
     "output_type": "stream",
     "text": [
      "Procesado: 841382782.txt → 841382782.xml\n",
      "836507849.txt: Tokens de entrada: 2865\n"
     ]
    },
    {
     "name": "stderr",
     "output_type": "stream",
     "text": [
      "Setting `pad_token_id` to `eos_token_id`:128001 for open-end generation.\n"
     ]
    },
    {
     "name": "stdout",
     "output_type": "stream",
     "text": [
      "Procesado: 836507849.txt → 836507849.xml\n",
      "851639758.txt: Tokens de entrada: 2586\n"
     ]
    },
    {
     "name": "stderr",
     "output_type": "stream",
     "text": [
      "Setting `pad_token_id` to `eos_token_id`:128001 for open-end generation.\n"
     ]
    },
    {
     "name": "stdout",
     "output_type": "stream",
     "text": [
      "Procesado: 851639758.txt → 851639758.xml\n",
      "912232568.txt: Tokens de entrada: 3110\n"
     ]
    },
    {
     "name": "stderr",
     "output_type": "stream",
     "text": [
      "Setting `pad_token_id` to `eos_token_id`:128001 for open-end generation.\n"
     ]
    },
    {
     "name": "stdout",
     "output_type": "stream",
     "text": [
      "Procesado: 912232568.txt → 912232568.xml\n",
      "884437438.txt: Tokens de entrada: 2979\n"
     ]
    },
    {
     "name": "stderr",
     "output_type": "stream",
     "text": [
      "Setting `pad_token_id` to `eos_token_id`:128001 for open-end generation.\n"
     ]
    },
    {
     "name": "stdout",
     "output_type": "stream",
     "text": [
      "Procesado: 884437438.txt → 884437438.xml\n",
      "911408584.txt: Tokens de entrada: 3033\n"
     ]
    },
    {
     "name": "stderr",
     "output_type": "stream",
     "text": [
      "Setting `pad_token_id` to `eos_token_id`:128001 for open-end generation.\n"
     ]
    },
    {
     "name": "stdout",
     "output_type": "stream",
     "text": [
      "Procesado: 911408584.txt → 911408584.xml\n",
      "842115767.txt: Tokens de entrada: 3047\n"
     ]
    },
    {
     "name": "stderr",
     "output_type": "stream",
     "text": [
      "Setting `pad_token_id` to `eos_token_id`:128001 for open-end generation.\n"
     ]
    },
    {
     "name": "stdout",
     "output_type": "stream",
     "text": [
      "Procesado: 842115767.txt → 842115767.xml\n",
      "841606847.txt: Tokens de entrada: 2882\n"
     ]
    },
    {
     "name": "stderr",
     "output_type": "stream",
     "text": [
      "Setting `pad_token_id` to `eos_token_id`:128001 for open-end generation.\n"
     ]
    },
    {
     "name": "stdout",
     "output_type": "stream",
     "text": [
      "Procesado: 841606847.txt → 841606847.xml\n",
      "901626164.txt: Tokens de entrada: 3227\n"
     ]
    },
    {
     "name": "stderr",
     "output_type": "stream",
     "text": [
      "Setting `pad_token_id` to `eos_token_id`:128001 for open-end generation.\n"
     ]
    },
    {
     "name": "stdout",
     "output_type": "stream",
     "text": [
      "Procesado: 901626164.txt → 901626164.xml\n",
      "862010312.txt: Tokens de entrada: 3199\n"
     ]
    },
    {
     "name": "stderr",
     "output_type": "stream",
     "text": [
      "Setting `pad_token_id` to `eos_token_id`:128001 for open-end generation.\n"
     ]
    },
    {
     "name": "stdout",
     "output_type": "stream",
     "text": [
      "Procesado: 862010312.txt → 862010312.xml\n",
      "889070739.txt: Tokens de entrada: 2743\n"
     ]
    },
    {
     "name": "stderr",
     "output_type": "stream",
     "text": [
      "Setting `pad_token_id` to `eos_token_id`:128001 for open-end generation.\n"
     ]
    },
    {
     "name": "stdout",
     "output_type": "stream",
     "text": [
      "Procesado: 889070739.txt → 889070739.xml\n",
      "853121870.txt: Tokens de entrada: 2877\n"
     ]
    },
    {
     "name": "stderr",
     "output_type": "stream",
     "text": [
      "Setting `pad_token_id` to `eos_token_id`:128001 for open-end generation.\n"
     ]
    },
    {
     "name": "stdout",
     "output_type": "stream",
     "text": [
      "Procesado: 853121870.txt → 853121870.xml\n",
      "853658541.txt: Tokens de entrada: 2924\n"
     ]
    },
    {
     "name": "stderr",
     "output_type": "stream",
     "text": [
      "Setting `pad_token_id` to `eos_token_id`:128001 for open-end generation.\n"
     ]
    },
    {
     "name": "stdout",
     "output_type": "stream",
     "text": [
      "Procesado: 853658541.txt → 853658541.xml\n",
      "860817379.txt: Tokens de entrada: 3064\n"
     ]
    },
    {
     "name": "stderr",
     "output_type": "stream",
     "text": [
      "Setting `pad_token_id` to `eos_token_id`:128001 for open-end generation.\n"
     ]
    },
    {
     "name": "stdout",
     "output_type": "stream",
     "text": [
      "Procesado: 860817379.txt → 860817379.xml\n",
      "860703747.txt: Tokens de entrada: 2969\n"
     ]
    },
    {
     "name": "stderr",
     "output_type": "stream",
     "text": [
      "Setting `pad_token_id` to `eos_token_id`:128001 for open-end generation.\n"
     ]
    },
    {
     "name": "stdout",
     "output_type": "stream",
     "text": [
      "Procesado: 860703747.txt → 860703747.xml\n",
      "900212897.txt: Tokens de entrada: 3100\n"
     ]
    },
    {
     "name": "stderr",
     "output_type": "stream",
     "text": [
      "Setting `pad_token_id` to `eos_token_id`:128001 for open-end generation.\n"
     ]
    },
    {
     "name": "stdout",
     "output_type": "stream",
     "text": [
      "Procesado: 900212897.txt → 900212897.xml\n",
      "858831674.txt: Tokens de entrada: 3075\n"
     ]
    },
    {
     "name": "stderr",
     "output_type": "stream",
     "text": [
      "Setting `pad_token_id` to `eos_token_id`:128001 for open-end generation.\n"
     ]
    },
    {
     "name": "stdout",
     "output_type": "stream",
     "text": [
      "Procesado: 858831674.txt → 858831674.xml\n",
      "901550052.txt: Tokens de entrada: 3229\n"
     ]
    },
    {
     "name": "stderr",
     "output_type": "stream",
     "text": [
      "Setting `pad_token_id` to `eos_token_id`:128001 for open-end generation.\n"
     ]
    },
    {
     "name": "stdout",
     "output_type": "stream",
     "text": [
      "Procesado: 901550052.txt → 901550052.xml\n",
      "839579642.txt: Tokens de entrada: 2656\n"
     ]
    },
    {
     "name": "stderr",
     "output_type": "stream",
     "text": [
      "Setting `pad_token_id` to `eos_token_id`:128001 for open-end generation.\n"
     ]
    },
    {
     "name": "stdout",
     "output_type": "stream",
     "text": [
      "Procesado: 839579642.txt → 839579642.xml\n",
      "878300141.txt: Tokens de entrada: 2730\n"
     ]
    },
    {
     "name": "stderr",
     "output_type": "stream",
     "text": [
      "Setting `pad_token_id` to `eos_token_id`:128001 for open-end generation.\n"
     ]
    },
    {
     "name": "stdout",
     "output_type": "stream",
     "text": [
      "Procesado: 878300141.txt → 878300141.xml\n",
      "832082119.txt: Tokens de entrada: 2988\n"
     ]
    },
    {
     "name": "stderr",
     "output_type": "stream",
     "text": [
      "Setting `pad_token_id` to `eos_token_id`:128001 for open-end generation.\n"
     ]
    },
    {
     "name": "stdout",
     "output_type": "stream",
     "text": [
      "Procesado: 832082119.txt → 832082119.xml\n",
      "915623376.txt: Tokens de entrada: 2907\n"
     ]
    },
    {
     "name": "stderr",
     "output_type": "stream",
     "text": [
      "Setting `pad_token_id` to `eos_token_id`:128001 for open-end generation.\n"
     ]
    },
    {
     "name": "stdout",
     "output_type": "stream",
     "text": [
      "Procesado: 915623376.txt → 915623376.xml\n",
      "854340264.txt: Tokens de entrada: 3208\n"
     ]
    },
    {
     "name": "stderr",
     "output_type": "stream",
     "text": [
      "Setting `pad_token_id` to `eos_token_id`:128001 for open-end generation.\n"
     ]
    },
    {
     "name": "stdout",
     "output_type": "stream",
     "text": [
      "Procesado: 854340264.txt → 854340264.xml\n",
      "904999396.txt: Tokens de entrada: 3144\n"
     ]
    },
    {
     "name": "stderr",
     "output_type": "stream",
     "text": [
      "Setting `pad_token_id` to `eos_token_id`:128001 for open-end generation.\n"
     ]
    },
    {
     "name": "stdout",
     "output_type": "stream",
     "text": [
      "Procesado: 904999396.txt → 904999396.xml\n",
      "886849671.txt: Tokens de entrada: 2608\n"
     ]
    },
    {
     "name": "stderr",
     "output_type": "stream",
     "text": [
      "Setting `pad_token_id` to `eos_token_id`:128001 for open-end generation.\n"
     ]
    },
    {
     "name": "stdout",
     "output_type": "stream",
     "text": [
      "Procesado: 886849671.txt → 886849671.xml\n",
      "839007788.txt: Tokens de entrada: 2532\n"
     ]
    },
    {
     "name": "stderr",
     "output_type": "stream",
     "text": [
      "Setting `pad_token_id` to `eos_token_id`:128001 for open-end generation.\n"
     ]
    },
    {
     "name": "stdout",
     "output_type": "stream",
     "text": [
      "Procesado: 839007788.txt → 839007788.xml\n",
      "843054476.txt: Tokens de entrada: 3099\n"
     ]
    },
    {
     "name": "stderr",
     "output_type": "stream",
     "text": [
      "Setting `pad_token_id` to `eos_token_id`:128001 for open-end generation.\n"
     ]
    },
    {
     "name": "stdout",
     "output_type": "stream",
     "text": [
      "Procesado: 843054476.txt → 843054476.xml\n",
      "852054481.txt: Tokens de entrada: 3094\n"
     ]
    },
    {
     "name": "stderr",
     "output_type": "stream",
     "text": [
      "Setting `pad_token_id` to `eos_token_id`:128001 for open-end generation.\n"
     ]
    },
    {
     "name": "stdout",
     "output_type": "stream",
     "text": [
      "Procesado: 852054481.txt → 852054481.xml\n",
      "876682700.txt: Tokens de entrada: 3035\n"
     ]
    },
    {
     "name": "stderr",
     "output_type": "stream",
     "text": [
      "Setting `pad_token_id` to `eos_token_id`:128001 for open-end generation.\n"
     ]
    },
    {
     "name": "stdout",
     "output_type": "stream",
     "text": [
      "Procesado: 876682700.txt → 876682700.xml\n",
      "839003070.txt: Tokens de entrada: 2885\n"
     ]
    },
    {
     "name": "stderr",
     "output_type": "stream",
     "text": [
      "Setting `pad_token_id` to `eos_token_id`:128001 for open-end generation.\n"
     ]
    },
    {
     "name": "stdout",
     "output_type": "stream",
     "text": [
      "Procesado: 839003070.txt → 839003070.xml\n",
      "862537906.txt: Tokens de entrada: 3267\n"
     ]
    },
    {
     "name": "stderr",
     "output_type": "stream",
     "text": [
      "Setting `pad_token_id` to `eos_token_id`:128001 for open-end generation.\n"
     ]
    },
    {
     "name": "stdout",
     "output_type": "stream",
     "text": [
      "Procesado: 862537906.txt → 862537906.xml\n",
      "875489792.txt: Tokens de entrada: 3094\n"
     ]
    },
    {
     "name": "stderr",
     "output_type": "stream",
     "text": [
      "Setting `pad_token_id` to `eos_token_id`:128001 for open-end generation.\n"
     ]
    },
    {
     "name": "stdout",
     "output_type": "stream",
     "text": [
      "Procesado: 875489792.txt → 875489792.xml\n",
      "874430747.txt: Tokens de entrada: 2795\n"
     ]
    },
    {
     "name": "stderr",
     "output_type": "stream",
     "text": [
      "Setting `pad_token_id` to `eos_token_id`:128001 for open-end generation.\n"
     ]
    },
    {
     "name": "stdout",
     "output_type": "stream",
     "text": [
      "Procesado: 874430747.txt → 874430747.xml\n",
      "907210617.txt: Tokens de entrada: 2947\n"
     ]
    },
    {
     "name": "stderr",
     "output_type": "stream",
     "text": [
      "Setting `pad_token_id` to `eos_token_id`:128001 for open-end generation.\n"
     ]
    },
    {
     "name": "stdout",
     "output_type": "stream",
     "text": [
      "Procesado: 907210617.txt → 907210617.xml\n",
      "901492517.txt: Tokens de entrada: 3268\n",
      "Procesado: 901492517.txt → 901492517.xml\n",
      "Proceso completado.\n"
     ]
    }
   ],
   "source": [
    "# Directorios de entrada y salida\n",
    "input_dir = \"dev/\"\n",
    "output_dir = \"out/\"\n",
    "os.makedirs(output_dir, exist_ok=True)\n",
    "\n",
    "# Instrucciones para el modelo\n",
    "prompt = [\n",
    "    {\"role\": \"system\", \n",
    "     \"content\": \n",
    "        \"\"\" \n",
    "        Quiero que identifiques entidades nombradas que requieren ser anonimizadas en el informe clínico que copio entre comillas al final de esta instrucción. Quiero que me des el resultado en formato .xml in-line, donde las entidades sean identificadas por etiquetas en el mismo texto. Quiero que etiquetes con los criterios MEDDOCAN. A continuación, te muestro un ejemplo que contiene:\n",
    "        - El texto original del informe en formato plano (.txt)\n",
    "        - La representación estructurada del mismo en XML con etiquetas semánticas detalladas y posiciones de texto (atributos start, end, text, TYPE, etc.).\n",
    "        Tu tarea será generar un XML con las mismas reglas de estructura y etiquetado a partir de cada texto clínico. Instrucciones:\n",
    "        - Conserva el formato exacto del XML del ejemplo.\n",
    "        - Cada etiqueta tiene que tener el tipo de entidad (`TYPE`) del inventario de MEDDOCAN. Los tipos de entidad que puedes usar son los siguientes: \n",
    "            NOMBRE_SUJETO_ASISTENCIA\n",
    "            EDAD_SUJETO_ASISTENCIA\n",
    "            SEXO_SUJETO_ASISTENCIA\n",
    "            FAMILIARES_SUJETO_ASISTENCIA\n",
    "            NOMBRE_PERSONAL_SANITARIO\n",
    "            FECHAS\n",
    "            PROFESION\n",
    "            HOSPITAL\n",
    "            CENTRO_SALUD\n",
    "            INSTITUCION\n",
    "            CALLE\n",
    "            TERRITORIO\n",
    "            PAIS\n",
    "            NUMERO_TELEFONO\n",
    "            NUMERO_FAX\n",
    "            CORREO_ELECTRONICO\n",
    "            ID_SUJETO_ASISTENCIA\n",
    "            ID_CONTACTO_ASISTENCIAL\n",
    "            ID_ASEGURAMIENTO\n",
    "            ID_TITULACION_PERSONAL_SANITARIO\n",
    "            ID_EMPLEO_PERSONAL_SANITARIO\n",
    "            IDENTIF_VEHICULOS_NRSERIE_PLACAS\n",
    "            IDENTIF_DISPOSITIVOS_NRSERIE\n",
    "            DIREC_PROT_INTERNET\n",
    "            URL_WEB\n",
    "            IDENTIF_BIOMETRICOS\n",
    "            OTRO_NUMERO_IDENTIF\n",
    "            OTROS_SUJETO_ASISTENCIA\n",
    "          - y un campo de comentario (`comment`) vacío\n",
    "        Cuando te dé un nuevo texto, responde solo con el XML, sin explicaciones adicionales.\n",
    "    \n",
    "        Ejemplo - Informe en formato .txt: \n",
    "        Datos del paciente.\n",
    "        Nombre: Emilia García López\n",
    "        DNI: 12345678A\n",
    "        Fecha de nacimiento: 12/02/1968\n",
    "        Género: Mujer\n",
    "        Domicilio: Calle de la Princesa 123\n",
    "        Ciudad: Madrid\n",
    "        Código postal: 28008\n",
    "        Email: emilia.garcia@ucm.es\n",
    "        Teléfono fijo: +34 91 123 45 67\n",
    "        Teléfono móvil: +34 66 789 01 23\n",
    "        NHC: 1234567\n",
    "        NASS: 987654321098\n",
    "        Condición de riesgo: Persona con discapacidad\n",
    "        Datos asistenciales.\n",
    "        Médico: Dra. Sofía Pérez García. NC 987654321. Especialista en Medicina de Familia. Hospital Universitario La Paz. Paseo de la Castellana 261. 28046. Madrid. España.\n",
    "        Fecha de ingreso: 20/03/2022\n",
    "        Centro de salud: Centro de Salud Villaverde\n",
    "        Informe clínico del paciente:\n",
    "        Paciente de 54 años de edad, con antecedentes de enfermedad cardiovascular, que acude al servicio de urgencias con síntomas de dolor torácico radiante al brazo izquierdo y dificultad para respirar. La exploración física revela taquicardia, hipertensión y roncus bilaterales. Los análisis de sangre muestran elevación de la creatinina y la troponina. Se solicitan estudios de imagen (Rx tórax y ecocardiograma) que revelan un infarto de miocardio en el segmento anterior del ventrículo izquierdo. Se instaura tratamiento con anticoagulantes y analgésicos, y se realiza una angioplastia coronaria para restaurar la circulación sanguínea en el área afectada. El paciente se encuentra estable y se le realiza una vigilancia estrecha en la unidad de cuidados intensivos.\n",
    "        Antecedentes:\n",
    "        - Enfermedad cardiovascular\n",
    "        - Hipertensión\n",
    "        - Diabetes mellitus tipo 2\n",
    "        Evolución y comentarios:\n",
    "        El paciente se encuentra en una evolución estable y se le realiza una vigilancia estrecha en la unidad de cuidados intensivos. Se le han realizado análisis de sangre y estudios de imagen para confirmar el diagnóstico de infarto de miocardio y se ha instaurado tratamiento con anticoagulantes y analgésicos. Se le realizará una angioplastia coronaria para restaurar la circulación sanguínea en el área afectada.\n",
    "        Remitido por:\n",
    "        Se reenvía a la unidad de cardiología para seguir el tratamiento y la evolución del paciente.\n",
    "        \n",
    "        Ejemplo - Informe en formato .xml: lo que debes generar\n",
    "        <?xml version='1.0' encoding='UTF-8'?>\n",
    "        <MEDDOCAN>\n",
    "          <TEXT>\n",
    "            Datos del paciente.\n",
    "            Nombre: <TAG TYPE=\"NOMBRE_SUJETO_ASISTENCIA\">Emilia</TAG> <TAG TYPE=\"NOMBRE_SUJETO_ASISTENCIA\">García López</TAG>.\n",
    "            DNI: <TAG TYPE=\"ID_SUJETO_ASISTENCIA\">12345678A</TAG>.\n",
    "            Fecha de nacimiento: <TAG TYPE=\"FECHAS\">12/02/1968</TAG>.\n",
    "            Género: <TAG TYPE=\"SEXO_SUJETO_ASISTENCIA\">Mujer</TAG>.\n",
    "            Domicilio: <TAG TYPE=\"CALLE\">Calle de la Princesa 123</TAG>.\n",
    "            Ciudad: <TAG TYPE=\"TERRITORIO\">Madrid</TAG>.\n",
    "            Código postal: <TAG TYPE=\"TERRITORIO\">28008</TAG>.\n",
    "            Email: <TAG TYPE=\"CORREO_ELECTRONICO\">emilia.garcia@ucm.es</TAG>.\n",
    "            Teléfono fijo: <TAG TYPE=\"NUMERO_TELEFONO\">+34 91 123 45 67</TAG>.\n",
    "            Teléfono móvil: <TAG TYPE=\"NUMERO_TELEFONO\">+34 66 789 01 23</TAG>.\n",
    "            NHC: <TAG TYPE=\"ID_SUJETO_ASISTENCIA\">1234567</TAG>.\n",
    "            NASS: <TAG TYPE=\"ID_ASEGURAMIENTO\">987654321098</TAG>.\n",
    "            Condición de riesgo: <TAG TYPE=\"OTROS_SUJETO_ASISTENCIA\">Persona con discapacidad</TAG>.\n",
    "            Datos asistenciales.\n",
    "            Médico: Dra. <TAG TYPE=\"NOMBRE_PERSONAL_SANITARIO\">Sofía</TAG> <TAG TYPE=\"NOMBRE_PERSONAL_SANITARIO\">Pérez García</TAG>. NC <TAG TYPE=\"ID_TITULACION_PERSONAL_SANITARIO\">987654321</TAG>. <TAG TYPE=\"PROFESION\">Especialista en Medicina de Familia</TAG>. <TAG TYPE=\"HOSPITAL\">Hospital Universitario La Paz</TAG>. <TAG TYPE=\"CALLE\">Paseo de la Castellana 261</TAG>. <TAG TYPE=\"TERRITORIO\">28046</TAG>. <TAG TYPE=\"TERRITORIO\">Madrid</TAG>. <TAG TYPE=\"PAIS\">España</TAG>.\n",
    "            Fecha de ingreso: <TAG TYPE=\"FECHAS\">20/03/2022</TAG>.\n",
    "            Centro de salud: <TAG TYPE=\"CENTRO_SALUD\">Centro de Salud Villaverde</TAG>.\n",
    "            Informe clínico del paciente:\n",
    "            Paciente de <TAG TYPE=\"EDAD_SUJETO_ASISTENCIA\">54 años</TAG> de edad, con antecedentes de <TAG TYPE=\"OTROS_SUJETO_ASISTENCIA\">enfermedad cardiovascular</TAG>, que acude al servicio de urgencias con síntomas de dolor torácico radiante al brazo izquierdo y dificultad para respirar. La exploración física revela taquicardia, hipertensión y roncus bilaterales. Los análisis de sangre muestran elevación de la creatinina y la troponina. Se solicitan estudios de imagen (Rx tórax y ecocardiograma) que revelan un infarto de miocardio en el segmento anterior del ventrículo izquierdo. Se instaura tratamiento con anticoagulantes y analgésicos, y se realiza una angioplastia coronaria para restaurar la circulación sanguínea en el área afectada. El paciente se encuentra estable y se le realiza una vigilancia estrecha en la unidad de cuidados intensivos.\n",
    "            Antecedentes:\n",
    "            - <TAG TYPE=\"OTROS_SUJETO_ASISTENCIA\">Enfermedad cardiovascular</TAG>\n",
    "            - <TAG TYPE=\"OTROS_SUJETO_ASISTENCIA\">Hipertensión</TAG>\n",
    "            - <TAG TYPE=\"OTROS_SUJETO_ASISTENCIA\">Diabetes mellitus tipo 2</TAG>\n",
    "            Evolución y comentarios:\n",
    "            El paciente se encuentra en una evolución estable y se le realiza una vigilancia estrecha en la unidad de cuidados intensivos. Se le han realizado análisis de sangre y estudios de imagen para confirmar el diagnóstico de infarto de miocardio y se ha instaurado tratamiento con anticoagulantes y analgésicos. Se le realizará una angioplastia coronaria para restaurar la circulación sanguínea en el área afectada.\n",
    "            Remitido por:\n",
    "            Se reenvía a la unidad de cardiología para seguir el tratamiento y la evolución del paciente.\n",
    "          </TEXT>\n",
    "        </MEDDOCAN>\n",
    "        \n",
    "        Recordá que en ningún caso debes incluir advertencias, explicaciones ni descripciones sobre la tarea, sobre la instrucción que te he dado o sobre cuestiones de funcionamiento del modelo de lenguaje.\n",
    "        \"\"\"},\n",
    "     ]\n",
    "\n",
    "# Configuración de tokens\n",
    "MAX_CONTEXT_TOKENS = 8192\n",
    "MAX_GENERATION_TOKENS = 4000\n",
    "MAX_INPUT_TOKENS = MAX_CONTEXT_TOKENS - MAX_GENERATION_TOKENS\n",
    "\n",
    "\n",
    "\n",
    "# Procesar cada archivo .txt\n",
    "for filename in os.listdir(input_dir):\n",
    "    if filename.endswith(\".txt\"):\n",
    "        filepath = os.path.join(input_dir, filename)\n",
    "        with open(filepath, \"r\", encoding=\"utf-8\") as f:\n",
    "            texto = f.read()\n",
    "\n",
    "        # Crear mensaje estilo chat\n",
    "        prompt_text = prompt[0][\"content\"]\n",
    "        messages = [\n",
    "            {\"role\": \"system\", \"content\": prompt_text},\n",
    "            {\"role\": \"user\", \"content\": texto}\n",
    "        ]\n",
    "\n",
    "        # Calcular tokens de entrada\n",
    "        full_prompt = prompt_text + texto\n",
    "        total_tokens = len(tokenizer.encode(full_prompt))\n",
    "        print(f\"{filename}: Tokens de entrada: {total_tokens}\")\n",
    "\n",
    "        # Truncar el prompt si se pasa del límite permitido\n",
    "        if total_tokens > MAX_INPUT_TOKENS:\n",
    "            print(f\"Truncando prompt: {filename}\")\n",
    "            # Calcular los tokens disponibles para el prompt\n",
    "            max_tokens_prompt = MAX_INPUT_TOKENS - len(tokenizer.encode(texto))\n",
    "            \n",
    "            # Truncar el prompt para ajustarlo al límite de tokens\n",
    "            prompt_tokens = tokenizer.encode(prompt[0][\"content\"])\n",
    "            truncated_prompt_tokens = prompt_tokens[:max_tokens_prompt]\n",
    "            \n",
    "            # Decodificar los tokens truncados y actualizar el prompt\n",
    "            truncated_prompt = tokenizer.decode(truncated_prompt_tokens, skip_special_tokens=True)\n",
    "            messages[0][\"content\"] = truncated_prompt\n",
    "\n",
    "        # Generar texto\n",
    "        output = pipeline(messages, max_new_tokens=MAX_GENERATION_TOKENS)\n",
    "\n",
    "        # Extraer solo el contenido generado por el modelo\n",
    "        respuesta = output[0][\"generated_text\"][2][\"content\"]\n",
    "\n",
    "        # Guardar en .xml\n",
    "        output_filename = os.path.splitext(filename)[0] + \".xml\"\n",
    "        output_path = os.path.join(output_dir, output_filename)\n",
    "        with open(output_path, \"w\", encoding=\"utf-8\") as out_f:\n",
    "            out_f.write(respuesta)\n",
    "\n",
    "        print(f\"Procesado: {filename} → {output_filename}\")\n",
    "\n",
    "print(\"Proceso completado.\")"
   ]
  },
  {
   "cell_type": "code",
   "execution_count": null,
   "id": "808372ce-fad0-4054-a322-4e3bdb46ddfb",
   "metadata": {},
   "outputs": [],
   "source": []
  }
 ],
 "metadata": {
  "kernelspec": {
   "display_name": "Python 3 (ipykernel)",
   "language": "python",
   "name": "python3"
  },
  "language_info": {
   "codemirror_mode": {
    "name": "ipython",
    "version": 3
   },
   "file_extension": ".py",
   "mimetype": "text/x-python",
   "name": "python",
   "nbconvert_exporter": "python",
   "pygments_lexer": "ipython3",
   "version": "3.13.2"
  }
 },
 "nbformat": 4,
 "nbformat_minor": 5
}
